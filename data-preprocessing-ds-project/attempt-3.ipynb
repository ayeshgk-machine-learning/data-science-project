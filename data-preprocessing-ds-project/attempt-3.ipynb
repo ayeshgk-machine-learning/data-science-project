{
 "cells": [
  {
   "cell_type": "code",
   "execution_count": 89,
   "metadata": {
    "collapsed": true
   },
   "outputs": [],
   "source": [
    "import numpy as np\n",
    "import pandas as pd\n",
    "from sklearn.linear_model import LinearRegression"
   ]
  },
  {
   "cell_type": "code",
   "execution_count": 90,
   "outputs": [],
   "source": [
    "df_train = pd.read_csv('Train_Dataset.csv')\n",
    "df_test = pd.read_csv('Test_Dataset.csv')"
   ],
   "metadata": {
    "collapsed": false,
    "pycharm": {
     "name": "#%%\n"
    }
   }
  },
  {
   "cell_type": "code",
   "execution_count": 91,
   "outputs": [],
   "source": [
    "def drop_columns(df, columns):\n",
    "    df.drop(columns, axis=1, inplace=True, errors='ignore')"
   ],
   "metadata": {
    "collapsed": false,
    "pycharm": {
     "name": "#%%\n"
    }
   }
  },
  {
   "cell_type": "code",
   "execution_count": 92,
   "outputs": [],
   "source": [
    "def drop_duplicates(df):\n",
    "    df_train.drop_duplicates(inplace=True)"
   ],
   "metadata": {
    "collapsed": false,
    "pycharm": {
     "name": "#%%\n"
    }
   }
  },
  {
   "cell_type": "code",
   "execution_count": 93,
   "outputs": [],
   "source": [
    "def mark_minus_invalids_as_nan(df, columns):\n",
    "    for col in columns:\n",
    "        # df[df[col]<0][col]=np.nan\n",
    "        df.loc[df[col] < 0, col] = np.nan"
   ],
   "metadata": {
    "collapsed": false,
    "pycharm": {
     "name": "#%%\n"
    }
   }
  },
  {
   "cell_type": "code",
   "execution_count": 94,
   "outputs": [],
   "source": [
    "def set_nan(df, bounds):\n",
    "    data = df.copy()\n",
    "    for key in bounds.keys():\n",
    "        # print(\"values\",bounds[key])\n",
    "        data.loc[data[key] < bounds[key][0], key] = np.nan\n",
    "        data.loc[data[key] > bounds[key][1], key] = np.nan\n",
    "    return data"
   ],
   "metadata": {
    "collapsed": false,
    "pycharm": {
     "name": "#%%\n"
    }
   }
  },
  {
   "cell_type": "code",
   "execution_count": 95,
   "outputs": [],
   "source": [
    "def isNaN(num):\n",
    "    if float('-inf') < float(num) < float('inf'):\n",
    "        return False\n",
    "    else:\n",
    "        return True"
   ],
   "metadata": {
    "collapsed": false,
    "pycharm": {
     "name": "#%%\n"
    }
   }
  },
  {
   "cell_type": "code",
   "execution_count": 96,
   "outputs": [],
   "source": [
    "def categorical_features_imputation_by_mode(df,features):\n",
    "    for f in features:\n",
    "        mode=df_train[~df_train[f].isnull()][f].value_counts().idxmax()\n",
    "        print(mode)\n",
    "        df[f]=df[f].fillna(mode)\n",
    "    return df"
   ],
   "metadata": {
    "collapsed": false,
    "pycharm": {
     "name": "#%%\n"
    }
   }
  },
  {
   "cell_type": "code",
   "execution_count": 97,
   "outputs": [],
   "source": [
    "def regression_imputation(df, sets):\n",
    "    for s in sets:\n",
    "        # print(s)\n",
    "        df.loc[df[s[0]].isnull() & df[s[1]].isnull(), s[0]] = df[s[0]].median()\n",
    "        df.loc[df[s[0]].isnull() & df[s[1]].isnull(), s[1]] = df[s[1]].median()\n",
    "\n",
    "        # print(df_test.iloc[[357]])\n",
    "        # return\n",
    "        lr_0 = LinearRegression()\n",
    "        lr_1 = LinearRegression()\n",
    "        valid = df.dropna(subset=s)\n",
    "        # train_set_0 =df.dropna(subset=[s[0]])[s]\n",
    "        # train_set_1 =df.dropna(subset=[s[1]])[s]\n",
    "        # return valid\n",
    "\n",
    "        a = valid[[s[0]]]\n",
    "        b = valid[[s[1]]]\n",
    "        # print(a)\n",
    "        lr_0.fit(a, b)\n",
    "        lr_1.fit(b, a)\n",
    "        #\n",
    "        #\n",
    "        #\n",
    "        for i in df.index:\n",
    "            if isNaN(df[s[0]][i]):\n",
    "                v = np.array([[df[s[1]][i]]])\n",
    "                # print(i,df[s[0]][i],v)\n",
    "                # return\n",
    "                df[s[0]][i] = lr_1.predict(v)[0][0]\n",
    "\n",
    "            elif isNaN(df[s[1]][i]):\n",
    "                v = np.array([[df[s[0]][i]]])\n",
    "\n",
    "                df[s[1]][i] = lr_0.predict(v)[0][0]\n",
    "\n",
    "    return df\n",
    "    # df.loc[df[s[1]].isnull(),s[1]] = lr_0.predict(df[[s[0]]])[df[s[1]].isnull()]\n",
    "    # df.loc[df[s[0]].isnull(),s[0]] = lr_1.predict(df[[s[1]]])[df[s[0]].isnull()]"
   ],
   "metadata": {
    "collapsed": false,
    "pycharm": {
     "name": "#%%\n"
    }
   }
  },
  {
   "cell_type": "code",
   "execution_count": 98,
   "outputs": [],
   "source": [
    "def handle_missing_by_median(df,features):\n",
    "    data =df.copy()\n",
    "    for feature in features:\n",
    "        data.loc[data[feature].isnull(), feature] = df[feature].median()\n",
    "    return data\n"
   ],
   "metadata": {
    "collapsed": false,
    "pycharm": {
     "name": "#%%\n"
    }
   }
  },
  {
   "cell_type": "code",
   "execution_count": 99,
   "outputs": [],
   "source": [
    "df_baseline_train = df_train.copy()\n",
    "df_baseline_test = df_test.copy()"
   ],
   "metadata": {
    "collapsed": false,
    "pycharm": {
     "name": "#%%\n"
    }
   }
  },
  {
   "cell_type": "code",
   "execution_count": 100,
   "outputs": [],
   "source": [
    "drop_features = ['customer_id', 'Unnamed: 19', 'Unnamed: 20']\n",
    "drop_columns(df_train, drop_features)\n",
    "drop_columns(df_test, drop_features)"
   ],
   "metadata": {
    "collapsed": false,
    "pycharm": {
     "name": "#%%\n"
    }
   }
  },
  {
   "cell_type": "code",
   "execution_count": 101,
   "outputs": [],
   "source": [
    "drop_duplicates(df_train)\n",
    "drop_duplicates(df_test)"
   ],
   "metadata": {
    "collapsed": false,
    "pycharm": {
     "name": "#%%\n"
    }
   }
  },
  {
   "cell_type": "code",
   "execution_count": 102,
   "outputs": [],
   "source": [
    "df_train.dropna(inplace=True, subset=['Churn'])"
   ],
   "metadata": {
    "collapsed": false,
    "pycharm": {
     "name": "#%%\n"
    }
   }
  },
  {
   "cell_type": "code",
   "execution_count": 103,
   "outputs": [
    {
     "data": {
      "text/plain": "account_length            2\nlocation_code             0\nintertiol_plan            3\nvoice_mail_plan           6\nnumber_vm_messages        3\ntotal_day_min             1\ntotal_day_calls           3\ntotal_day_charge          5\ntotal_eve_min             3\ntotal_eve_calls           4\ntotal_eve_charge          8\ntotal_night_minutes       2\ntotal_night_calls         5\ntotal_night_charge        5\ntotal_intl_minutes        2\ntotal_intl_calls          3\ntotal_intl_charge         5\ncustomer_service_calls    1\nChurn                     0\ndtype: int64"
     },
     "execution_count": 103,
     "metadata": {},
     "output_type": "execute_result"
    }
   ],
   "source": [
    "df_train.isnull().sum()"
   ],
   "metadata": {
    "collapsed": false,
    "pycharm": {
     "name": "#%%\n"
    }
   }
  },
  {
   "cell_type": "code",
   "execution_count": 104,
   "outputs": [
    {
     "data": {
      "text/plain": "account_length            0\nlocation_code             2\nintertiol_plan            4\nvoice_mail_plan           4\nnumber_vm_messages        1\ntotal_day_min             3\ntotal_day_calls           3\ntotal_day_charge          4\ntotal_eve_min             2\ntotal_eve_calls           0\ntotal_eve_charge          9\ntotal_night_minutes       3\ntotal_night_calls         2\ntotal_night_charge        2\ntotal_intl_minutes        2\ntotal_intl_calls          3\ntotal_intl_charge         0\ncustomer_service_calls    1\ndtype: int64"
     },
     "execution_count": 104,
     "metadata": {},
     "output_type": "execute_result"
    }
   ],
   "source": [
    "df_test.isnull().sum()"
   ],
   "metadata": {
    "collapsed": false,
    "pycharm": {
     "name": "#%%\n"
    }
   }
  },
  {
   "cell_type": "code",
   "execution_count": 105,
   "outputs": [],
   "source": [
    "train_categorical = ['intertiol_plan', 'voice_mail_plan', 'Churn', 'location_code']\n",
    "test_categorical =  ['intertiol_plan', 'voice_mail_plan',  'location_code']\n",
    "numerical = ['account_length',\n",
    "             'number_vm_messages',\n",
    "             'total_day_min',\n",
    "             'total_day_calls',\n",
    "             'total_day_charge',\n",
    "             'total_eve_min',\n",
    "             'total_eve_calls',\n",
    "             'total_eve_charge',\n",
    "             'total_night_minutes',\n",
    "             'total_night_calls',\n",
    "             'total_night_charge',\n",
    "             'total_intl_minutes',\n",
    "             'total_intl_calls',\n",
    "             'total_intl_charge',\n",
    "             'customer_service_calls']"
   ],
   "metadata": {
    "collapsed": false,
    "pycharm": {
     "name": "#%%\n"
    }
   }
  },
  {
   "cell_type": "code",
   "execution_count": 106,
   "outputs": [],
   "source": [
    "mark_minus_invalids_as_nan(df_train, numerical)\n",
    "mark_minus_invalids_as_nan(df_test, numerical)"
   ],
   "metadata": {
    "collapsed": false,
    "pycharm": {
     "name": "#%%\n"
    }
   }
  },
  {
   "cell_type": "code",
   "execution_count": 107,
   "outputs": [
    {
     "data": {
      "text/plain": "account_length            2\nlocation_code             0\nintertiol_plan            3\nvoice_mail_plan           6\nnumber_vm_messages        4\ntotal_day_min             5\ntotal_day_calls           4\ntotal_day_charge          7\ntotal_eve_min             4\ntotal_eve_calls           6\ntotal_eve_charge          8\ntotal_night_minutes       2\ntotal_night_calls         5\ntotal_night_charge        5\ntotal_intl_minutes        5\ntotal_intl_calls          3\ntotal_intl_charge         5\ncustomer_service_calls    1\nChurn                     0\ndtype: int64"
     },
     "execution_count": 107,
     "metadata": {},
     "output_type": "execute_result"
    }
   ],
   "source": [
    "df_train.isnull().sum()"
   ],
   "metadata": {
    "collapsed": false,
    "pycharm": {
     "name": "#%%\n"
    }
   }
  },
  {
   "cell_type": "code",
   "execution_count": 108,
   "outputs": [
    {
     "data": {
      "text/plain": "account_length            0\nlocation_code             2\nintertiol_plan            4\nvoice_mail_plan           4\nnumber_vm_messages        1\ntotal_day_min             3\ntotal_day_calls           4\ntotal_day_charge          6\ntotal_eve_min             2\ntotal_eve_calls           0\ntotal_eve_charge          9\ntotal_night_minutes       4\ntotal_night_calls         2\ntotal_night_charge        2\ntotal_intl_minutes        2\ntotal_intl_calls          4\ntotal_intl_charge         0\ncustomer_service_calls    1\ndtype: int64"
     },
     "execution_count": 108,
     "metadata": {},
     "output_type": "execute_result"
    }
   ],
   "source": [
    "df_test.isnull().sum()"
   ],
   "metadata": {
    "collapsed": false,
    "pycharm": {
     "name": "#%%\n"
    }
   }
  },
  {
   "cell_type": "code",
   "execution_count": 109,
   "outputs": [],
   "source": [
    "suggested_bounds = {'account_length': [0, 250],\n",
    "                    'number_vm_messages': [0, 51],\n",
    "                    'total_day_min': [0, 500],\n",
    "                    'total_day_calls': [0, 800],\n",
    "                    'total_day_charge': [0, 61],\n",
    "                    'total_eve_min': [0, 800],\n",
    "                    'total_eve_calls': [0, 170],\n",
    "                    'total_eve_charge': [0, 31],\n",
    "                    'total_night_minutes': [0, 800],\n",
    "                    'total_night_calls': [0, 175],\n",
    "                    'total_night_charge': [0, 200],\n",
    "                    'total_intl_minutes': [0, 25],\n",
    "                    'total_intl_calls': [0, 20],\n",
    "                    'total_intl_charge': [0, 10],\n",
    "                    'customer_service_calls': [0, 10]}"
   ],
   "metadata": {
    "collapsed": false,
    "pycharm": {
     "name": "#%%\n"
    }
   }
  },
  {
   "cell_type": "code",
   "execution_count": 110,
   "outputs": [],
   "source": [
    "df_train = set_nan(df_train, suggested_bounds)\n",
    "df_test = set_nan(df_test, suggested_bounds)"
   ],
   "metadata": {
    "collapsed": false,
    "pycharm": {
     "name": "#%%\n"
    }
   }
  },
  {
   "cell_type": "code",
   "execution_count": 111,
   "outputs": [
    {
     "data": {
      "text/plain": "account_length            2\nlocation_code             0\nintertiol_plan            3\nvoice_mail_plan           6\nnumber_vm_messages        4\ntotal_day_min             6\ntotal_day_calls           5\ntotal_day_charge          7\ntotal_eve_min             5\ntotal_eve_calls           6\ntotal_eve_charge          8\ntotal_night_minutes       3\ntotal_night_calls         5\ntotal_night_charge        6\ntotal_intl_minutes        5\ntotal_intl_calls          3\ntotal_intl_charge         5\ncustomer_service_calls    1\nChurn                     0\ndtype: int64"
     },
     "execution_count": 111,
     "metadata": {},
     "output_type": "execute_result"
    }
   ],
   "source": [
    "df_train.isnull().sum()"
   ],
   "metadata": {
    "collapsed": false,
    "pycharm": {
     "name": "#%%\n"
    }
   }
  },
  {
   "cell_type": "code",
   "execution_count": 112,
   "outputs": [
    {
     "data": {
      "text/plain": "account_length            0\nlocation_code             2\nintertiol_plan            4\nvoice_mail_plan           4\nnumber_vm_messages        1\ntotal_day_min             3\ntotal_day_calls           4\ntotal_day_charge          6\ntotal_eve_min             2\ntotal_eve_calls           0\ntotal_eve_charge          9\ntotal_night_minutes       4\ntotal_night_calls         2\ntotal_night_charge        2\ntotal_intl_minutes        2\ntotal_intl_calls          4\ntotal_intl_charge         0\ncustomer_service_calls    1\ndtype: int64"
     },
     "execution_count": 112,
     "metadata": {},
     "output_type": "execute_result"
    }
   ],
   "source": [
    "df_test.isnull().sum()"
   ],
   "metadata": {
    "collapsed": false,
    "pycharm": {
     "name": "#%%\n"
    }
   }
  },
  {
   "cell_type": "code",
   "execution_count": 113,
   "outputs": [],
   "source": [
    "correlated_sets = [['total_day_charge', 'total_day_min'],\n",
    "                   ['total_eve_charge', 'total_eve_min'],\n",
    "                   ['total_night_charge', 'total_night_minutes'],\n",
    "                   ['total_intl_charge', 'total_intl_minutes']]"
   ],
   "metadata": {
    "collapsed": false,
    "pycharm": {
     "name": "#%%\n"
    }
   }
  },
  {
   "cell_type": "code",
   "execution_count": 114,
   "outputs": [
    {
     "name": "stderr",
     "output_type": "stream",
     "text": [
      "C:\\Users\\Ayesh\\AppData\\Local\\Temp\\ipykernel_5596\\3263847682.py:29: SettingWithCopyWarning: \n",
      "A value is trying to be set on a copy of a slice from a DataFrame\n",
      "\n",
      "See the caveats in the documentation: https://pandas.pydata.org/pandas-docs/stable/user_guide/indexing.html#returning-a-view-versus-a-copy\n",
      "  df[s[0]][i] = lr_1.predict(v)[0][0]\n",
      "C:\\Users\\Ayesh\\AppData\\Local\\Temp\\ipykernel_5596\\3263847682.py:29: SettingWithCopyWarning: \n",
      "A value is trying to be set on a copy of a slice from a DataFrame\n",
      "\n",
      "See the caveats in the documentation: https://pandas.pydata.org/pandas-docs/stable/user_guide/indexing.html#returning-a-view-versus-a-copy\n",
      "  df[s[0]][i] = lr_1.predict(v)[0][0]\n",
      "C:\\Users\\Ayesh\\AppData\\Local\\Temp\\ipykernel_5596\\3263847682.py:34: SettingWithCopyWarning: \n",
      "A value is trying to be set on a copy of a slice from a DataFrame\n",
      "\n",
      "See the caveats in the documentation: https://pandas.pydata.org/pandas-docs/stable/user_guide/indexing.html#returning-a-view-versus-a-copy\n",
      "  df[s[1]][i] = lr_0.predict(v)[0][0]\n",
      "C:\\Users\\Ayesh\\AppData\\Local\\Temp\\ipykernel_5596\\3263847682.py:34: SettingWithCopyWarning: \n",
      "A value is trying to be set on a copy of a slice from a DataFrame\n",
      "\n",
      "See the caveats in the documentation: https://pandas.pydata.org/pandas-docs/stable/user_guide/indexing.html#returning-a-view-versus-a-copy\n",
      "  df[s[1]][i] = lr_0.predict(v)[0][0]\n",
      "C:\\Users\\Ayesh\\AppData\\Local\\Temp\\ipykernel_5596\\3263847682.py:34: SettingWithCopyWarning: \n",
      "A value is trying to be set on a copy of a slice from a DataFrame\n",
      "\n",
      "See the caveats in the documentation: https://pandas.pydata.org/pandas-docs/stable/user_guide/indexing.html#returning-a-view-versus-a-copy\n",
      "  df[s[1]][i] = lr_0.predict(v)[0][0]\n",
      "C:\\Users\\Ayesh\\AppData\\Local\\Temp\\ipykernel_5596\\3263847682.py:34: SettingWithCopyWarning: \n",
      "A value is trying to be set on a copy of a slice from a DataFrame\n",
      "\n",
      "See the caveats in the documentation: https://pandas.pydata.org/pandas-docs/stable/user_guide/indexing.html#returning-a-view-versus-a-copy\n",
      "  df[s[1]][i] = lr_0.predict(v)[0][0]\n",
      "C:\\Users\\Ayesh\\AppData\\Local\\Temp\\ipykernel_5596\\3263847682.py:29: SettingWithCopyWarning: \n",
      "A value is trying to be set on a copy of a slice from a DataFrame\n",
      "\n",
      "See the caveats in the documentation: https://pandas.pydata.org/pandas-docs/stable/user_guide/indexing.html#returning-a-view-versus-a-copy\n",
      "  df[s[0]][i] = lr_1.predict(v)[0][0]\n",
      "C:\\Users\\Ayesh\\AppData\\Local\\Temp\\ipykernel_5596\\3263847682.py:34: SettingWithCopyWarning: \n",
      "A value is trying to be set on a copy of a slice from a DataFrame\n",
      "\n",
      "See the caveats in the documentation: https://pandas.pydata.org/pandas-docs/stable/user_guide/indexing.html#returning-a-view-versus-a-copy\n",
      "  df[s[1]][i] = lr_0.predict(v)[0][0]\n",
      "C:\\Users\\Ayesh\\AppData\\Local\\Temp\\ipykernel_5596\\3263847682.py:29: SettingWithCopyWarning: \n",
      "A value is trying to be set on a copy of a slice from a DataFrame\n",
      "\n",
      "See the caveats in the documentation: https://pandas.pydata.org/pandas-docs/stable/user_guide/indexing.html#returning-a-view-versus-a-copy\n",
      "  df[s[0]][i] = lr_1.predict(v)[0][0]\n",
      "C:\\Users\\Ayesh\\AppData\\Local\\Temp\\ipykernel_5596\\3263847682.py:34: SettingWithCopyWarning: \n",
      "A value is trying to be set on a copy of a slice from a DataFrame\n",
      "\n",
      "See the caveats in the documentation: https://pandas.pydata.org/pandas-docs/stable/user_guide/indexing.html#returning-a-view-versus-a-copy\n",
      "  df[s[1]][i] = lr_0.predict(v)[0][0]\n",
      "C:\\Users\\Ayesh\\AppData\\Local\\Temp\\ipykernel_5596\\3263847682.py:29: SettingWithCopyWarning: \n",
      "A value is trying to be set on a copy of a slice from a DataFrame\n",
      "\n",
      "See the caveats in the documentation: https://pandas.pydata.org/pandas-docs/stable/user_guide/indexing.html#returning-a-view-versus-a-copy\n",
      "  df[s[0]][i] = lr_1.predict(v)[0][0]\n",
      "C:\\Users\\Ayesh\\AppData\\Local\\Temp\\ipykernel_5596\\3263847682.py:29: SettingWithCopyWarning: \n",
      "A value is trying to be set on a copy of a slice from a DataFrame\n",
      "\n",
      "See the caveats in the documentation: https://pandas.pydata.org/pandas-docs/stable/user_guide/indexing.html#returning-a-view-versus-a-copy\n",
      "  df[s[0]][i] = lr_1.predict(v)[0][0]\n",
      "C:\\Users\\Ayesh\\AppData\\Local\\Temp\\ipykernel_5596\\3263847682.py:29: SettingWithCopyWarning: \n",
      "A value is trying to be set on a copy of a slice from a DataFrame\n",
      "\n",
      "See the caveats in the documentation: https://pandas.pydata.org/pandas-docs/stable/user_guide/indexing.html#returning-a-view-versus-a-copy\n",
      "  df[s[0]][i] = lr_1.predict(v)[0][0]\n",
      "C:\\Users\\Ayesh\\AppData\\Local\\Temp\\ipykernel_5596\\3263847682.py:34: SettingWithCopyWarning: \n",
      "A value is trying to be set on a copy of a slice from a DataFrame\n",
      "\n",
      "See the caveats in the documentation: https://pandas.pydata.org/pandas-docs/stable/user_guide/indexing.html#returning-a-view-versus-a-copy\n",
      "  df[s[1]][i] = lr_0.predict(v)[0][0]\n",
      "C:\\Users\\Ayesh\\AppData\\Local\\Temp\\ipykernel_5596\\3263847682.py:34: SettingWithCopyWarning: \n",
      "A value is trying to be set on a copy of a slice from a DataFrame\n",
      "\n",
      "See the caveats in the documentation: https://pandas.pydata.org/pandas-docs/stable/user_guide/indexing.html#returning-a-view-versus-a-copy\n",
      "  df[s[1]][i] = lr_0.predict(v)[0][0]\n",
      "C:\\Users\\Ayesh\\AppData\\Local\\Temp\\ipykernel_5596\\3263847682.py:34: SettingWithCopyWarning: \n",
      "A value is trying to be set on a copy of a slice from a DataFrame\n",
      "\n",
      "See the caveats in the documentation: https://pandas.pydata.org/pandas-docs/stable/user_guide/indexing.html#returning-a-view-versus-a-copy\n",
      "  df[s[1]][i] = lr_0.predict(v)[0][0]\n",
      "C:\\Users\\Ayesh\\AppData\\Local\\Temp\\ipykernel_5596\\3263847682.py:29: SettingWithCopyWarning: \n",
      "A value is trying to be set on a copy of a slice from a DataFrame\n",
      "\n",
      "See the caveats in the documentation: https://pandas.pydata.org/pandas-docs/stable/user_guide/indexing.html#returning-a-view-versus-a-copy\n",
      "  df[s[0]][i] = lr_1.predict(v)[0][0]\n",
      "C:\\Users\\Ayesh\\AppData\\Local\\Temp\\ipykernel_5596\\3263847682.py:34: SettingWithCopyWarning: \n",
      "A value is trying to be set on a copy of a slice from a DataFrame\n",
      "\n",
      "See the caveats in the documentation: https://pandas.pydata.org/pandas-docs/stable/user_guide/indexing.html#returning-a-view-versus-a-copy\n",
      "  df[s[1]][i] = lr_0.predict(v)[0][0]\n",
      "C:\\Users\\Ayesh\\AppData\\Local\\Temp\\ipykernel_5596\\3263847682.py:34: SettingWithCopyWarning: \n",
      "A value is trying to be set on a copy of a slice from a DataFrame\n",
      "\n",
      "See the caveats in the documentation: https://pandas.pydata.org/pandas-docs/stable/user_guide/indexing.html#returning-a-view-versus-a-copy\n",
      "  df[s[1]][i] = lr_0.predict(v)[0][0]\n",
      "C:\\Users\\Ayesh\\AppData\\Local\\Temp\\ipykernel_5596\\3263847682.py:29: SettingWithCopyWarning: \n",
      "A value is trying to be set on a copy of a slice from a DataFrame\n",
      "\n",
      "See the caveats in the documentation: https://pandas.pydata.org/pandas-docs/stable/user_guide/indexing.html#returning-a-view-versus-a-copy\n",
      "  df[s[0]][i] = lr_1.predict(v)[0][0]\n",
      "C:\\Users\\Ayesh\\AppData\\Local\\Temp\\ipykernel_5596\\3263847682.py:29: SettingWithCopyWarning: \n",
      "A value is trying to be set on a copy of a slice from a DataFrame\n",
      "\n",
      "See the caveats in the documentation: https://pandas.pydata.org/pandas-docs/stable/user_guide/indexing.html#returning-a-view-versus-a-copy\n",
      "  df[s[0]][i] = lr_1.predict(v)[0][0]\n",
      "C:\\Users\\Ayesh\\AppData\\Local\\Temp\\ipykernel_5596\\3263847682.py:29: SettingWithCopyWarning: \n",
      "A value is trying to be set on a copy of a slice from a DataFrame\n",
      "\n",
      "See the caveats in the documentation: https://pandas.pydata.org/pandas-docs/stable/user_guide/indexing.html#returning-a-view-versus-a-copy\n",
      "  df[s[0]][i] = lr_1.predict(v)[0][0]\n",
      "C:\\Users\\Ayesh\\AppData\\Local\\Temp\\ipykernel_5596\\3263847682.py:29: SettingWithCopyWarning: \n",
      "A value is trying to be set on a copy of a slice from a DataFrame\n",
      "\n",
      "See the caveats in the documentation: https://pandas.pydata.org/pandas-docs/stable/user_guide/indexing.html#returning-a-view-versus-a-copy\n",
      "  df[s[0]][i] = lr_1.predict(v)[0][0]\n",
      "C:\\Users\\Ayesh\\AppData\\Local\\Temp\\ipykernel_5596\\3263847682.py:29: SettingWithCopyWarning: \n",
      "A value is trying to be set on a copy of a slice from a DataFrame\n",
      "\n",
      "See the caveats in the documentation: https://pandas.pydata.org/pandas-docs/stable/user_guide/indexing.html#returning-a-view-versus-a-copy\n",
      "  df[s[0]][i] = lr_1.predict(v)[0][0]\n",
      "C:\\Users\\Ayesh\\AppData\\Local\\Temp\\ipykernel_5596\\3263847682.py:29: SettingWithCopyWarning: \n",
      "A value is trying to be set on a copy of a slice from a DataFrame\n",
      "\n",
      "See the caveats in the documentation: https://pandas.pydata.org/pandas-docs/stable/user_guide/indexing.html#returning-a-view-versus-a-copy\n",
      "  df[s[0]][i] = lr_1.predict(v)[0][0]\n",
      "C:\\Users\\Ayesh\\AppData\\Local\\Temp\\ipykernel_5596\\3263847682.py:29: SettingWithCopyWarning: \n",
      "A value is trying to be set on a copy of a slice from a DataFrame\n",
      "\n",
      "See the caveats in the documentation: https://pandas.pydata.org/pandas-docs/stable/user_guide/indexing.html#returning-a-view-versus-a-copy\n",
      "  df[s[0]][i] = lr_1.predict(v)[0][0]\n",
      "C:\\Users\\Ayesh\\AppData\\Local\\Temp\\ipykernel_5596\\3263847682.py:34: SettingWithCopyWarning: \n",
      "A value is trying to be set on a copy of a slice from a DataFrame\n",
      "\n",
      "See the caveats in the documentation: https://pandas.pydata.org/pandas-docs/stable/user_guide/indexing.html#returning-a-view-versus-a-copy\n",
      "  df[s[1]][i] = lr_0.predict(v)[0][0]\n",
      "C:\\Users\\Ayesh\\AppData\\Local\\Temp\\ipykernel_5596\\3263847682.py:29: SettingWithCopyWarning: \n",
      "A value is trying to be set on a copy of a slice from a DataFrame\n",
      "\n",
      "See the caveats in the documentation: https://pandas.pydata.org/pandas-docs/stable/user_guide/indexing.html#returning-a-view-versus-a-copy\n",
      "  df[s[0]][i] = lr_1.predict(v)[0][0]\n",
      "C:\\Users\\Ayesh\\AppData\\Local\\Temp\\ipykernel_5596\\3263847682.py:29: SettingWithCopyWarning: \n",
      "A value is trying to be set on a copy of a slice from a DataFrame\n",
      "\n",
      "See the caveats in the documentation: https://pandas.pydata.org/pandas-docs/stable/user_guide/indexing.html#returning-a-view-versus-a-copy\n",
      "  df[s[0]][i] = lr_1.predict(v)[0][0]\n",
      "C:\\Users\\Ayesh\\AppData\\Local\\Temp\\ipykernel_5596\\3263847682.py:34: SettingWithCopyWarning: \n",
      "A value is trying to be set on a copy of a slice from a DataFrame\n",
      "\n",
      "See the caveats in the documentation: https://pandas.pydata.org/pandas-docs/stable/user_guide/indexing.html#returning-a-view-versus-a-copy\n",
      "  df[s[1]][i] = lr_0.predict(v)[0][0]\n",
      "C:\\Users\\Ayesh\\AppData\\Local\\Temp\\ipykernel_5596\\3263847682.py:29: SettingWithCopyWarning: \n",
      "A value is trying to be set on a copy of a slice from a DataFrame\n",
      "\n",
      "See the caveats in the documentation: https://pandas.pydata.org/pandas-docs/stable/user_guide/indexing.html#returning-a-view-versus-a-copy\n",
      "  df[s[0]][i] = lr_1.predict(v)[0][0]\n",
      "C:\\Users\\Ayesh\\AppData\\Local\\Temp\\ipykernel_5596\\3263847682.py:29: SettingWithCopyWarning: \n",
      "A value is trying to be set on a copy of a slice from a DataFrame\n",
      "\n",
      "See the caveats in the documentation: https://pandas.pydata.org/pandas-docs/stable/user_guide/indexing.html#returning-a-view-versus-a-copy\n",
      "  df[s[0]][i] = lr_1.predict(v)[0][0]\n",
      "C:\\Users\\Ayesh\\AppData\\Local\\Temp\\ipykernel_5596\\3263847682.py:34: SettingWithCopyWarning: \n",
      "A value is trying to be set on a copy of a slice from a DataFrame\n",
      "\n",
      "See the caveats in the documentation: https://pandas.pydata.org/pandas-docs/stable/user_guide/indexing.html#returning-a-view-versus-a-copy\n",
      "  df[s[1]][i] = lr_0.predict(v)[0][0]\n",
      "C:\\Users\\Ayesh\\AppData\\Local\\Temp\\ipykernel_5596\\3263847682.py:34: SettingWithCopyWarning: \n",
      "A value is trying to be set on a copy of a slice from a DataFrame\n",
      "\n",
      "See the caveats in the documentation: https://pandas.pydata.org/pandas-docs/stable/user_guide/indexing.html#returning-a-view-versus-a-copy\n",
      "  df[s[1]][i] = lr_0.predict(v)[0][0]\n",
      "C:\\Users\\Ayesh\\AppData\\Local\\Temp\\ipykernel_5596\\3263847682.py:34: SettingWithCopyWarning: \n",
      "A value is trying to be set on a copy of a slice from a DataFrame\n",
      "\n",
      "See the caveats in the documentation: https://pandas.pydata.org/pandas-docs/stable/user_guide/indexing.html#returning-a-view-versus-a-copy\n",
      "  df[s[1]][i] = lr_0.predict(v)[0][0]\n",
      "C:\\Users\\Ayesh\\AppData\\Local\\Temp\\ipykernel_5596\\3263847682.py:29: SettingWithCopyWarning: \n",
      "A value is trying to be set on a copy of a slice from a DataFrame\n",
      "\n",
      "See the caveats in the documentation: https://pandas.pydata.org/pandas-docs/stable/user_guide/indexing.html#returning-a-view-versus-a-copy\n",
      "  df[s[0]][i] = lr_1.predict(v)[0][0]\n",
      "C:\\Users\\Ayesh\\AppData\\Local\\Temp\\ipykernel_5596\\3263847682.py:34: SettingWithCopyWarning: \n",
      "A value is trying to be set on a copy of a slice from a DataFrame\n",
      "\n",
      "See the caveats in the documentation: https://pandas.pydata.org/pandas-docs/stable/user_guide/indexing.html#returning-a-view-versus-a-copy\n",
      "  df[s[1]][i] = lr_0.predict(v)[0][0]\n",
      "C:\\Users\\Ayesh\\AppData\\Local\\Temp\\ipykernel_5596\\3263847682.py:34: SettingWithCopyWarning: \n",
      "A value is trying to be set on a copy of a slice from a DataFrame\n",
      "\n",
      "See the caveats in the documentation: https://pandas.pydata.org/pandas-docs/stable/user_guide/indexing.html#returning-a-view-versus-a-copy\n",
      "  df[s[1]][i] = lr_0.predict(v)[0][0]\n",
      "C:\\Users\\Ayesh\\AppData\\Local\\Temp\\ipykernel_5596\\3263847682.py:34: SettingWithCopyWarning: \n",
      "A value is trying to be set on a copy of a slice from a DataFrame\n",
      "\n",
      "See the caveats in the documentation: https://pandas.pydata.org/pandas-docs/stable/user_guide/indexing.html#returning-a-view-versus-a-copy\n",
      "  df[s[1]][i] = lr_0.predict(v)[0][0]\n",
      "C:\\Users\\Ayesh\\AppData\\Local\\Temp\\ipykernel_5596\\3263847682.py:29: SettingWithCopyWarning: \n",
      "A value is trying to be set on a copy of a slice from a DataFrame\n",
      "\n",
      "See the caveats in the documentation: https://pandas.pydata.org/pandas-docs/stable/user_guide/indexing.html#returning-a-view-versus-a-copy\n",
      "  df[s[0]][i] = lr_1.predict(v)[0][0]\n",
      "C:\\Users\\Ayesh\\AppData\\Local\\Temp\\ipykernel_5596\\3263847682.py:29: SettingWithCopyWarning: \n",
      "A value is trying to be set on a copy of a slice from a DataFrame\n",
      "\n",
      "See the caveats in the documentation: https://pandas.pydata.org/pandas-docs/stable/user_guide/indexing.html#returning-a-view-versus-a-copy\n",
      "  df[s[0]][i] = lr_1.predict(v)[0][0]\n",
      "C:\\Users\\Ayesh\\AppData\\Local\\Temp\\ipykernel_5596\\3263847682.py:29: SettingWithCopyWarning: \n",
      "A value is trying to be set on a copy of a slice from a DataFrame\n",
      "\n",
      "See the caveats in the documentation: https://pandas.pydata.org/pandas-docs/stable/user_guide/indexing.html#returning-a-view-versus-a-copy\n",
      "  df[s[0]][i] = lr_1.predict(v)[0][0]\n",
      "C:\\Users\\Ayesh\\AppData\\Local\\Temp\\ipykernel_5596\\3263847682.py:29: SettingWithCopyWarning: \n",
      "A value is trying to be set on a copy of a slice from a DataFrame\n",
      "\n",
      "See the caveats in the documentation: https://pandas.pydata.org/pandas-docs/stable/user_guide/indexing.html#returning-a-view-versus-a-copy\n",
      "  df[s[0]][i] = lr_1.predict(v)[0][0]\n",
      "C:\\Users\\Ayesh\\AppData\\Local\\Temp\\ipykernel_5596\\3263847682.py:34: SettingWithCopyWarning: \n",
      "A value is trying to be set on a copy of a slice from a DataFrame\n",
      "\n",
      "See the caveats in the documentation: https://pandas.pydata.org/pandas-docs/stable/user_guide/indexing.html#returning-a-view-versus-a-copy\n",
      "  df[s[1]][i] = lr_0.predict(v)[0][0]\n",
      "C:\\Users\\Ayesh\\AppData\\Local\\Temp\\ipykernel_5596\\3263847682.py:29: SettingWithCopyWarning: \n",
      "A value is trying to be set on a copy of a slice from a DataFrame\n",
      "\n",
      "See the caveats in the documentation: https://pandas.pydata.org/pandas-docs/stable/user_guide/indexing.html#returning-a-view-versus-a-copy\n",
      "  df[s[0]][i] = lr_1.predict(v)[0][0]\n",
      "C:\\Users\\Ayesh\\AppData\\Local\\Temp\\ipykernel_5596\\3263847682.py:34: SettingWithCopyWarning: \n",
      "A value is trying to be set on a copy of a slice from a DataFrame\n",
      "\n",
      "See the caveats in the documentation: https://pandas.pydata.org/pandas-docs/stable/user_guide/indexing.html#returning-a-view-versus-a-copy\n",
      "  df[s[1]][i] = lr_0.predict(v)[0][0]\n",
      "C:\\Users\\Ayesh\\AppData\\Local\\Temp\\ipykernel_5596\\3263847682.py:29: SettingWithCopyWarning: \n",
      "A value is trying to be set on a copy of a slice from a DataFrame\n",
      "\n",
      "See the caveats in the documentation: https://pandas.pydata.org/pandas-docs/stable/user_guide/indexing.html#returning-a-view-versus-a-copy\n",
      "  df[s[0]][i] = lr_1.predict(v)[0][0]\n",
      "C:\\Users\\Ayesh\\AppData\\Local\\Temp\\ipykernel_5596\\3263847682.py:29: SettingWithCopyWarning: \n",
      "A value is trying to be set on a copy of a slice from a DataFrame\n",
      "\n",
      "See the caveats in the documentation: https://pandas.pydata.org/pandas-docs/stable/user_guide/indexing.html#returning-a-view-versus-a-copy\n",
      "  df[s[0]][i] = lr_1.predict(v)[0][0]\n",
      "C:\\Users\\Ayesh\\AppData\\Local\\Temp\\ipykernel_5596\\3263847682.py:34: SettingWithCopyWarning: \n",
      "A value is trying to be set on a copy of a slice from a DataFrame\n",
      "\n",
      "See the caveats in the documentation: https://pandas.pydata.org/pandas-docs/stable/user_guide/indexing.html#returning-a-view-versus-a-copy\n",
      "  df[s[1]][i] = lr_0.predict(v)[0][0]\n",
      "C:\\Users\\Ayesh\\AppData\\Local\\Temp\\ipykernel_5596\\3263847682.py:29: SettingWithCopyWarning: \n",
      "A value is trying to be set on a copy of a slice from a DataFrame\n",
      "\n",
      "See the caveats in the documentation: https://pandas.pydata.org/pandas-docs/stable/user_guide/indexing.html#returning-a-view-versus-a-copy\n",
      "  df[s[0]][i] = lr_1.predict(v)[0][0]\n",
      "C:\\Users\\Ayesh\\AppData\\Local\\Temp\\ipykernel_5596\\3263847682.py:29: SettingWithCopyWarning: \n",
      "A value is trying to be set on a copy of a slice from a DataFrame\n",
      "\n",
      "See the caveats in the documentation: https://pandas.pydata.org/pandas-docs/stable/user_guide/indexing.html#returning-a-view-versus-a-copy\n",
      "  df[s[0]][i] = lr_1.predict(v)[0][0]\n",
      "C:\\Users\\Ayesh\\AppData\\Local\\Temp\\ipykernel_5596\\3263847682.py:34: SettingWithCopyWarning: \n",
      "A value is trying to be set on a copy of a slice from a DataFrame\n",
      "\n",
      "See the caveats in the documentation: https://pandas.pydata.org/pandas-docs/stable/user_guide/indexing.html#returning-a-view-versus-a-copy\n",
      "  df[s[1]][i] = lr_0.predict(v)[0][0]\n",
      "C:\\Users\\Ayesh\\AppData\\Local\\Temp\\ipykernel_5596\\3263847682.py:34: SettingWithCopyWarning: \n",
      "A value is trying to be set on a copy of a slice from a DataFrame\n",
      "\n",
      "See the caveats in the documentation: https://pandas.pydata.org/pandas-docs/stable/user_guide/indexing.html#returning-a-view-versus-a-copy\n",
      "  df[s[1]][i] = lr_0.predict(v)[0][0]\n",
      "C:\\Users\\Ayesh\\AppData\\Local\\Temp\\ipykernel_5596\\3263847682.py:29: SettingWithCopyWarning: \n",
      "A value is trying to be set on a copy of a slice from a DataFrame\n",
      "\n",
      "See the caveats in the documentation: https://pandas.pydata.org/pandas-docs/stable/user_guide/indexing.html#returning-a-view-versus-a-copy\n",
      "  df[s[0]][i] = lr_1.predict(v)[0][0]\n",
      "C:\\Users\\Ayesh\\AppData\\Local\\Temp\\ipykernel_5596\\3263847682.py:29: SettingWithCopyWarning: \n",
      "A value is trying to be set on a copy of a slice from a DataFrame\n",
      "\n",
      "See the caveats in the documentation: https://pandas.pydata.org/pandas-docs/stable/user_guide/indexing.html#returning-a-view-versus-a-copy\n",
      "  df[s[0]][i] = lr_1.predict(v)[0][0]\n",
      "C:\\Users\\Ayesh\\AppData\\Local\\Temp\\ipykernel_5596\\3263847682.py:29: SettingWithCopyWarning: \n",
      "A value is trying to be set on a copy of a slice from a DataFrame\n",
      "\n",
      "See the caveats in the documentation: https://pandas.pydata.org/pandas-docs/stable/user_guide/indexing.html#returning-a-view-versus-a-copy\n",
      "  df[s[0]][i] = lr_1.predict(v)[0][0]\n",
      "C:\\Users\\Ayesh\\AppData\\Local\\Temp\\ipykernel_5596\\3263847682.py:29: SettingWithCopyWarning: \n",
      "A value is trying to be set on a copy of a slice from a DataFrame\n",
      "\n",
      "See the caveats in the documentation: https://pandas.pydata.org/pandas-docs/stable/user_guide/indexing.html#returning-a-view-versus-a-copy\n",
      "  df[s[0]][i] = lr_1.predict(v)[0][0]\n",
      "C:\\Users\\Ayesh\\AppData\\Local\\Temp\\ipykernel_5596\\3263847682.py:29: SettingWithCopyWarning: \n",
      "A value is trying to be set on a copy of a slice from a DataFrame\n",
      "\n",
      "See the caveats in the documentation: https://pandas.pydata.org/pandas-docs/stable/user_guide/indexing.html#returning-a-view-versus-a-copy\n",
      "  df[s[0]][i] = lr_1.predict(v)[0][0]\n",
      "C:\\Users\\Ayesh\\AppData\\Local\\Temp\\ipykernel_5596\\3263847682.py:29: SettingWithCopyWarning: \n",
      "A value is trying to be set on a copy of a slice from a DataFrame\n",
      "\n",
      "See the caveats in the documentation: https://pandas.pydata.org/pandas-docs/stable/user_guide/indexing.html#returning-a-view-versus-a-copy\n",
      "  df[s[0]][i] = lr_1.predict(v)[0][0]\n",
      "C:\\Users\\Ayesh\\AppData\\Local\\Temp\\ipykernel_5596\\3263847682.py:29: SettingWithCopyWarning: \n",
      "A value is trying to be set on a copy of a slice from a DataFrame\n",
      "\n",
      "See the caveats in the documentation: https://pandas.pydata.org/pandas-docs/stable/user_guide/indexing.html#returning-a-view-versus-a-copy\n",
      "  df[s[0]][i] = lr_1.predict(v)[0][0]\n",
      "C:\\Users\\Ayesh\\AppData\\Local\\Temp\\ipykernel_5596\\3263847682.py:29: SettingWithCopyWarning: \n",
      "A value is trying to be set on a copy of a slice from a DataFrame\n",
      "\n",
      "See the caveats in the documentation: https://pandas.pydata.org/pandas-docs/stable/user_guide/indexing.html#returning-a-view-versus-a-copy\n",
      "  df[s[0]][i] = lr_1.predict(v)[0][0]\n",
      "C:\\Users\\Ayesh\\AppData\\Local\\Temp\\ipykernel_5596\\3263847682.py:29: SettingWithCopyWarning: \n",
      "A value is trying to be set on a copy of a slice from a DataFrame\n",
      "\n",
      "See the caveats in the documentation: https://pandas.pydata.org/pandas-docs/stable/user_guide/indexing.html#returning-a-view-versus-a-copy\n",
      "  df[s[0]][i] = lr_1.predict(v)[0][0]\n",
      "C:\\Users\\Ayesh\\AppData\\Local\\Temp\\ipykernel_5596\\3263847682.py:29: SettingWithCopyWarning: \n",
      "A value is trying to be set on a copy of a slice from a DataFrame\n",
      "\n",
      "See the caveats in the documentation: https://pandas.pydata.org/pandas-docs/stable/user_guide/indexing.html#returning-a-view-versus-a-copy\n",
      "  df[s[0]][i] = lr_1.predict(v)[0][0]\n",
      "C:\\Users\\Ayesh\\AppData\\Local\\Temp\\ipykernel_5596\\3263847682.py:34: SettingWithCopyWarning: \n",
      "A value is trying to be set on a copy of a slice from a DataFrame\n",
      "\n",
      "See the caveats in the documentation: https://pandas.pydata.org/pandas-docs/stable/user_guide/indexing.html#returning-a-view-versus-a-copy\n",
      "  df[s[1]][i] = lr_0.predict(v)[0][0]\n",
      "C:\\Users\\Ayesh\\AppData\\Local\\Temp\\ipykernel_5596\\3263847682.py:29: SettingWithCopyWarning: \n",
      "A value is trying to be set on a copy of a slice from a DataFrame\n",
      "\n",
      "See the caveats in the documentation: https://pandas.pydata.org/pandas-docs/stable/user_guide/indexing.html#returning-a-view-versus-a-copy\n",
      "  df[s[0]][i] = lr_1.predict(v)[0][0]\n",
      "C:\\Users\\Ayesh\\AppData\\Local\\Temp\\ipykernel_5596\\3263847682.py:34: SettingWithCopyWarning: \n",
      "A value is trying to be set on a copy of a slice from a DataFrame\n",
      "\n",
      "See the caveats in the documentation: https://pandas.pydata.org/pandas-docs/stable/user_guide/indexing.html#returning-a-view-versus-a-copy\n",
      "  df[s[1]][i] = lr_0.predict(v)[0][0]\n",
      "C:\\Users\\Ayesh\\AppData\\Local\\Temp\\ipykernel_5596\\3263847682.py:34: SettingWithCopyWarning: \n",
      "A value is trying to be set on a copy of a slice from a DataFrame\n",
      "\n",
      "See the caveats in the documentation: https://pandas.pydata.org/pandas-docs/stable/user_guide/indexing.html#returning-a-view-versus-a-copy\n",
      "  df[s[1]][i] = lr_0.predict(v)[0][0]\n",
      "C:\\Users\\Ayesh\\AppData\\Local\\Temp\\ipykernel_5596\\3263847682.py:34: SettingWithCopyWarning: \n",
      "A value is trying to be set on a copy of a slice from a DataFrame\n",
      "\n",
      "See the caveats in the documentation: https://pandas.pydata.org/pandas-docs/stable/user_guide/indexing.html#returning-a-view-versus-a-copy\n",
      "  df[s[1]][i] = lr_0.predict(v)[0][0]\n",
      "C:\\Users\\Ayesh\\AppData\\Local\\Temp\\ipykernel_5596\\3263847682.py:34: SettingWithCopyWarning: \n",
      "A value is trying to be set on a copy of a slice from a DataFrame\n",
      "\n",
      "See the caveats in the documentation: https://pandas.pydata.org/pandas-docs/stable/user_guide/indexing.html#returning-a-view-versus-a-copy\n",
      "  df[s[1]][i] = lr_0.predict(v)[0][0]\n",
      "C:\\Users\\Ayesh\\AppData\\Local\\Temp\\ipykernel_5596\\3263847682.py:34: SettingWithCopyWarning: \n",
      "A value is trying to be set on a copy of a slice from a DataFrame\n",
      "\n",
      "See the caveats in the documentation: https://pandas.pydata.org/pandas-docs/stable/user_guide/indexing.html#returning-a-view-versus-a-copy\n",
      "  df[s[1]][i] = lr_0.predict(v)[0][0]\n"
     ]
    }
   ],
   "source": [
    "df_train = regression_imputation(df_train, correlated_sets)\n",
    "df_test=regression_imputation(df_test, correlated_sets)"
   ],
   "metadata": {
    "collapsed": false,
    "pycharm": {
     "name": "#%%\n"
    }
   }
  },
  {
   "cell_type": "code",
   "execution_count": 115,
   "outputs": [
    {
     "data": {
      "text/plain": "     account_length  location_code intertiol_plan voice_mail_plan  \\\n357           131.0          445.0             no              no   \n\n     number_vm_messages  total_day_min  total_day_calls  total_day_charge  \\\n357                 0.0     183.974093             79.0            31.305   \n\n     total_eve_min  total_eve_calls  total_eve_charge  total_night_minutes  \\\n357          201.0            114.0             17.09                151.2   \n\n     total_night_calls  total_night_charge  total_intl_minutes  \\\n357              111.0                 6.8                11.6   \n\n     total_intl_calls  total_intl_charge  customer_service_calls  \n357               5.0               3.13                     1.0  ",
      "text/html": "<div>\n<style scoped>\n    .dataframe tbody tr th:only-of-type {\n        vertical-align: middle;\n    }\n\n    .dataframe tbody tr th {\n        vertical-align: top;\n    }\n\n    .dataframe thead th {\n        text-align: right;\n    }\n</style>\n<table border=\"1\" class=\"dataframe\">\n  <thead>\n    <tr style=\"text-align: right;\">\n      <th></th>\n      <th>account_length</th>\n      <th>location_code</th>\n      <th>intertiol_plan</th>\n      <th>voice_mail_plan</th>\n      <th>number_vm_messages</th>\n      <th>total_day_min</th>\n      <th>total_day_calls</th>\n      <th>total_day_charge</th>\n      <th>total_eve_min</th>\n      <th>total_eve_calls</th>\n      <th>total_eve_charge</th>\n      <th>total_night_minutes</th>\n      <th>total_night_calls</th>\n      <th>total_night_charge</th>\n      <th>total_intl_minutes</th>\n      <th>total_intl_calls</th>\n      <th>total_intl_charge</th>\n      <th>customer_service_calls</th>\n    </tr>\n  </thead>\n  <tbody>\n    <tr>\n      <th>357</th>\n      <td>131.0</td>\n      <td>445.0</td>\n      <td>no</td>\n      <td>no</td>\n      <td>0.0</td>\n      <td>183.974093</td>\n      <td>79.0</td>\n      <td>31.305</td>\n      <td>201.0</td>\n      <td>114.0</td>\n      <td>17.09</td>\n      <td>151.2</td>\n      <td>111.0</td>\n      <td>6.8</td>\n      <td>11.6</td>\n      <td>5.0</td>\n      <td>3.13</td>\n      <td>1.0</td>\n    </tr>\n  </tbody>\n</table>\n</div>"
     },
     "execution_count": 115,
     "metadata": {},
     "output_type": "execute_result"
    }
   ],
   "source": [
    "# df_test.iloc[[357]]"
   ],
   "metadata": {
    "collapsed": false,
    "pycharm": {
     "name": "#%%\n"
    }
   }
  },
  {
   "cell_type": "code",
   "execution_count": 116,
   "outputs": [
    {
     "data": {
      "text/plain": "account_length            2\nlocation_code             0\nintertiol_plan            3\nvoice_mail_plan           6\nnumber_vm_messages        4\ntotal_day_min             0\ntotal_day_calls           5\ntotal_day_charge          0\ntotal_eve_min             0\ntotal_eve_calls           6\ntotal_eve_charge          0\ntotal_night_minutes       0\ntotal_night_calls         5\ntotal_night_charge        0\ntotal_intl_minutes        0\ntotal_intl_calls          3\ntotal_intl_charge         0\ncustomer_service_calls    1\nChurn                     0\ndtype: int64"
     },
     "execution_count": 116,
     "metadata": {},
     "output_type": "execute_result"
    }
   ],
   "source": [
    "df_train.isnull().sum()"
   ],
   "metadata": {
    "collapsed": false,
    "pycharm": {
     "name": "#%%\n"
    }
   }
  },
  {
   "cell_type": "code",
   "execution_count": 117,
   "outputs": [
    {
     "data": {
      "text/plain": "account_length            0\nlocation_code             2\nintertiol_plan            4\nvoice_mail_plan           4\nnumber_vm_messages        1\ntotal_day_min             0\ntotal_day_calls           4\ntotal_day_charge          0\ntotal_eve_min             0\ntotal_eve_calls           0\ntotal_eve_charge          0\ntotal_night_minutes       0\ntotal_night_calls         2\ntotal_night_charge        0\ntotal_intl_minutes        0\ntotal_intl_calls          4\ntotal_intl_charge         0\ncustomer_service_calls    1\ndtype: int64"
     },
     "execution_count": 117,
     "metadata": {},
     "output_type": "execute_result"
    }
   ],
   "source": [
    "df_test.isnull().sum()"
   ],
   "metadata": {
    "collapsed": false,
    "pycharm": {
     "name": "#%%\n"
    }
   }
  },
  {
   "cell_type": "code",
   "execution_count": 118,
   "outputs": [
    {
     "name": "stdout",
     "output_type": "stream",
     "text": [
      "no\n",
      "no\n",
      "No\n",
      "452\n",
      "no\n",
      "no\n",
      "452\n"
     ]
    }
   ],
   "source": [
    "df_train=categorical_features_imputation_by_mode(df_train,train_categorical)\n",
    "df_test=categorical_features_imputation_by_mode(df_test,test_categorical)"
   ],
   "metadata": {
    "collapsed": false,
    "pycharm": {
     "name": "#%%\n"
    }
   }
  },
  {
   "cell_type": "code",
   "execution_count": 119,
   "outputs": [
    {
     "data": {
      "text/plain": "account_length            2\nlocation_code             0\nintertiol_plan            0\nvoice_mail_plan           0\nnumber_vm_messages        4\ntotal_day_min             0\ntotal_day_calls           5\ntotal_day_charge          0\ntotal_eve_min             0\ntotal_eve_calls           6\ntotal_eve_charge          0\ntotal_night_minutes       0\ntotal_night_calls         5\ntotal_night_charge        0\ntotal_intl_minutes        0\ntotal_intl_calls          3\ntotal_intl_charge         0\ncustomer_service_calls    1\nChurn                     0\ndtype: int64"
     },
     "execution_count": 119,
     "metadata": {},
     "output_type": "execute_result"
    }
   ],
   "source": [
    "df_train.isnull().sum()"
   ],
   "metadata": {
    "collapsed": false,
    "pycharm": {
     "name": "#%%\n"
    }
   }
  },
  {
   "cell_type": "code",
   "execution_count": 120,
   "outputs": [
    {
     "data": {
      "text/plain": "account_length            0\nlocation_code             0\nintertiol_plan            0\nvoice_mail_plan           0\nnumber_vm_messages        1\ntotal_day_min             0\ntotal_day_calls           4\ntotal_day_charge          0\ntotal_eve_min             0\ntotal_eve_calls           0\ntotal_eve_charge          0\ntotal_night_minutes       0\ntotal_night_calls         2\ntotal_night_charge        0\ntotal_intl_minutes        0\ntotal_intl_calls          4\ntotal_intl_charge         0\ncustomer_service_calls    1\ndtype: int64"
     },
     "execution_count": 120,
     "metadata": {},
     "output_type": "execute_result"
    }
   ],
   "source": [
    "df_test.isnull().sum()"
   ],
   "metadata": {
    "collapsed": false,
    "pycharm": {
     "name": "#%%\n"
    }
   }
  },
  {
   "cell_type": "code",
   "execution_count": 123,
   "outputs": [],
   "source": [
    "# handle other missing values\n",
    "df_train=handle_missing_by_median(df_train,numerical)\n",
    "df_test=handle_missing_by_median(df_test,numerical)"
   ],
   "metadata": {
    "collapsed": false,
    "pycharm": {
     "name": "#%%\n"
    }
   }
  },
  {
   "cell_type": "code",
   "execution_count": 124,
   "outputs": [
    {
     "data": {
      "text/plain": "account_length            0\nlocation_code             0\nintertiol_plan            0\nvoice_mail_plan           0\nnumber_vm_messages        0\ntotal_day_min             0\ntotal_day_calls           0\ntotal_day_charge          0\ntotal_eve_min             0\ntotal_eve_calls           0\ntotal_eve_charge          0\ntotal_night_minutes       0\ntotal_night_calls         0\ntotal_night_charge        0\ntotal_intl_minutes        0\ntotal_intl_calls          0\ntotal_intl_charge         0\ncustomer_service_calls    0\nChurn                     0\ndtype: int64"
     },
     "execution_count": 124,
     "metadata": {},
     "output_type": "execute_result"
    }
   ],
   "source": [
    "df_train.isnull().sum()"
   ],
   "metadata": {
    "collapsed": false,
    "pycharm": {
     "name": "#%%\n"
    }
   }
  },
  {
   "cell_type": "code",
   "execution_count": 125,
   "outputs": [
    {
     "data": {
      "text/plain": "account_length            0\nlocation_code             0\nintertiol_plan            0\nvoice_mail_plan           0\nnumber_vm_messages        0\ntotal_day_min             0\ntotal_day_calls           0\ntotal_day_charge          0\ntotal_eve_min             0\ntotal_eve_calls           0\ntotal_eve_charge          0\ntotal_night_minutes       0\ntotal_night_calls         0\ntotal_night_charge        0\ntotal_intl_minutes        0\ntotal_intl_calls          0\ntotal_intl_charge         0\ncustomer_service_calls    0\ndtype: int64"
     },
     "execution_count": 125,
     "metadata": {},
     "output_type": "execute_result"
    }
   ],
   "source": [
    "df_test.isnull().sum()"
   ],
   "metadata": {
    "collapsed": false,
    "pycharm": {
     "name": "#%%\n"
    }
   }
  },
  {
   "cell_type": "code",
   "execution_count": 126,
   "outputs": [],
   "source": [
    "dataset_train = pd.concat([df_baseline_train['customer_id'], df_train], axis=1).reindex(df_train.index)\n",
    "dataset_test = pd.concat([df_baseline_test['customer_id'], df_test], axis=1).reindex(df_test.index)\n",
    "# Write the pre-processed dataset into a csv file --------------------------------\n",
    "\n",
    "\n",
    "student_id = \"190649F.csv\"\n",
    "\n",
    "dataset_train.to_csv('Train_Dataset_'+student_id, index=False)\n",
    "dataset_test.to_csv('Test_Dataset'+student_id, index=False)"
   ],
   "metadata": {
    "collapsed": false,
    "pycharm": {
     "name": "#%%\n"
    }
   }
  },
  {
   "cell_type": "code",
   "execution_count": null,
   "outputs": [],
   "source": [],
   "metadata": {
    "collapsed": false,
    "pycharm": {
     "name": "#%%\n"
    }
   }
  }
 ],
 "metadata": {
  "kernelspec": {
   "display_name": "Python 3",
   "language": "python",
   "name": "python3"
  },
  "language_info": {
   "codemirror_mode": {
    "name": "ipython",
    "version": 2
   },
   "file_extension": ".py",
   "mimetype": "text/x-python",
   "name": "python",
   "nbconvert_exporter": "python",
   "pygments_lexer": "ipython2",
   "version": "2.7.6"
  }
 },
 "nbformat": 4,
 "nbformat_minor": 0
}