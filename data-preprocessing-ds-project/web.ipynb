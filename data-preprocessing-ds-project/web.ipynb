{
 "cells": [
  {
   "cell_type": "code",
   "execution_count": 2,
   "metadata": {
    "collapsed": true
   },
   "outputs": [],
   "source": [
    "import pandas as pd"
   ]
  },
  {
   "cell_type": "code",
   "execution_count": 43,
   "outputs": [],
   "source": [
    "df = pd.read_csv('Train_Dataset.csv')\n",
    "# df_test = pd.read_csv('Test_Dataset.csv')"
   ],
   "metadata": {
    "collapsed": false,
    "pycharm": {
     "name": "#%%\n"
    }
   }
  },
  {
   "cell_type": "code",
   "execution_count": 45,
   "outputs": [
    {
     "data": {
      "text/plain": "      customer_id  account_length  location_code intertiol_plan  \\\n0            1001           105.0          452.0             no   \n1            1002             NaN            NaN            NaN   \n2            1003             NaN            NaN            NaN   \n3            1004             NaN            NaN            NaN   \n4            1005             NaN            NaN            NaN   \n...           ...             ...            ...            ...   \n2316         3317             NaN            NaN            NaN   \n2317         3318             NaN            NaN            NaN   \n2318         3319             NaN            NaN            NaN   \n2319         3320             NaN            NaN            NaN   \n2320         3321             NaN            NaN            NaN   \n\n     voice_mail_plan  number_vm_messages  total_day_min  total_day_calls  \\\n0                 no                 0.0          175.4            102.0   \n1                NaN                 NaN          185.0              NaN   \n2                NaN                 NaN            NaN              NaN   \n3                NaN                 NaN            NaN              NaN   \n4                NaN                 NaN            NaN              NaN   \n...              ...                 ...            ...              ...   \n2316             NaN                 NaN            NaN              NaN   \n2317             NaN                 NaN            NaN              NaN   \n2318             NaN                 NaN            NaN              NaN   \n2319             NaN                 NaN            NaN              NaN   \n2320             NaN                 NaN            NaN              NaN   \n\n      total_day_charge  total_eve_min  ...  total_eve_charge  \\\n0                29.82          173.7  ...              17.8   \n1                  NaN          180.5  ...               NaN   \n2                  NaN          187.0  ...               NaN   \n3                  NaN          189.6  ...               NaN   \n4                  NaN          209.4  ...               NaN   \n...                ...            ...  ...               ...   \n2316               NaN            NaN  ...               NaN   \n2317               NaN            NaN  ...               NaN   \n2318               NaN            NaN  ...               NaN   \n2319               NaN            NaN  ...               NaN   \n2320               NaN            NaN  ...               NaN   \n\n      total_night_minutes  total_night_calls  total_night_charge  \\\n0                   189.6              104.0                8.64   \n1                   191.4              105.0                 NaN   \n2                   197.4                NaN                 NaN   \n3                   210.0                NaN                 NaN   \n4                   221.6                NaN                 NaN   \n...                   ...                ...                 ...   \n2316                  NaN                NaN                 NaN   \n2317                  NaN                NaN                 NaN   \n2318                  NaN                NaN                 NaN   \n2319                  NaN                NaN                 NaN   \n2320                  NaN                NaN                 NaN   \n\n      total_intl_minutes  total_intl_calls  total_intl_charge  \\\n0                    9.8               3.0               2.65   \n1                    NaN               NaN                NaN   \n2                    NaN               NaN                NaN   \n3                    NaN               NaN                NaN   \n4                    NaN               NaN                NaN   \n...                  ...               ...                ...   \n2316                 NaN               NaN                NaN   \n2317                 NaN               NaN                NaN   \n2318                 NaN               NaN                NaN   \n2319                 NaN               NaN                NaN   \n2320                 NaN               NaN                NaN   \n\n      customer_service_calls  Churn Unnamed: 20  \n0                        1.0     No         NaN  \n1                        NaN    NaN         NaN  \n2                        NaN    NaN         NaN  \n3                        NaN    NaN         NaN  \n4                        NaN    NaN         NaN  \n...                      ...    ...         ...  \n2316                     NaN    NaN         NaN  \n2317                     NaN    NaN         NaN  \n2318                     NaN    NaN         NaN  \n2319                     NaN    NaN         NaN  \n2320                     NaN    NaN         NaN  \n\n[2321 rows x 21 columns]",
      "text/html": "<div>\n<style scoped>\n    .dataframe tbody tr th:only-of-type {\n        vertical-align: middle;\n    }\n\n    .dataframe tbody tr th {\n        vertical-align: top;\n    }\n\n    .dataframe thead th {\n        text-align: right;\n    }\n</style>\n<table border=\"1\" class=\"dataframe\">\n  <thead>\n    <tr style=\"text-align: right;\">\n      <th></th>\n      <th>customer_id</th>\n      <th>account_length</th>\n      <th>location_code</th>\n      <th>intertiol_plan</th>\n      <th>voice_mail_plan</th>\n      <th>number_vm_messages</th>\n      <th>total_day_min</th>\n      <th>total_day_calls</th>\n      <th>total_day_charge</th>\n      <th>total_eve_min</th>\n      <th>...</th>\n      <th>total_eve_charge</th>\n      <th>total_night_minutes</th>\n      <th>total_night_calls</th>\n      <th>total_night_charge</th>\n      <th>total_intl_minutes</th>\n      <th>total_intl_calls</th>\n      <th>total_intl_charge</th>\n      <th>customer_service_calls</th>\n      <th>Churn</th>\n      <th>Unnamed: 20</th>\n    </tr>\n  </thead>\n  <tbody>\n    <tr>\n      <th>0</th>\n      <td>1001</td>\n      <td>105.0</td>\n      <td>452.0</td>\n      <td>no</td>\n      <td>no</td>\n      <td>0.0</td>\n      <td>175.4</td>\n      <td>102.0</td>\n      <td>29.82</td>\n      <td>173.7</td>\n      <td>...</td>\n      <td>17.8</td>\n      <td>189.6</td>\n      <td>104.0</td>\n      <td>8.64</td>\n      <td>9.8</td>\n      <td>3.0</td>\n      <td>2.65</td>\n      <td>1.0</td>\n      <td>No</td>\n      <td>NaN</td>\n    </tr>\n    <tr>\n      <th>1</th>\n      <td>1002</td>\n      <td>NaN</td>\n      <td>NaN</td>\n      <td>NaN</td>\n      <td>NaN</td>\n      <td>NaN</td>\n      <td>185.0</td>\n      <td>NaN</td>\n      <td>NaN</td>\n      <td>180.5</td>\n      <td>...</td>\n      <td>NaN</td>\n      <td>191.4</td>\n      <td>105.0</td>\n      <td>NaN</td>\n      <td>NaN</td>\n      <td>NaN</td>\n      <td>NaN</td>\n      <td>NaN</td>\n      <td>NaN</td>\n      <td>NaN</td>\n    </tr>\n    <tr>\n      <th>2</th>\n      <td>1003</td>\n      <td>NaN</td>\n      <td>NaN</td>\n      <td>NaN</td>\n      <td>NaN</td>\n      <td>NaN</td>\n      <td>NaN</td>\n      <td>NaN</td>\n      <td>NaN</td>\n      <td>187.0</td>\n      <td>...</td>\n      <td>NaN</td>\n      <td>197.4</td>\n      <td>NaN</td>\n      <td>NaN</td>\n      <td>NaN</td>\n      <td>NaN</td>\n      <td>NaN</td>\n      <td>NaN</td>\n      <td>NaN</td>\n      <td>NaN</td>\n    </tr>\n    <tr>\n      <th>3</th>\n      <td>1004</td>\n      <td>NaN</td>\n      <td>NaN</td>\n      <td>NaN</td>\n      <td>NaN</td>\n      <td>NaN</td>\n      <td>NaN</td>\n      <td>NaN</td>\n      <td>NaN</td>\n      <td>189.6</td>\n      <td>...</td>\n      <td>NaN</td>\n      <td>210.0</td>\n      <td>NaN</td>\n      <td>NaN</td>\n      <td>NaN</td>\n      <td>NaN</td>\n      <td>NaN</td>\n      <td>NaN</td>\n      <td>NaN</td>\n      <td>NaN</td>\n    </tr>\n    <tr>\n      <th>4</th>\n      <td>1005</td>\n      <td>NaN</td>\n      <td>NaN</td>\n      <td>NaN</td>\n      <td>NaN</td>\n      <td>NaN</td>\n      <td>NaN</td>\n      <td>NaN</td>\n      <td>NaN</td>\n      <td>209.4</td>\n      <td>...</td>\n      <td>NaN</td>\n      <td>221.6</td>\n      <td>NaN</td>\n      <td>NaN</td>\n      <td>NaN</td>\n      <td>NaN</td>\n      <td>NaN</td>\n      <td>NaN</td>\n      <td>NaN</td>\n      <td>NaN</td>\n    </tr>\n    <tr>\n      <th>...</th>\n      <td>...</td>\n      <td>...</td>\n      <td>...</td>\n      <td>...</td>\n      <td>...</td>\n      <td>...</td>\n      <td>...</td>\n      <td>...</td>\n      <td>...</td>\n      <td>...</td>\n      <td>...</td>\n      <td>...</td>\n      <td>...</td>\n      <td>...</td>\n      <td>...</td>\n      <td>...</td>\n      <td>...</td>\n      <td>...</td>\n      <td>...</td>\n      <td>...</td>\n      <td>...</td>\n    </tr>\n    <tr>\n      <th>2316</th>\n      <td>3317</td>\n      <td>NaN</td>\n      <td>NaN</td>\n      <td>NaN</td>\n      <td>NaN</td>\n      <td>NaN</td>\n      <td>NaN</td>\n      <td>NaN</td>\n      <td>NaN</td>\n      <td>NaN</td>\n      <td>...</td>\n      <td>NaN</td>\n      <td>NaN</td>\n      <td>NaN</td>\n      <td>NaN</td>\n      <td>NaN</td>\n      <td>NaN</td>\n      <td>NaN</td>\n      <td>NaN</td>\n      <td>NaN</td>\n      <td>NaN</td>\n    </tr>\n    <tr>\n      <th>2317</th>\n      <td>3318</td>\n      <td>NaN</td>\n      <td>NaN</td>\n      <td>NaN</td>\n      <td>NaN</td>\n      <td>NaN</td>\n      <td>NaN</td>\n      <td>NaN</td>\n      <td>NaN</td>\n      <td>NaN</td>\n      <td>...</td>\n      <td>NaN</td>\n      <td>NaN</td>\n      <td>NaN</td>\n      <td>NaN</td>\n      <td>NaN</td>\n      <td>NaN</td>\n      <td>NaN</td>\n      <td>NaN</td>\n      <td>NaN</td>\n      <td>NaN</td>\n    </tr>\n    <tr>\n      <th>2318</th>\n      <td>3319</td>\n      <td>NaN</td>\n      <td>NaN</td>\n      <td>NaN</td>\n      <td>NaN</td>\n      <td>NaN</td>\n      <td>NaN</td>\n      <td>NaN</td>\n      <td>NaN</td>\n      <td>NaN</td>\n      <td>...</td>\n      <td>NaN</td>\n      <td>NaN</td>\n      <td>NaN</td>\n      <td>NaN</td>\n      <td>NaN</td>\n      <td>NaN</td>\n      <td>NaN</td>\n      <td>NaN</td>\n      <td>NaN</td>\n      <td>NaN</td>\n    </tr>\n    <tr>\n      <th>2319</th>\n      <td>3320</td>\n      <td>NaN</td>\n      <td>NaN</td>\n      <td>NaN</td>\n      <td>NaN</td>\n      <td>NaN</td>\n      <td>NaN</td>\n      <td>NaN</td>\n      <td>NaN</td>\n      <td>NaN</td>\n      <td>...</td>\n      <td>NaN</td>\n      <td>NaN</td>\n      <td>NaN</td>\n      <td>NaN</td>\n      <td>NaN</td>\n      <td>NaN</td>\n      <td>NaN</td>\n      <td>NaN</td>\n      <td>NaN</td>\n      <td>NaN</td>\n    </tr>\n    <tr>\n      <th>2320</th>\n      <td>3321</td>\n      <td>NaN</td>\n      <td>NaN</td>\n      <td>NaN</td>\n      <td>NaN</td>\n      <td>NaN</td>\n      <td>NaN</td>\n      <td>NaN</td>\n      <td>NaN</td>\n      <td>NaN</td>\n      <td>...</td>\n      <td>NaN</td>\n      <td>NaN</td>\n      <td>NaN</td>\n      <td>NaN</td>\n      <td>NaN</td>\n      <td>NaN</td>\n      <td>NaN</td>\n      <td>NaN</td>\n      <td>NaN</td>\n      <td>NaN</td>\n    </tr>\n  </tbody>\n</table>\n<p>2321 rows × 21 columns</p>\n</div>"
     },
     "execution_count": 45,
     "metadata": {},
     "output_type": "execute_result"
    }
   ],
   "source": [
    "df.mode()"
   ],
   "metadata": {
    "collapsed": false,
    "pycharm": {
     "name": "#%%\n"
    }
   }
  },
  {
   "cell_type": "code",
   "execution_count": 4,
   "outputs": [
    {
     "data": {
      "text/plain": "   customer_id  account_length  location_code intertiol_plan voice_mail_plan  \\\n0         1001            15.0            452             no              no   \n1         1002           105.0            452             no              no   \n2         1003            97.0            452             no             yes   \n3         1004           121.0            445             no             yes   \n4         1005            98.0            452             no             yes   \n\n   number_vm_messages  total_day_min  total_day_calls  total_day_charge  \\\n0                 0.0          121.1            130.0             20.59   \n1                 0.0          259.3             96.0             44.08   \n2                32.0          183.4             94.0             31.18   \n3                35.0           68.7             95.0             11.68   \n4                22.0          278.3             89.0             47.31   \n\n   total_eve_min  ...  total_eve_charge  total_night_minutes  \\\n0          216.0  ...             18.36                235.1   \n1          175.2  ...             14.89                222.4   \n2          269.1  ...             22.87                203.5   \n3          209.2  ...             17.78                197.4   \n4           93.4  ...              7.94                107.6   \n\n   total_night_calls  total_night_charge  total_intl_minutes  \\\n0               33.0               10.58                16.1   \n1               36.0               10.01                12.0   \n2               38.0                9.16                 6.7   \n3               42.0                8.88                11.4   \n4               42.0                4.84                 9.7   \n\n   total_intl_calls  total_intl_charge  customer_service_calls  Churn  \\\n0               5.0               4.35                     2.0     No   \n1               5.0               3.24                     3.0     No   \n2               4.0               1.81                     5.0     No   \n3               4.0               3.08                     1.0     No   \n4               5.0               2.62                     0.0     No   \n\n  Unnamed: 20  \n0         NaN  \n1         NaN  \n2         NaN  \n3         NaN  \n4         NaN  \n\n[5 rows x 21 columns]",
      "text/html": "<div>\n<style scoped>\n    .dataframe tbody tr th:only-of-type {\n        vertical-align: middle;\n    }\n\n    .dataframe tbody tr th {\n        vertical-align: top;\n    }\n\n    .dataframe thead th {\n        text-align: right;\n    }\n</style>\n<table border=\"1\" class=\"dataframe\">\n  <thead>\n    <tr style=\"text-align: right;\">\n      <th></th>\n      <th>customer_id</th>\n      <th>account_length</th>\n      <th>location_code</th>\n      <th>intertiol_plan</th>\n      <th>voice_mail_plan</th>\n      <th>number_vm_messages</th>\n      <th>total_day_min</th>\n      <th>total_day_calls</th>\n      <th>total_day_charge</th>\n      <th>total_eve_min</th>\n      <th>...</th>\n      <th>total_eve_charge</th>\n      <th>total_night_minutes</th>\n      <th>total_night_calls</th>\n      <th>total_night_charge</th>\n      <th>total_intl_minutes</th>\n      <th>total_intl_calls</th>\n      <th>total_intl_charge</th>\n      <th>customer_service_calls</th>\n      <th>Churn</th>\n      <th>Unnamed: 20</th>\n    </tr>\n  </thead>\n  <tbody>\n    <tr>\n      <th>0</th>\n      <td>1001</td>\n      <td>15.0</td>\n      <td>452</td>\n      <td>no</td>\n      <td>no</td>\n      <td>0.0</td>\n      <td>121.1</td>\n      <td>130.0</td>\n      <td>20.59</td>\n      <td>216.0</td>\n      <td>...</td>\n      <td>18.36</td>\n      <td>235.1</td>\n      <td>33.0</td>\n      <td>10.58</td>\n      <td>16.1</td>\n      <td>5.0</td>\n      <td>4.35</td>\n      <td>2.0</td>\n      <td>No</td>\n      <td>NaN</td>\n    </tr>\n    <tr>\n      <th>1</th>\n      <td>1002</td>\n      <td>105.0</td>\n      <td>452</td>\n      <td>no</td>\n      <td>no</td>\n      <td>0.0</td>\n      <td>259.3</td>\n      <td>96.0</td>\n      <td>44.08</td>\n      <td>175.2</td>\n      <td>...</td>\n      <td>14.89</td>\n      <td>222.4</td>\n      <td>36.0</td>\n      <td>10.01</td>\n      <td>12.0</td>\n      <td>5.0</td>\n      <td>3.24</td>\n      <td>3.0</td>\n      <td>No</td>\n      <td>NaN</td>\n    </tr>\n    <tr>\n      <th>2</th>\n      <td>1003</td>\n      <td>97.0</td>\n      <td>452</td>\n      <td>no</td>\n      <td>yes</td>\n      <td>32.0</td>\n      <td>183.4</td>\n      <td>94.0</td>\n      <td>31.18</td>\n      <td>269.1</td>\n      <td>...</td>\n      <td>22.87</td>\n      <td>203.5</td>\n      <td>38.0</td>\n      <td>9.16</td>\n      <td>6.7</td>\n      <td>4.0</td>\n      <td>1.81</td>\n      <td>5.0</td>\n      <td>No</td>\n      <td>NaN</td>\n    </tr>\n    <tr>\n      <th>3</th>\n      <td>1004</td>\n      <td>121.0</td>\n      <td>445</td>\n      <td>no</td>\n      <td>yes</td>\n      <td>35.0</td>\n      <td>68.7</td>\n      <td>95.0</td>\n      <td>11.68</td>\n      <td>209.2</td>\n      <td>...</td>\n      <td>17.78</td>\n      <td>197.4</td>\n      <td>42.0</td>\n      <td>8.88</td>\n      <td>11.4</td>\n      <td>4.0</td>\n      <td>3.08</td>\n      <td>1.0</td>\n      <td>No</td>\n      <td>NaN</td>\n    </tr>\n    <tr>\n      <th>4</th>\n      <td>1005</td>\n      <td>98.0</td>\n      <td>452</td>\n      <td>no</td>\n      <td>yes</td>\n      <td>22.0</td>\n      <td>278.3</td>\n      <td>89.0</td>\n      <td>47.31</td>\n      <td>93.4</td>\n      <td>...</td>\n      <td>7.94</td>\n      <td>107.6</td>\n      <td>42.0</td>\n      <td>4.84</td>\n      <td>9.7</td>\n      <td>5.0</td>\n      <td>2.62</td>\n      <td>0.0</td>\n      <td>No</td>\n      <td>NaN</td>\n    </tr>\n  </tbody>\n</table>\n<p>5 rows × 21 columns</p>\n</div>"
     },
     "execution_count": 4,
     "metadata": {},
     "output_type": "execute_result"
    }
   ],
   "source": [
    "df.head()"
   ],
   "metadata": {
    "collapsed": false,
    "pycharm": {
     "name": "#%%\n"
    }
   }
  },
  {
   "cell_type": "code",
   "execution_count": 5,
   "outputs": [],
   "source": [
    "# df_test.head()"
   ],
   "metadata": {
    "collapsed": false,
    "pycharm": {
     "name": "#%%\n"
    }
   }
  },
  {
   "cell_type": "code",
   "execution_count": null,
   "outputs": [],
   "source": [],
   "metadata": {
    "collapsed": false,
    "pycharm": {
     "name": "#%%\n"
    }
   }
  },
  {
   "cell_type": "code",
   "execution_count": 6,
   "outputs": [
    {
     "data": {
      "text/plain": "   customer_id  account_length  location_code intertiol_plan voice_mail_plan  \\\n0         1001            15.0            452             no              no   \n\n   number_vm_messages  total_day_min  total_day_calls  total_day_charge  \\\n0                 0.0          121.1            130.0             20.59   \n\n   total_eve_min  ...  total_eve_charge  total_night_minutes  \\\n0          216.0  ...             18.36                235.1   \n\n   total_night_calls  total_night_charge  total_intl_minutes  \\\n0               33.0               10.58                16.1   \n\n   total_intl_calls  total_intl_charge  customer_service_calls  Churn  \\\n0               5.0               4.35                     2.0     No   \n\n  Unnamed: 20  \n0         NaN  \n\n[1 rows x 21 columns]",
      "text/html": "<div>\n<style scoped>\n    .dataframe tbody tr th:only-of-type {\n        vertical-align: middle;\n    }\n\n    .dataframe tbody tr th {\n        vertical-align: top;\n    }\n\n    .dataframe thead th {\n        text-align: right;\n    }\n</style>\n<table border=\"1\" class=\"dataframe\">\n  <thead>\n    <tr style=\"text-align: right;\">\n      <th></th>\n      <th>customer_id</th>\n      <th>account_length</th>\n      <th>location_code</th>\n      <th>intertiol_plan</th>\n      <th>voice_mail_plan</th>\n      <th>number_vm_messages</th>\n      <th>total_day_min</th>\n      <th>total_day_calls</th>\n      <th>total_day_charge</th>\n      <th>total_eve_min</th>\n      <th>...</th>\n      <th>total_eve_charge</th>\n      <th>total_night_minutes</th>\n      <th>total_night_calls</th>\n      <th>total_night_charge</th>\n      <th>total_intl_minutes</th>\n      <th>total_intl_calls</th>\n      <th>total_intl_charge</th>\n      <th>customer_service_calls</th>\n      <th>Churn</th>\n      <th>Unnamed: 20</th>\n    </tr>\n  </thead>\n  <tbody>\n    <tr>\n      <th>0</th>\n      <td>1001</td>\n      <td>15.0</td>\n      <td>452</td>\n      <td>no</td>\n      <td>no</td>\n      <td>0.0</td>\n      <td>121.1</td>\n      <td>130.0</td>\n      <td>20.59</td>\n      <td>216.0</td>\n      <td>...</td>\n      <td>18.36</td>\n      <td>235.1</td>\n      <td>33.0</td>\n      <td>10.58</td>\n      <td>16.1</td>\n      <td>5.0</td>\n      <td>4.35</td>\n      <td>2.0</td>\n      <td>No</td>\n      <td>NaN</td>\n    </tr>\n  </tbody>\n</table>\n<p>1 rows × 21 columns</p>\n</div>"
     },
     "execution_count": 6,
     "metadata": {},
     "output_type": "execute_result"
    }
   ],
   "source": [
    "df[df['customer_id']==1001]"
   ],
   "metadata": {
    "collapsed": false,
    "pycharm": {
     "name": "#%%\n"
    }
   }
  },
  {
   "cell_type": "code",
   "execution_count": 7,
   "outputs": [],
   "source": [
    "def drop_columns(df, columns):\n",
    "    df.drop(columns, axis=1, inplace=True, errors='ignore')"
   ],
   "metadata": {
    "collapsed": false,
    "pycharm": {
     "name": "#%%\n"
    }
   }
  },
  {
   "cell_type": "code",
   "execution_count": 8,
   "outputs": [],
   "source": [
    "drop_features = [ 'Unnamed: 19', 'Unnamed: 20']\n",
    "drop_columns(df, drop_features)"
   ],
   "metadata": {
    "collapsed": false,
    "pycharm": {
     "name": "#%%\n"
    }
   }
  },
  {
   "cell_type": "code",
   "execution_count": 9,
   "outputs": [
    {
     "data": {
      "text/plain": "   customer_id  account_length  location_code intertiol_plan voice_mail_plan  \\\n0         1001            15.0            452             no              no   \n1         1002           105.0            452             no              no   \n2         1003            97.0            452             no             yes   \n3         1004           121.0            445             no             yes   \n4         1005            98.0            452             no             yes   \n\n   number_vm_messages  total_day_min  total_day_calls  total_day_charge  \\\n0                 0.0          121.1            130.0             20.59   \n1                 0.0          259.3             96.0             44.08   \n2                32.0          183.4             94.0             31.18   \n3                35.0           68.7             95.0             11.68   \n4                22.0          278.3             89.0             47.31   \n\n   total_eve_min  total_eve_calls  total_eve_charge  total_night_minutes  \\\n0          216.0             86.0             18.36                235.1   \n1          175.2             97.0             14.89                222.4   \n2          269.1            120.0             22.87                203.5   \n3          209.2             69.0             17.78                197.4   \n4           93.4            143.0              7.94                107.6   \n\n   total_night_calls  total_night_charge  total_intl_minutes  \\\n0               33.0               10.58                16.1   \n1               36.0               10.01                12.0   \n2               38.0                9.16                 6.7   \n3               42.0                8.88                11.4   \n4               42.0                4.84                 9.7   \n\n   total_intl_calls  total_intl_charge  customer_service_calls Churn  \n0               5.0               4.35                     2.0    No  \n1               5.0               3.24                     3.0    No  \n2               4.0               1.81                     5.0    No  \n3               4.0               3.08                     1.0    No  \n4               5.0               2.62                     0.0    No  ",
      "text/html": "<div>\n<style scoped>\n    .dataframe tbody tr th:only-of-type {\n        vertical-align: middle;\n    }\n\n    .dataframe tbody tr th {\n        vertical-align: top;\n    }\n\n    .dataframe thead th {\n        text-align: right;\n    }\n</style>\n<table border=\"1\" class=\"dataframe\">\n  <thead>\n    <tr style=\"text-align: right;\">\n      <th></th>\n      <th>customer_id</th>\n      <th>account_length</th>\n      <th>location_code</th>\n      <th>intertiol_plan</th>\n      <th>voice_mail_plan</th>\n      <th>number_vm_messages</th>\n      <th>total_day_min</th>\n      <th>total_day_calls</th>\n      <th>total_day_charge</th>\n      <th>total_eve_min</th>\n      <th>total_eve_calls</th>\n      <th>total_eve_charge</th>\n      <th>total_night_minutes</th>\n      <th>total_night_calls</th>\n      <th>total_night_charge</th>\n      <th>total_intl_minutes</th>\n      <th>total_intl_calls</th>\n      <th>total_intl_charge</th>\n      <th>customer_service_calls</th>\n      <th>Churn</th>\n    </tr>\n  </thead>\n  <tbody>\n    <tr>\n      <th>0</th>\n      <td>1001</td>\n      <td>15.0</td>\n      <td>452</td>\n      <td>no</td>\n      <td>no</td>\n      <td>0.0</td>\n      <td>121.1</td>\n      <td>130.0</td>\n      <td>20.59</td>\n      <td>216.0</td>\n      <td>86.0</td>\n      <td>18.36</td>\n      <td>235.1</td>\n      <td>33.0</td>\n      <td>10.58</td>\n      <td>16.1</td>\n      <td>5.0</td>\n      <td>4.35</td>\n      <td>2.0</td>\n      <td>No</td>\n    </tr>\n    <tr>\n      <th>1</th>\n      <td>1002</td>\n      <td>105.0</td>\n      <td>452</td>\n      <td>no</td>\n      <td>no</td>\n      <td>0.0</td>\n      <td>259.3</td>\n      <td>96.0</td>\n      <td>44.08</td>\n      <td>175.2</td>\n      <td>97.0</td>\n      <td>14.89</td>\n      <td>222.4</td>\n      <td>36.0</td>\n      <td>10.01</td>\n      <td>12.0</td>\n      <td>5.0</td>\n      <td>3.24</td>\n      <td>3.0</td>\n      <td>No</td>\n    </tr>\n    <tr>\n      <th>2</th>\n      <td>1003</td>\n      <td>97.0</td>\n      <td>452</td>\n      <td>no</td>\n      <td>yes</td>\n      <td>32.0</td>\n      <td>183.4</td>\n      <td>94.0</td>\n      <td>31.18</td>\n      <td>269.1</td>\n      <td>120.0</td>\n      <td>22.87</td>\n      <td>203.5</td>\n      <td>38.0</td>\n      <td>9.16</td>\n      <td>6.7</td>\n      <td>4.0</td>\n      <td>1.81</td>\n      <td>5.0</td>\n      <td>No</td>\n    </tr>\n    <tr>\n      <th>3</th>\n      <td>1004</td>\n      <td>121.0</td>\n      <td>445</td>\n      <td>no</td>\n      <td>yes</td>\n      <td>35.0</td>\n      <td>68.7</td>\n      <td>95.0</td>\n      <td>11.68</td>\n      <td>209.2</td>\n      <td>69.0</td>\n      <td>17.78</td>\n      <td>197.4</td>\n      <td>42.0</td>\n      <td>8.88</td>\n      <td>11.4</td>\n      <td>4.0</td>\n      <td>3.08</td>\n      <td>1.0</td>\n      <td>No</td>\n    </tr>\n    <tr>\n      <th>4</th>\n      <td>1005</td>\n      <td>98.0</td>\n      <td>452</td>\n      <td>no</td>\n      <td>yes</td>\n      <td>22.0</td>\n      <td>278.3</td>\n      <td>89.0</td>\n      <td>47.31</td>\n      <td>93.4</td>\n      <td>143.0</td>\n      <td>7.94</td>\n      <td>107.6</td>\n      <td>42.0</td>\n      <td>4.84</td>\n      <td>9.7</td>\n      <td>5.0</td>\n      <td>2.62</td>\n      <td>0.0</td>\n      <td>No</td>\n    </tr>\n  </tbody>\n</table>\n</div>"
     },
     "execution_count": 9,
     "metadata": {},
     "output_type": "execute_result"
    }
   ],
   "source": [
    "df.head()"
   ],
   "metadata": {
    "collapsed": false,
    "pycharm": {
     "name": "#%%\n"
    }
   }
  },
  {
   "cell_type": "code",
   "execution_count": 10,
   "outputs": [],
   "source": [
    "df.to_csv(\"web.csv\",index=False)"
   ],
   "metadata": {
    "collapsed": false,
    "pycharm": {
     "name": "#%%\n"
    }
   }
  },
  {
   "cell_type": "code",
   "execution_count": 12,
   "outputs": [
    {
     "data": {
      "text/plain": "      customer_id  account_length  location_code intertiol_plan  \\\n2316         3317           109.0            452             no   \n2317         3318           185.0            452            yes   \n2318         3319            55.0            452            yes   \n2319         3320           138.0            547            yes   \n2320         3321            24.0            547             no   \n\n     voice_mail_plan  number_vm_messages  total_day_min  total_day_calls  \\\n2316              no                 0.0          180.0            100.0   \n2317             yes                30.0          154.1            114.0   \n2318              no                 0.0          188.9             88.0   \n2319              no                 0.0          191.2            130.0   \n2320              no                 0.0          251.0             95.0   \n\n      total_day_charge  total_eve_min  total_eve_calls  total_eve_charge  \\\n2316             30.60          229.0            103.0             19.47   \n2317             26.20          118.7            106.0             10.09   \n2318             34.62          270.1            105.0             22.77   \n2319             32.35          164.5             88.0             14.00   \n2320             40.31          179.9             77.0             16.63   \n\n      total_night_minutes  total_night_calls  total_night_charge  \\\n2316                139.4              105.0                6.27   \n2317                258.4              105.0               11.63   \n2318                209.7              105.0                9.17   \n2319                241.4              105.0               10.46   \n2320                189.3              105.0                8.29   \n\n      total_intl_minutes  total_intl_calls  total_intl_charge  \\\n2316                 7.8               8.0               2.11   \n2317                12.9               3.0               3.48   \n2318                14.3               5.0               3.86   \n2319                15.2               1.0               4.10   \n2320                15.3               7.0               4.13   \n\n      customer_service_calls Churn  \n2316                     3.0    No  \n2317                     2.0    No  \n2318                     1.0   Yes  \n2319                     0.0   Yes  \n2320                     0.0   Yes  ",
      "text/html": "<div>\n<style scoped>\n    .dataframe tbody tr th:only-of-type {\n        vertical-align: middle;\n    }\n\n    .dataframe tbody tr th {\n        vertical-align: top;\n    }\n\n    .dataframe thead th {\n        text-align: right;\n    }\n</style>\n<table border=\"1\" class=\"dataframe\">\n  <thead>\n    <tr style=\"text-align: right;\">\n      <th></th>\n      <th>customer_id</th>\n      <th>account_length</th>\n      <th>location_code</th>\n      <th>intertiol_plan</th>\n      <th>voice_mail_plan</th>\n      <th>number_vm_messages</th>\n      <th>total_day_min</th>\n      <th>total_day_calls</th>\n      <th>total_day_charge</th>\n      <th>total_eve_min</th>\n      <th>total_eve_calls</th>\n      <th>total_eve_charge</th>\n      <th>total_night_minutes</th>\n      <th>total_night_calls</th>\n      <th>total_night_charge</th>\n      <th>total_intl_minutes</th>\n      <th>total_intl_calls</th>\n      <th>total_intl_charge</th>\n      <th>customer_service_calls</th>\n      <th>Churn</th>\n    </tr>\n  </thead>\n  <tbody>\n    <tr>\n      <th>2316</th>\n      <td>3317</td>\n      <td>109.0</td>\n      <td>452</td>\n      <td>no</td>\n      <td>no</td>\n      <td>0.0</td>\n      <td>180.0</td>\n      <td>100.0</td>\n      <td>30.60</td>\n      <td>229.0</td>\n      <td>103.0</td>\n      <td>19.47</td>\n      <td>139.4</td>\n      <td>105.0</td>\n      <td>6.27</td>\n      <td>7.8</td>\n      <td>8.0</td>\n      <td>2.11</td>\n      <td>3.0</td>\n      <td>No</td>\n    </tr>\n    <tr>\n      <th>2317</th>\n      <td>3318</td>\n      <td>185.0</td>\n      <td>452</td>\n      <td>yes</td>\n      <td>yes</td>\n      <td>30.0</td>\n      <td>154.1</td>\n      <td>114.0</td>\n      <td>26.20</td>\n      <td>118.7</td>\n      <td>106.0</td>\n      <td>10.09</td>\n      <td>258.4</td>\n      <td>105.0</td>\n      <td>11.63</td>\n      <td>12.9</td>\n      <td>3.0</td>\n      <td>3.48</td>\n      <td>2.0</td>\n      <td>No</td>\n    </tr>\n    <tr>\n      <th>2318</th>\n      <td>3319</td>\n      <td>55.0</td>\n      <td>452</td>\n      <td>yes</td>\n      <td>no</td>\n      <td>0.0</td>\n      <td>188.9</td>\n      <td>88.0</td>\n      <td>34.62</td>\n      <td>270.1</td>\n      <td>105.0</td>\n      <td>22.77</td>\n      <td>209.7</td>\n      <td>105.0</td>\n      <td>9.17</td>\n      <td>14.3</td>\n      <td>5.0</td>\n      <td>3.86</td>\n      <td>1.0</td>\n      <td>Yes</td>\n    </tr>\n    <tr>\n      <th>2319</th>\n      <td>3320</td>\n      <td>138.0</td>\n      <td>547</td>\n      <td>yes</td>\n      <td>no</td>\n      <td>0.0</td>\n      <td>191.2</td>\n      <td>130.0</td>\n      <td>32.35</td>\n      <td>164.5</td>\n      <td>88.0</td>\n      <td>14.00</td>\n      <td>241.4</td>\n      <td>105.0</td>\n      <td>10.46</td>\n      <td>15.2</td>\n      <td>1.0</td>\n      <td>4.10</td>\n      <td>0.0</td>\n      <td>Yes</td>\n    </tr>\n    <tr>\n      <th>2320</th>\n      <td>3321</td>\n      <td>24.0</td>\n      <td>547</td>\n      <td>no</td>\n      <td>no</td>\n      <td>0.0</td>\n      <td>251.0</td>\n      <td>95.0</td>\n      <td>40.31</td>\n      <td>179.9</td>\n      <td>77.0</td>\n      <td>16.63</td>\n      <td>189.3</td>\n      <td>105.0</td>\n      <td>8.29</td>\n      <td>15.3</td>\n      <td>7.0</td>\n      <td>4.13</td>\n      <td>0.0</td>\n      <td>Yes</td>\n    </tr>\n  </tbody>\n</table>\n</div>"
     },
     "execution_count": 12,
     "metadata": {},
     "output_type": "execute_result"
    }
   ],
   "source": [
    "df.tail()"
   ],
   "metadata": {
    "collapsed": false,
    "pycharm": {
     "name": "#%%\n"
    }
   }
  },
  {
   "cell_type": "code",
   "execution_count": 13,
   "outputs": [
    {
     "data": {
      "text/plain": "{1120: {'customer_id': 2121,\n  'account_length': 162.0,\n  'location_code': 547,\n  'intertiol_plan': 'no',\n  'voice_mail_plan': 'no',\n  'number_vm_messages': 0.0,\n  'total_day_min': 220.6,\n  'total_day_calls': 117.0,\n  'total_day_charge': 37.5,\n  'total_eve_min': 155.2,\n  'total_eve_calls': 121.0,\n  'total_eve_charge': 13.19,\n  'total_night_minutes': 186.7,\n  'total_night_calls': 89.0,\n  'total_night_charge': 8.4,\n  'total_intl_minutes': 10.5,\n  'total_intl_calls': 11.0,\n  'total_intl_charge': 2.84,\n  'customer_service_calls': 1.0,\n  'Churn': 'No'}}"
     },
     "execution_count": 13,
     "metadata": {},
     "output_type": "execute_result"
    }
   ],
   "source": [
    "df[df['customer_id']==2121].to_dict(orient='index')[0]"
   ],
   "metadata": {
    "collapsed": false,
    "pycharm": {
     "name": "#%%\n"
    }
   }
  },
  {
   "cell_type": "code",
   "execution_count": 20,
   "outputs": [
    {
     "data": {
      "text/plain": "{'customer_id': 1012,\n 'account_length': 61.0,\n 'location_code': 445,\n 'intertiol_plan': 'no',\n 'voice_mail_plan': 'yes',\n 'number_vm_messages': 31.0,\n 'total_day_min': 288.7,\n 'total_day_calls': 101.0,\n 'total_day_charge': 49.08,\n 'total_eve_min': 203.8,\n 'total_eve_calls': 102.0,\n 'total_eve_charge': nan,\n 'total_night_minutes': 203.2,\n 'total_night_calls': 49.0,\n 'total_night_charge': 9.14,\n 'total_intl_minutes': 8.6,\n 'total_intl_calls': 3.0,\n 'total_intl_charge': 2.32,\n 'customer_service_calls': 0.0,\n 'Churn': 'No'}"
     },
     "execution_count": 20,
     "metadata": {},
     "output_type": "execute_result"
    }
   ],
   "source": [
    "df[df['customer_id']==1012].squeeze().to_dict()"
   ],
   "metadata": {
    "collapsed": false,
    "pycharm": {
     "name": "#%%\n"
    }
   }
  },
  {
   "cell_type": "code",
   "execution_count": 16,
   "outputs": [
    {
     "data": {
      "text/plain": "customer_id               0\naccount_length            2\nlocation_code             0\nintertiol_plan            3\nvoice_mail_plan           6\nnumber_vm_messages        3\ntotal_day_min             1\ntotal_day_calls           3\ntotal_day_charge          5\ntotal_eve_min             3\ntotal_eve_calls           4\ntotal_eve_charge          8\ntotal_night_minutes       2\ntotal_night_calls         5\ntotal_night_charge        5\ntotal_intl_minutes        2\ntotal_intl_calls          3\ntotal_intl_charge         5\ncustomer_service_calls    1\nChurn                     5\ndtype: int64"
     },
     "execution_count": 16,
     "metadata": {},
     "output_type": "execute_result"
    }
   ],
   "source": [
    "df.isnull().sum()"
   ],
   "metadata": {
    "collapsed": false,
    "pycharm": {
     "name": "#%%\n"
    }
   }
  },
  {
   "cell_type": "code",
   "execution_count": 19,
   "outputs": [
    {
     "data": {
      "text/plain": "      customer_id  account_length  location_code intertiol_plan  \\\n0            1001            15.0            452             no   \n1            1002           105.0            452             no   \n2            1003            97.0            452             no   \n3            1004           121.0            445             no   \n4            1005            98.0            452             no   \n...           ...             ...            ...            ...   \n2316         3317           109.0            452             no   \n2317         3318           185.0            452            yes   \n2318         3319            55.0            452            yes   \n2319         3320           138.0            547            yes   \n2320         3321            24.0            547             no   \n\n     voice_mail_plan  number_vm_messages  total_day_min  total_day_calls  \\\n0                 no                 0.0          121.1            130.0   \n1                 no                 0.0          259.3             96.0   \n2                yes                32.0          183.4             94.0   \n3                yes                35.0           68.7             95.0   \n4                yes                22.0          278.3             89.0   \n...              ...                 ...            ...              ...   \n2316              no                 0.0          180.0            100.0   \n2317             yes                30.0          154.1            114.0   \n2318              no                 0.0          188.9             88.0   \n2319              no                 0.0          191.2            130.0   \n2320              no                 0.0          251.0             95.0   \n\n      total_day_charge  total_eve_min  total_eve_calls  total_eve_charge  \\\n0                20.59          216.0             86.0             18.36   \n1                44.08          175.2             97.0             14.89   \n2                31.18          269.1            120.0             22.87   \n3                11.68          209.2             69.0             17.78   \n4                47.31           93.4            143.0              7.94   \n...                ...            ...              ...               ...   \n2316             30.60          229.0            103.0             19.47   \n2317             26.20          118.7            106.0             10.09   \n2318             34.62          270.1            105.0             22.77   \n2319             32.35          164.5             88.0             14.00   \n2320             40.31          179.9             77.0             16.63   \n\n      total_night_minutes  total_night_calls  total_night_charge  \\\n0                   235.1               33.0               10.58   \n1                   222.4               36.0               10.01   \n2                   203.5               38.0                9.16   \n3                   197.4               42.0                8.88   \n4                   107.6               42.0                4.84   \n...                   ...                ...                 ...   \n2316                139.4              105.0                6.27   \n2317                258.4              105.0               11.63   \n2318                209.7              105.0                9.17   \n2319                241.4              105.0               10.46   \n2320                189.3              105.0                8.29   \n\n      total_intl_minutes  total_intl_calls  total_intl_charge  \\\n0                   16.1               5.0               4.35   \n1                   12.0               5.0               3.24   \n2                    6.7               4.0               1.81   \n3                   11.4               4.0               3.08   \n4                    9.7               5.0               2.62   \n...                  ...               ...                ...   \n2316                 7.8               8.0               2.11   \n2317                12.9               3.0               3.48   \n2318                14.3               5.0               3.86   \n2319                15.2               1.0               4.10   \n2320                15.3               7.0               4.13   \n\n      customer_service_calls Churn  \n0                        2.0    No  \n1                        3.0    No  \n2                        5.0    No  \n3                        1.0    No  \n4                        0.0    No  \n...                      ...   ...  \n2316                     3.0    No  \n2317                     2.0    No  \n2318                     1.0   Yes  \n2319                     0.0   Yes  \n2320                     0.0   Yes  \n\n[2321 rows x 20 columns]",
      "text/html": "<div>\n<style scoped>\n    .dataframe tbody tr th:only-of-type {\n        vertical-align: middle;\n    }\n\n    .dataframe tbody tr th {\n        vertical-align: top;\n    }\n\n    .dataframe thead th {\n        text-align: right;\n    }\n</style>\n<table border=\"1\" class=\"dataframe\">\n  <thead>\n    <tr style=\"text-align: right;\">\n      <th></th>\n      <th>customer_id</th>\n      <th>account_length</th>\n      <th>location_code</th>\n      <th>intertiol_plan</th>\n      <th>voice_mail_plan</th>\n      <th>number_vm_messages</th>\n      <th>total_day_min</th>\n      <th>total_day_calls</th>\n      <th>total_day_charge</th>\n      <th>total_eve_min</th>\n      <th>total_eve_calls</th>\n      <th>total_eve_charge</th>\n      <th>total_night_minutes</th>\n      <th>total_night_calls</th>\n      <th>total_night_charge</th>\n      <th>total_intl_minutes</th>\n      <th>total_intl_calls</th>\n      <th>total_intl_charge</th>\n      <th>customer_service_calls</th>\n      <th>Churn</th>\n    </tr>\n  </thead>\n  <tbody>\n    <tr>\n      <th>0</th>\n      <td>1001</td>\n      <td>15.0</td>\n      <td>452</td>\n      <td>no</td>\n      <td>no</td>\n      <td>0.0</td>\n      <td>121.1</td>\n      <td>130.0</td>\n      <td>20.59</td>\n      <td>216.0</td>\n      <td>86.0</td>\n      <td>18.36</td>\n      <td>235.1</td>\n      <td>33.0</td>\n      <td>10.58</td>\n      <td>16.1</td>\n      <td>5.0</td>\n      <td>4.35</td>\n      <td>2.0</td>\n      <td>No</td>\n    </tr>\n    <tr>\n      <th>1</th>\n      <td>1002</td>\n      <td>105.0</td>\n      <td>452</td>\n      <td>no</td>\n      <td>no</td>\n      <td>0.0</td>\n      <td>259.3</td>\n      <td>96.0</td>\n      <td>44.08</td>\n      <td>175.2</td>\n      <td>97.0</td>\n      <td>14.89</td>\n      <td>222.4</td>\n      <td>36.0</td>\n      <td>10.01</td>\n      <td>12.0</td>\n      <td>5.0</td>\n      <td>3.24</td>\n      <td>3.0</td>\n      <td>No</td>\n    </tr>\n    <tr>\n      <th>2</th>\n      <td>1003</td>\n      <td>97.0</td>\n      <td>452</td>\n      <td>no</td>\n      <td>yes</td>\n      <td>32.0</td>\n      <td>183.4</td>\n      <td>94.0</td>\n      <td>31.18</td>\n      <td>269.1</td>\n      <td>120.0</td>\n      <td>22.87</td>\n      <td>203.5</td>\n      <td>38.0</td>\n      <td>9.16</td>\n      <td>6.7</td>\n      <td>4.0</td>\n      <td>1.81</td>\n      <td>5.0</td>\n      <td>No</td>\n    </tr>\n    <tr>\n      <th>3</th>\n      <td>1004</td>\n      <td>121.0</td>\n      <td>445</td>\n      <td>no</td>\n      <td>yes</td>\n      <td>35.0</td>\n      <td>68.7</td>\n      <td>95.0</td>\n      <td>11.68</td>\n      <td>209.2</td>\n      <td>69.0</td>\n      <td>17.78</td>\n      <td>197.4</td>\n      <td>42.0</td>\n      <td>8.88</td>\n      <td>11.4</td>\n      <td>4.0</td>\n      <td>3.08</td>\n      <td>1.0</td>\n      <td>No</td>\n    </tr>\n    <tr>\n      <th>4</th>\n      <td>1005</td>\n      <td>98.0</td>\n      <td>452</td>\n      <td>no</td>\n      <td>yes</td>\n      <td>22.0</td>\n      <td>278.3</td>\n      <td>89.0</td>\n      <td>47.31</td>\n      <td>93.4</td>\n      <td>143.0</td>\n      <td>7.94</td>\n      <td>107.6</td>\n      <td>42.0</td>\n      <td>4.84</td>\n      <td>9.7</td>\n      <td>5.0</td>\n      <td>2.62</td>\n      <td>0.0</td>\n      <td>No</td>\n    </tr>\n    <tr>\n      <th>...</th>\n      <td>...</td>\n      <td>...</td>\n      <td>...</td>\n      <td>...</td>\n      <td>...</td>\n      <td>...</td>\n      <td>...</td>\n      <td>...</td>\n      <td>...</td>\n      <td>...</td>\n      <td>...</td>\n      <td>...</td>\n      <td>...</td>\n      <td>...</td>\n      <td>...</td>\n      <td>...</td>\n      <td>...</td>\n      <td>...</td>\n      <td>...</td>\n      <td>...</td>\n    </tr>\n    <tr>\n      <th>2316</th>\n      <td>3317</td>\n      <td>109.0</td>\n      <td>452</td>\n      <td>no</td>\n      <td>no</td>\n      <td>0.0</td>\n      <td>180.0</td>\n      <td>100.0</td>\n      <td>30.60</td>\n      <td>229.0</td>\n      <td>103.0</td>\n      <td>19.47</td>\n      <td>139.4</td>\n      <td>105.0</td>\n      <td>6.27</td>\n      <td>7.8</td>\n      <td>8.0</td>\n      <td>2.11</td>\n      <td>3.0</td>\n      <td>No</td>\n    </tr>\n    <tr>\n      <th>2317</th>\n      <td>3318</td>\n      <td>185.0</td>\n      <td>452</td>\n      <td>yes</td>\n      <td>yes</td>\n      <td>30.0</td>\n      <td>154.1</td>\n      <td>114.0</td>\n      <td>26.20</td>\n      <td>118.7</td>\n      <td>106.0</td>\n      <td>10.09</td>\n      <td>258.4</td>\n      <td>105.0</td>\n      <td>11.63</td>\n      <td>12.9</td>\n      <td>3.0</td>\n      <td>3.48</td>\n      <td>2.0</td>\n      <td>No</td>\n    </tr>\n    <tr>\n      <th>2318</th>\n      <td>3319</td>\n      <td>55.0</td>\n      <td>452</td>\n      <td>yes</td>\n      <td>no</td>\n      <td>0.0</td>\n      <td>188.9</td>\n      <td>88.0</td>\n      <td>34.62</td>\n      <td>270.1</td>\n      <td>105.0</td>\n      <td>22.77</td>\n      <td>209.7</td>\n      <td>105.0</td>\n      <td>9.17</td>\n      <td>14.3</td>\n      <td>5.0</td>\n      <td>3.86</td>\n      <td>1.0</td>\n      <td>Yes</td>\n    </tr>\n    <tr>\n      <th>2319</th>\n      <td>3320</td>\n      <td>138.0</td>\n      <td>547</td>\n      <td>yes</td>\n      <td>no</td>\n      <td>0.0</td>\n      <td>191.2</td>\n      <td>130.0</td>\n      <td>32.35</td>\n      <td>164.5</td>\n      <td>88.0</td>\n      <td>14.00</td>\n      <td>241.4</td>\n      <td>105.0</td>\n      <td>10.46</td>\n      <td>15.2</td>\n      <td>1.0</td>\n      <td>4.10</td>\n      <td>0.0</td>\n      <td>Yes</td>\n    </tr>\n    <tr>\n      <th>2320</th>\n      <td>3321</td>\n      <td>24.0</td>\n      <td>547</td>\n      <td>no</td>\n      <td>no</td>\n      <td>0.0</td>\n      <td>251.0</td>\n      <td>95.0</td>\n      <td>40.31</td>\n      <td>179.9</td>\n      <td>77.0</td>\n      <td>16.63</td>\n      <td>189.3</td>\n      <td>105.0</td>\n      <td>8.29</td>\n      <td>15.3</td>\n      <td>7.0</td>\n      <td>4.13</td>\n      <td>0.0</td>\n      <td>Yes</td>\n    </tr>\n  </tbody>\n</table>\n<p>2321 rows × 20 columns</p>\n</div>"
     },
     "execution_count": 19,
     "metadata": {},
     "output_type": "execute_result"
    }
   ],
   "source": [
    "df"
   ],
   "metadata": {
    "collapsed": false,
    "pycharm": {
     "name": "#%%\n"
    }
   }
  },
  {
   "cell_type": "code",
   "execution_count": 21,
   "outputs": [
    {
     "data": {
      "text/plain": "      customer_id account_length  location_code intertiol_plan  \\\n0            1001           15.0            452             no   \n1            1002          105.0            452             no   \n2            1003           97.0            452             no   \n3            1004          121.0            445             no   \n4            1005           98.0            452             no   \n...           ...            ...            ...            ...   \n2316         3317          109.0            452             no   \n2317         3318          185.0            452            yes   \n2318         3319           55.0            452            yes   \n2319         3320          138.0            547            yes   \n2320         3321           24.0            547             no   \n\n     voice_mail_plan number_vm_messages total_day_min total_day_calls  \\\n0                 no                0.0         121.1           130.0   \n1                 no                0.0         259.3            96.0   \n2                yes               32.0         183.4            94.0   \n3                yes               35.0          68.7            95.0   \n4                yes               22.0         278.3            89.0   \n...              ...                ...           ...             ...   \n2316              no                0.0         180.0           100.0   \n2317             yes               30.0         154.1           114.0   \n2318              no                0.0         188.9            88.0   \n2319              no                0.0         191.2           130.0   \n2320              no                0.0         251.0            95.0   \n\n     total_day_charge total_eve_min total_eve_calls total_eve_charge  \\\n0               20.59         216.0            86.0            18.36   \n1               44.08         175.2            97.0            14.89   \n2               31.18         269.1           120.0            22.87   \n3               11.68         209.2            69.0            17.78   \n4               47.31          93.4           143.0             7.94   \n...               ...           ...             ...              ...   \n2316             30.6         229.0           103.0            19.47   \n2317             26.2         118.7           106.0            10.09   \n2318            34.62         270.1           105.0            22.77   \n2319            32.35         164.5            88.0             14.0   \n2320            40.31         179.9            77.0            16.63   \n\n     total_night_minutes total_night_calls total_night_charge  \\\n0                  235.1              33.0              10.58   \n1                  222.4              36.0              10.01   \n2                  203.5              38.0               9.16   \n3                  197.4              42.0               8.88   \n4                  107.6              42.0               4.84   \n...                  ...               ...                ...   \n2316               139.4             105.0               6.27   \n2317               258.4             105.0              11.63   \n2318               209.7             105.0               9.17   \n2319               241.4             105.0              10.46   \n2320               189.3             105.0               8.29   \n\n     total_intl_minutes total_intl_calls total_intl_charge  \\\n0                  16.1              5.0              4.35   \n1                  12.0              5.0              3.24   \n2                   6.7              4.0              1.81   \n3                  11.4              4.0              3.08   \n4                   9.7              5.0              2.62   \n...                 ...              ...               ...   \n2316                7.8              8.0              2.11   \n2317               12.9              3.0              3.48   \n2318               14.3              5.0              3.86   \n2319               15.2              1.0               4.1   \n2320               15.3              7.0              4.13   \n\n     customer_service_calls Churn  \n0                       2.0    No  \n1                       3.0    No  \n2                       5.0    No  \n3                       1.0    No  \n4                       0.0    No  \n...                     ...   ...  \n2316                    3.0    No  \n2317                    2.0    No  \n2318                    1.0   Yes  \n2319                    0.0   Yes  \n2320                    0.0   Yes  \n\n[2321 rows x 20 columns]",
      "text/html": "<div>\n<style scoped>\n    .dataframe tbody tr th:only-of-type {\n        vertical-align: middle;\n    }\n\n    .dataframe tbody tr th {\n        vertical-align: top;\n    }\n\n    .dataframe thead th {\n        text-align: right;\n    }\n</style>\n<table border=\"1\" class=\"dataframe\">\n  <thead>\n    <tr style=\"text-align: right;\">\n      <th></th>\n      <th>customer_id</th>\n      <th>account_length</th>\n      <th>location_code</th>\n      <th>intertiol_plan</th>\n      <th>voice_mail_plan</th>\n      <th>number_vm_messages</th>\n      <th>total_day_min</th>\n      <th>total_day_calls</th>\n      <th>total_day_charge</th>\n      <th>total_eve_min</th>\n      <th>total_eve_calls</th>\n      <th>total_eve_charge</th>\n      <th>total_night_minutes</th>\n      <th>total_night_calls</th>\n      <th>total_night_charge</th>\n      <th>total_intl_minutes</th>\n      <th>total_intl_calls</th>\n      <th>total_intl_charge</th>\n      <th>customer_service_calls</th>\n      <th>Churn</th>\n    </tr>\n  </thead>\n  <tbody>\n    <tr>\n      <th>0</th>\n      <td>1001</td>\n      <td>15.0</td>\n      <td>452</td>\n      <td>no</td>\n      <td>no</td>\n      <td>0.0</td>\n      <td>121.1</td>\n      <td>130.0</td>\n      <td>20.59</td>\n      <td>216.0</td>\n      <td>86.0</td>\n      <td>18.36</td>\n      <td>235.1</td>\n      <td>33.0</td>\n      <td>10.58</td>\n      <td>16.1</td>\n      <td>5.0</td>\n      <td>4.35</td>\n      <td>2.0</td>\n      <td>No</td>\n    </tr>\n    <tr>\n      <th>1</th>\n      <td>1002</td>\n      <td>105.0</td>\n      <td>452</td>\n      <td>no</td>\n      <td>no</td>\n      <td>0.0</td>\n      <td>259.3</td>\n      <td>96.0</td>\n      <td>44.08</td>\n      <td>175.2</td>\n      <td>97.0</td>\n      <td>14.89</td>\n      <td>222.4</td>\n      <td>36.0</td>\n      <td>10.01</td>\n      <td>12.0</td>\n      <td>5.0</td>\n      <td>3.24</td>\n      <td>3.0</td>\n      <td>No</td>\n    </tr>\n    <tr>\n      <th>2</th>\n      <td>1003</td>\n      <td>97.0</td>\n      <td>452</td>\n      <td>no</td>\n      <td>yes</td>\n      <td>32.0</td>\n      <td>183.4</td>\n      <td>94.0</td>\n      <td>31.18</td>\n      <td>269.1</td>\n      <td>120.0</td>\n      <td>22.87</td>\n      <td>203.5</td>\n      <td>38.0</td>\n      <td>9.16</td>\n      <td>6.7</td>\n      <td>4.0</td>\n      <td>1.81</td>\n      <td>5.0</td>\n      <td>No</td>\n    </tr>\n    <tr>\n      <th>3</th>\n      <td>1004</td>\n      <td>121.0</td>\n      <td>445</td>\n      <td>no</td>\n      <td>yes</td>\n      <td>35.0</td>\n      <td>68.7</td>\n      <td>95.0</td>\n      <td>11.68</td>\n      <td>209.2</td>\n      <td>69.0</td>\n      <td>17.78</td>\n      <td>197.4</td>\n      <td>42.0</td>\n      <td>8.88</td>\n      <td>11.4</td>\n      <td>4.0</td>\n      <td>3.08</td>\n      <td>1.0</td>\n      <td>No</td>\n    </tr>\n    <tr>\n      <th>4</th>\n      <td>1005</td>\n      <td>98.0</td>\n      <td>452</td>\n      <td>no</td>\n      <td>yes</td>\n      <td>22.0</td>\n      <td>278.3</td>\n      <td>89.0</td>\n      <td>47.31</td>\n      <td>93.4</td>\n      <td>143.0</td>\n      <td>7.94</td>\n      <td>107.6</td>\n      <td>42.0</td>\n      <td>4.84</td>\n      <td>9.7</td>\n      <td>5.0</td>\n      <td>2.62</td>\n      <td>0.0</td>\n      <td>No</td>\n    </tr>\n    <tr>\n      <th>...</th>\n      <td>...</td>\n      <td>...</td>\n      <td>...</td>\n      <td>...</td>\n      <td>...</td>\n      <td>...</td>\n      <td>...</td>\n      <td>...</td>\n      <td>...</td>\n      <td>...</td>\n      <td>...</td>\n      <td>...</td>\n      <td>...</td>\n      <td>...</td>\n      <td>...</td>\n      <td>...</td>\n      <td>...</td>\n      <td>...</td>\n      <td>...</td>\n      <td>...</td>\n    </tr>\n    <tr>\n      <th>2316</th>\n      <td>3317</td>\n      <td>109.0</td>\n      <td>452</td>\n      <td>no</td>\n      <td>no</td>\n      <td>0.0</td>\n      <td>180.0</td>\n      <td>100.0</td>\n      <td>30.6</td>\n      <td>229.0</td>\n      <td>103.0</td>\n      <td>19.47</td>\n      <td>139.4</td>\n      <td>105.0</td>\n      <td>6.27</td>\n      <td>7.8</td>\n      <td>8.0</td>\n      <td>2.11</td>\n      <td>3.0</td>\n      <td>No</td>\n    </tr>\n    <tr>\n      <th>2317</th>\n      <td>3318</td>\n      <td>185.0</td>\n      <td>452</td>\n      <td>yes</td>\n      <td>yes</td>\n      <td>30.0</td>\n      <td>154.1</td>\n      <td>114.0</td>\n      <td>26.2</td>\n      <td>118.7</td>\n      <td>106.0</td>\n      <td>10.09</td>\n      <td>258.4</td>\n      <td>105.0</td>\n      <td>11.63</td>\n      <td>12.9</td>\n      <td>3.0</td>\n      <td>3.48</td>\n      <td>2.0</td>\n      <td>No</td>\n    </tr>\n    <tr>\n      <th>2318</th>\n      <td>3319</td>\n      <td>55.0</td>\n      <td>452</td>\n      <td>yes</td>\n      <td>no</td>\n      <td>0.0</td>\n      <td>188.9</td>\n      <td>88.0</td>\n      <td>34.62</td>\n      <td>270.1</td>\n      <td>105.0</td>\n      <td>22.77</td>\n      <td>209.7</td>\n      <td>105.0</td>\n      <td>9.17</td>\n      <td>14.3</td>\n      <td>5.0</td>\n      <td>3.86</td>\n      <td>1.0</td>\n      <td>Yes</td>\n    </tr>\n    <tr>\n      <th>2319</th>\n      <td>3320</td>\n      <td>138.0</td>\n      <td>547</td>\n      <td>yes</td>\n      <td>no</td>\n      <td>0.0</td>\n      <td>191.2</td>\n      <td>130.0</td>\n      <td>32.35</td>\n      <td>164.5</td>\n      <td>88.0</td>\n      <td>14.0</td>\n      <td>241.4</td>\n      <td>105.0</td>\n      <td>10.46</td>\n      <td>15.2</td>\n      <td>1.0</td>\n      <td>4.1</td>\n      <td>0.0</td>\n      <td>Yes</td>\n    </tr>\n    <tr>\n      <th>2320</th>\n      <td>3321</td>\n      <td>24.0</td>\n      <td>547</td>\n      <td>no</td>\n      <td>no</td>\n      <td>0.0</td>\n      <td>251.0</td>\n      <td>95.0</td>\n      <td>40.31</td>\n      <td>179.9</td>\n      <td>77.0</td>\n      <td>16.63</td>\n      <td>189.3</td>\n      <td>105.0</td>\n      <td>8.29</td>\n      <td>15.3</td>\n      <td>7.0</td>\n      <td>4.13</td>\n      <td>0.0</td>\n      <td>Yes</td>\n    </tr>\n  </tbody>\n</table>\n<p>2321 rows × 20 columns</p>\n</div>"
     },
     "execution_count": 21,
     "metadata": {},
     "output_type": "execute_result"
    }
   ],
   "source": [
    "df.fillna('Unknown')"
   ],
   "metadata": {
    "collapsed": false,
    "pycharm": {
     "name": "#%%\n"
    }
   }
  },
  {
   "cell_type": "code",
   "execution_count": 23,
   "outputs": [],
   "source": [
    "df.to_csv(\"web.csv\",index=False)"
   ],
   "metadata": {
    "collapsed": false,
    "pycharm": {
     "name": "#%%\n"
    }
   }
  },
  {
   "cell_type": "code",
   "execution_count": 25,
   "outputs": [
    {
     "data": {
      "text/plain": "customer_id               0\naccount_length            2\nlocation_code             0\nintertiol_plan            3\nvoice_mail_plan           6\nnumber_vm_messages        3\ntotal_day_min             1\ntotal_day_calls           3\ntotal_day_charge          5\ntotal_eve_min             3\ntotal_eve_calls           4\ntotal_eve_charge          8\ntotal_night_minutes       2\ntotal_night_calls         5\ntotal_night_charge        5\ntotal_intl_minutes        2\ntotal_intl_calls          3\ntotal_intl_charge         5\ncustomer_service_calls    1\nChurn                     5\ndtype: int64"
     },
     "execution_count": 25,
     "metadata": {},
     "output_type": "execute_result"
    }
   ],
   "source": [
    "df.isnull().sum()"
   ],
   "metadata": {
    "collapsed": false,
    "pycharm": {
     "name": "#%%\n"
    }
   }
  },
  {
   "cell_type": "code",
   "execution_count": 27,
   "outputs": [
    {
     "data": {
      "text/plain": "customer_id                  0\naccount_length               2\nlocation_code                0\nintertiol_plan               3\nvoice_mail_plan              6\nnumber_vm_messages           3\ntotal_day_min                1\ntotal_day_calls              3\ntotal_day_charge             5\ntotal_eve_min                3\ntotal_eve_calls              4\ntotal_eve_charge             8\ntotal_night_minutes          2\ntotal_night_calls            5\ntotal_night_charge           5\ntotal_intl_minutes           2\ntotal_intl_calls             3\ntotal_intl_charge            5\ncustomer_service_calls       1\nChurn                        5\nUnnamed: 20               2321\ndtype: int64"
     },
     "execution_count": 27,
     "metadata": {},
     "output_type": "execute_result"
    }
   ],
   "source": [
    "df.isnull().sum()"
   ],
   "metadata": {
    "collapsed": false,
    "pycharm": {
     "name": "#%%\n"
    }
   }
  },
  {
   "cell_type": "code",
   "execution_count": 29,
   "outputs": [],
   "source": [
    "df=df.fillna('Unknown')"
   ],
   "metadata": {
    "collapsed": false,
    "pycharm": {
     "name": "#%%\n"
    }
   }
  },
  {
   "cell_type": "code",
   "execution_count": 30,
   "outputs": [
    {
     "data": {
      "text/plain": "customer_id               0\naccount_length            0\nlocation_code             0\nintertiol_plan            0\nvoice_mail_plan           0\nnumber_vm_messages        0\ntotal_day_min             0\ntotal_day_calls           0\ntotal_day_charge          0\ntotal_eve_min             0\ntotal_eve_calls           0\ntotal_eve_charge          0\ntotal_night_minutes       0\ntotal_night_calls         0\ntotal_night_charge        0\ntotal_intl_minutes        0\ntotal_intl_calls          0\ntotal_intl_charge         0\ncustomer_service_calls    0\nChurn                     0\nUnnamed: 20               0\ndtype: int64"
     },
     "execution_count": 30,
     "metadata": {},
     "output_type": "execute_result"
    }
   ],
   "source": [
    "df.isnull().sum()"
   ],
   "metadata": {
    "collapsed": false,
    "pycharm": {
     "name": "#%%\n"
    }
   }
  },
  {
   "cell_type": "code",
   "execution_count": 32,
   "outputs": [
    {
     "data": {
      "text/plain": "(2321, 21)"
     },
     "execution_count": 32,
     "metadata": {},
     "output_type": "execute_result"
    }
   ],
   "source": [
    "df.shape"
   ],
   "metadata": {
    "collapsed": false,
    "pycharm": {
     "name": "#%%\n"
    }
   }
  },
  {
   "cell_type": "code",
   "execution_count": 33,
   "outputs": [],
   "source": [
    "drop_features = [ 'Unnamed: 19', 'Unnamed: 20']\n",
    "drop_columns(df, drop_features)"
   ],
   "metadata": {
    "collapsed": false,
    "pycharm": {
     "name": "#%%\n"
    }
   }
  },
  {
   "cell_type": "code",
   "execution_count": 34,
   "outputs": [
    {
     "data": {
      "text/plain": "(2321, 20)"
     },
     "execution_count": 34,
     "metadata": {},
     "output_type": "execute_result"
    }
   ],
   "source": [
    "df.shape"
   ],
   "metadata": {
    "collapsed": false,
    "pycharm": {
     "name": "#%%\n"
    }
   }
  },
  {
   "cell_type": "code",
   "execution_count": 36,
   "outputs": [],
   "source": [
    "df.to_csv(\"web.csv\",index=False)"
   ],
   "metadata": {
    "collapsed": false,
    "pycharm": {
     "name": "#%%\n"
    }
   }
  },
  {
   "cell_type": "code",
   "execution_count": 37,
   "outputs": [],
   "source": [
    "df_web = pd.read_csv('web.csv')"
   ],
   "metadata": {
    "collapsed": false,
    "pycharm": {
     "name": "#%%\n"
    }
   }
  },
  {
   "cell_type": "code",
   "execution_count": 38,
   "outputs": [
    {
     "data": {
      "text/plain": "customer_id               0\naccount_length            0\nlocation_code             0\nintertiol_plan            0\nvoice_mail_plan           0\nnumber_vm_messages        0\ntotal_day_min             0\ntotal_day_calls           0\ntotal_day_charge          0\ntotal_eve_min             0\ntotal_eve_calls           0\ntotal_eve_charge          0\ntotal_night_minutes       0\ntotal_night_calls         0\ntotal_night_charge        0\ntotal_intl_minutes        0\ntotal_intl_calls          0\ntotal_intl_charge         0\ncustomer_service_calls    0\nChurn                     0\ndtype: int64"
     },
     "execution_count": 38,
     "metadata": {},
     "output_type": "execute_result"
    }
   ],
   "source": [
    "df_web.isnull().sum()"
   ],
   "metadata": {
    "collapsed": false,
    "pycharm": {
     "name": "#%%\n"
    }
   }
  },
  {
   "cell_type": "code",
   "execution_count": 39,
   "outputs": [
    {
     "data": {
      "text/plain": "(2321, 20)"
     },
     "execution_count": 39,
     "metadata": {},
     "output_type": "execute_result"
    }
   ],
   "source": [
    "df_web.shape"
   ],
   "metadata": {
    "collapsed": false,
    "pycharm": {
     "name": "#%%\n"
    }
   }
  },
  {
   "cell_type": "code",
   "execution_count": 41,
   "outputs": [],
   "source": [
    "drop_features = [ 'Unnamed: 19', 'Unnamed: 20']\n",
    "drop_columns(df_web, drop_features)"
   ],
   "metadata": {
    "collapsed": false,
    "pycharm": {
     "name": "#%%\n"
    }
   }
  },
  {
   "cell_type": "code",
   "execution_count": 42,
   "outputs": [
    {
     "data": {
      "text/plain": "(2321, 20)"
     },
     "execution_count": 42,
     "metadata": {},
     "output_type": "execute_result"
    }
   ],
   "source": [
    "df_web.shape"
   ],
   "metadata": {
    "collapsed": false,
    "pycharm": {
     "name": "#%%\n"
    }
   }
  },
  {
   "cell_type": "code",
   "execution_count": null,
   "outputs": [],
   "source": [],
   "metadata": {
    "collapsed": false,
    "pycharm": {
     "name": "#%%\n"
    }
   }
  }
 ],
 "metadata": {
  "kernelspec": {
   "display_name": "Python 3",
   "language": "python",
   "name": "python3"
  },
  "language_info": {
   "codemirror_mode": {
    "name": "ipython",
    "version": 2
   },
   "file_extension": ".py",
   "mimetype": "text/x-python",
   "name": "python",
   "nbconvert_exporter": "python",
   "pygments_lexer": "ipython2",
   "version": "2.7.6"
  }
 },
 "nbformat": 4,
 "nbformat_minor": 0
}