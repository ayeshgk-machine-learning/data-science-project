{
 "cells": [
  {
   "cell_type": "code",
   "execution_count": 1,
   "metadata": {
    "collapsed": true
   },
   "outputs": [],
   "source": [
    "import numpy as np\n",
    "import pandas as pd"
   ]
  },
  {
   "cell_type": "code",
   "execution_count": 2,
   "outputs": [],
   "source": [
    "import seaborn as sns\n",
    "import matplotlib.pyplot as plt\n",
    "import scipy.stats as stats\n",
    "% matplotlib inline"
   ],
   "metadata": {
    "collapsed": false,
    "pycharm": {
     "name": "#%%\n"
    }
   }
  },
  {
   "cell_type": "code",
   "execution_count": 2,
   "outputs": [],
   "source": [],
   "metadata": {
    "collapsed": false,
    "pycharm": {
     "name": "#%%\n"
    }
   }
  },
  {
   "cell_type": "code",
   "execution_count": 3,
   "outputs": [],
   "source": [
    "plt.style.use(\"seaborn-whitegrid\")\n",
    "plt.rc(\"figure\", autolayout=True)\n",
    "plt.rc(\n",
    "    \"axes\",\n",
    "    labelweight=\"bold\",\n",
    "    labelsize=\"large\",\n",
    "    titleweight=\"bold\",\n",
    "    titlesize=14,\n",
    "    titlepad=10,\n",
    ")"
   ],
   "metadata": {
    "collapsed": false,
    "pycharm": {
     "name": "#%%\n"
    }
   }
  },
  {
   "cell_type": "code",
   "execution_count": 4,
   "outputs": [],
   "source": [
    "from sklearn.preprocessing import OneHotEncoder\n",
    "from sklearn.model_selection import train_test_split"
   ],
   "metadata": {
    "collapsed": false,
    "pycharm": {
     "name": "#%%\n"
    }
   }
  },
  {
   "cell_type": "code",
   "execution_count": 5,
   "outputs": [],
   "source": [
    "from sklearn.metrics import accuracy_score\n",
    "from sklearn.metrics import classification_report\n",
    "from sklearn.metrics import confusion_matrix"
   ],
   "metadata": {
    "collapsed": false,
    "pycharm": {
     "name": "#%%\n"
    }
   }
  },
  {
   "cell_type": "code",
   "execution_count": 6,
   "outputs": [
    {
     "name": "stderr",
     "output_type": "stream",
     "text": [
      "c:\\python\\lib\\site-packages\\xgboost\\compat.py:36: FutureWarning: pandas.Int64Index is deprecated and will be removed from pandas in a future version. Use pandas.Index with the appropriate dtype instead.\n",
      "  from pandas import MultiIndex, Int64Index\n"
     ]
    }
   ],
   "source": [
    "#models\n",
    "from sklearn.linear_model import LogisticRegression\n",
    "from sklearn.ensemble import RandomForestClassifier\n",
    "from sklearn.svm import SVC\n",
    "from xgboost import XGBClassifier\n",
    "from sklearn.ensemble import GradientBoostingClassifier"
   ],
   "metadata": {
    "collapsed": false,
    "pycharm": {
     "name": "#%%\n"
    }
   }
  },
  {
   "cell_type": "code",
   "execution_count": 7,
   "outputs": [],
   "source": [
    "from sklearn.metrics import accuracy_score, precision_score, recall_score, f1_score, roc_auc_score,\n",
    "\n",
    "classification_report, confusion_matrix, mean_squared_error, r2_score"
   ],
   "metadata": {
    "collapsed": false,
    "pycharm": {
     "name": "#%%\n"
    }
   }
  },
  {
   "cell_type": "code",
   "execution_count": 8,
   "outputs": [],
   "source": [
    "df_train = pd.read_csv('Train_Dataset_190649F.csv')\n",
    "df_test = pd.read_csv('Test_Dataset_190649F.csv')"
   ],
   "metadata": {
    "collapsed": false,
    "pycharm": {
     "name": "#%%\n"
    }
   }
  },
  {
   "cell_type": "code",
   "execution_count": 9,
   "outputs": [],
   "source": [
    "df_train.intertiol_plan.replace('no', 0, inplace=True)\n",
    "df_train.intertiol_plan.replace('yes', 1, inplace=True)\n",
    "\n",
    "df_test.intertiol_plan.replace('no', 0, inplace=True)\n",
    "df_test.intertiol_plan.replace('yes', 1, inplace=True)"
   ],
   "metadata": {
    "collapsed": false,
    "pycharm": {
     "name": "#%%\n"
    }
   }
  },
  {
   "cell_type": "code",
   "execution_count": 10,
   "outputs": [],
   "source": [
    "df_train.voice_mail_plan.replace('no', 0, inplace=True)\n",
    "df_train.voice_mail_plan.replace('yes', 1, inplace=True)\n",
    "\n",
    "df_test.voice_mail_plan.replace('no', 0, inplace=True)\n",
    "df_test.voice_mail_plan.replace('yes', 1, inplace=True)"
   ],
   "metadata": {
    "collapsed": false,
    "pycharm": {
     "name": "#%%\n"
    }
   }
  },
  {
   "cell_type": "code",
   "execution_count": 11,
   "outputs": [],
   "source": [
    "df_train.Churn.replace('No', 0, inplace=True)\n",
    "df_train.Churn.replace('Yes', 1, inplace=True)"
   ],
   "metadata": {
    "collapsed": false,
    "pycharm": {
     "name": "#%%\n"
    }
   }
  },
  {
   "cell_type": "code",
   "execution_count": 12,
   "outputs": [],
   "source": [
    "def one_hot_encoding(df, feature):\n",
    "    data = df.copy()\n",
    "    onehot = OneHotEncoder()\n",
    "    onehot.fit(data[[feature]])\n",
    "\n",
    "    encoded = onehot.transform(data[[feature]])\n",
    "    data[onehot.categories_[0]] = encoded.toarray()\n",
    "    return data.drop(feature, axis=1)"
   ],
   "metadata": {
    "collapsed": false,
    "pycharm": {
     "name": "#%%\n"
    }
   }
  },
  {
   "cell_type": "code",
   "execution_count": 13,
   "outputs": [],
   "source": [
    "df_train = one_hot_encoding(df_train, 'location_code')\n",
    "df_test = one_hot_encoding(df_test, 'location_code')"
   ],
   "metadata": {
    "collapsed": false,
    "pycharm": {
     "name": "#%%\n"
    }
   }
  },
  {
   "cell_type": "code",
   "execution_count": 14,
   "outputs": [],
   "source": [
    "df_train['total_charge'] = df_train['total_intl_charge'] + df_train['total_night_charge'] + df_train[\n",
    "    'total_eve_charge'] + df_train['total_day_charge']\n",
    "df_test['total_charge'] = df_test['total_intl_charge'] + df_test['total_night_charge'] + df_test['total_eve_charge'] +\n",
    "df_test['total_day_charge']"
   ],
   "metadata": {
    "collapsed": false,
    "pycharm": {
     "name": "#%%\n"
    }
   }
  },
  {
   "cell_type": "code",
   "execution_count": 15,
   "outputs": [],
   "source": [
    "df_train['total_calls'] = df_train['total_intl_calls'] + df_train['total_night_calls'] + df_train['total_eve_calls'] +\n",
    "df_train['total_day_calls']\n",
    "df_test['total_calls'] = df_test['total_intl_calls'] + df_test['total_night_calls'] + df_test['total_eve_calls'] +\n",
    "df_test['total_day_calls']"
   ],
   "metadata": {
    "collapsed": false,
    "pycharm": {
     "name": "#%%\n"
    }
   }
  },
  {
   "cell_type": "code",
   "execution_count": 16,
   "outputs": [],
   "source": [
    "df_train['total_min'] = df_train['total_intl_minutes'] + df_train['total_night_minutes'] + df_train['total_eve_min'] +\n",
    "df_train['total_day_min']\n",
    "df_test['total_min'] = df_test['total_intl_minutes'] + df_test['total_night_minutes'] + df_test['total_eve_min'] +\n",
    "df_test['total_day_min']"
   ],
   "metadata": {
    "collapsed": false,
    "pycharm": {
     "name": "#%%\n"
    }
   }
  },
  {
   "cell_type": "code",
   "execution_count": 17,
   "outputs": [],
   "source": [
    "df_train[\"no_of_plans\"] = df_train['intertiol_plan'] + df_train['voice_mail_plan']\n",
    "df_test['no_of_plans'] = df_test['intertiol_plan'] + df_test['voice_mail_plan']"
   ],
   "metadata": {
    "collapsed": false,
    "pycharm": {
     "name": "#%%\n"
    }
   }
  },
  {
   "cell_type": "code",
   "execution_count": 18,
   "outputs": [],
   "source": [
    "df_train['avg_call_mins'] = df_train['total_min'] / df_train['total_calls']\n",
    "df_test['avg_call_mins'] = df_test['total_min'] / df_test['total_calls']"
   ],
   "metadata": {
    "collapsed": false,
    "pycharm": {
     "name": "#%%\n"
    }
   }
  },
  {
   "cell_type": "code",
   "execution_count": 20,
   "outputs": [
    {
     "data": {
      "text/plain": "Index([           'customer_id',         'account_length',\n               'intertiol_plan',        'voice_mail_plan',\n           'number_vm_messages',          'total_day_min',\n              'total_day_calls',       'total_day_charge',\n                'total_eve_min',        'total_eve_calls',\n             'total_eve_charge',    'total_night_minutes',\n            'total_night_calls',     'total_night_charge',\n           'total_intl_minutes',       'total_intl_calls',\n            'total_intl_charge', 'customer_service_calls',\n                        'Churn',                    445.0,\n                          452.0,                    547.0,\n                 'total_charge',            'total_calls',\n                    'total_min',            'no_of_plans',\n                'avg_call_mins'],\n      dtype='object')"
     },
     "execution_count": 20,
     "metadata": {},
     "output_type": "execute_result"
    }
   ],
   "source": [
    "df_train.columns"
   ],
   "metadata": {
    "collapsed": false,
    "pycharm": {
     "name": "#%%\n"
    }
   }
  },
  {
   "cell_type": "code",
   "execution_count": 25,
   "outputs": [],
   "source": [
    "x_columns = ['account_length',\n",
    "             'intertiol_plan',\n",
    "             'voice_mail_plan',\n",
    "             'number_vm_messages',\n",
    "             'total_day_min',\n",
    "             'total_day_calls',\n",
    "             'total_day_charge',\n",
    "             'total_eve_min',\n",
    "             'total_eve_calls',\n",
    "             'total_eve_charge',\n",
    "             'total_night_minutes',\n",
    "             'total_night_calls',\n",
    "             'total_night_charge',\n",
    "             'total_intl_minutes',\n",
    "             'total_intl_calls',\n",
    "             'total_intl_charge',\n",
    "             'customer_service_calls',\n",
    "             445.0,\n",
    "             452.0,\n",
    "             547.0,\n",
    "             'total_charge',\n",
    "             'total_calls',\n",
    "             'total_min',\n",
    "             'no_of_plans',\n",
    "             'avg_call_mins']"
   ],
   "metadata": {
    "collapsed": false,
    "pycharm": {
     "name": "#%%\n"
    }
   }
  },
  {
   "cell_type": "code",
   "execution_count": 26,
   "outputs": [],
   "source": [
    "x =df_train[x_columns]\n",
    "y=df_train['Churn']"
   ],
   "metadata": {
    "collapsed": false,
    "pycharm": {
     "name": "#%%\n"
    }
   }
  },
  {
   "cell_type": "code",
   "execution_count": 27,
   "outputs": [],
   "source": [
    "x_train, x_test, y_train, y_test = train_test_split(x, y, test_size=0.3, random_state=42)"
   ],
   "metadata": {
    "collapsed": false,
    "pycharm": {
     "name": "#%%\n"
    }
   }
  },
  {
   "cell_type": "code",
   "execution_count": 29,
   "outputs": [
    {
     "data": {
      "text/plain": "      account_length  intertiol_plan  voice_mail_plan  number_vm_messages  \\\n1452           104.0               0                0                 0.0   \n2053            80.0               0                1                38.0   \n1195            61.0               0                1                20.0   \n1073           149.0               0                1                20.0   \n1187            58.0               0                0                 0.0   \n\n      total_day_min  total_day_calls  total_day_charge  total_eve_min  \\\n1452          156.2             93.0             26.55          193.0   \n2053          236.6             69.0             40.22          197.5   \n1195          254.4            133.0             43.25          161.7   \n1073          264.4            102.0             44.95          219.6   \n1187          232.2            111.0             42.02          292.7   \n\n      total_eve_calls  total_eve_charge  ...  total_intl_charge  \\\n1452             54.0             16.41  ...               3.54   \n2053             68.0             16.79  ...               2.57   \n1195             96.0             13.74  ...               2.84   \n1073            123.0             18.67  ...               3.05   \n1187            105.0             25.81  ...               2.51   \n\n      customer_service_calls  445.0  452.0  547.0  total_charge  total_calls  \\\n1452                     1.0    0.0    1.0    0.0         56.52        246.0   \n2053                     2.0    0.0    1.0    0.0         69.01        249.0   \n1195                     0.0    0.0    1.0    0.0         71.14        324.0   \n1073                     2.0    0.0    1.0    0.0         75.69        317.0   \n1187                     2.0    0.0    1.0    0.0         75.08        308.0   \n\n      total_min  no_of_plans  avg_call_mins  \n1452      585.0            0       2.378049  \n2053      653.1            1       2.622892  \n1195      678.0            1       2.092593  \n1073      695.7            1       2.194637  \n1187      647.6            0       2.102597  \n\n[5 rows x 25 columns]",
      "text/html": "<div>\n<style scoped>\n    .dataframe tbody tr th:only-of-type {\n        vertical-align: middle;\n    }\n\n    .dataframe tbody tr th {\n        vertical-align: top;\n    }\n\n    .dataframe thead th {\n        text-align: right;\n    }\n</style>\n<table border=\"1\" class=\"dataframe\">\n  <thead>\n    <tr style=\"text-align: right;\">\n      <th></th>\n      <th>account_length</th>\n      <th>intertiol_plan</th>\n      <th>voice_mail_plan</th>\n      <th>number_vm_messages</th>\n      <th>total_day_min</th>\n      <th>total_day_calls</th>\n      <th>total_day_charge</th>\n      <th>total_eve_min</th>\n      <th>total_eve_calls</th>\n      <th>total_eve_charge</th>\n      <th>...</th>\n      <th>total_intl_charge</th>\n      <th>customer_service_calls</th>\n      <th>445.0</th>\n      <th>452.0</th>\n      <th>547.0</th>\n      <th>total_charge</th>\n      <th>total_calls</th>\n      <th>total_min</th>\n      <th>no_of_plans</th>\n      <th>avg_call_mins</th>\n    </tr>\n  </thead>\n  <tbody>\n    <tr>\n      <th>1452</th>\n      <td>104.0</td>\n      <td>0</td>\n      <td>0</td>\n      <td>0.0</td>\n      <td>156.2</td>\n      <td>93.0</td>\n      <td>26.55</td>\n      <td>193.0</td>\n      <td>54.0</td>\n      <td>16.41</td>\n      <td>...</td>\n      <td>3.54</td>\n      <td>1.0</td>\n      <td>0.0</td>\n      <td>1.0</td>\n      <td>0.0</td>\n      <td>56.52</td>\n      <td>246.0</td>\n      <td>585.0</td>\n      <td>0</td>\n      <td>2.378049</td>\n    </tr>\n    <tr>\n      <th>2053</th>\n      <td>80.0</td>\n      <td>0</td>\n      <td>1</td>\n      <td>38.0</td>\n      <td>236.6</td>\n      <td>69.0</td>\n      <td>40.22</td>\n      <td>197.5</td>\n      <td>68.0</td>\n      <td>16.79</td>\n      <td>...</td>\n      <td>2.57</td>\n      <td>2.0</td>\n      <td>0.0</td>\n      <td>1.0</td>\n      <td>0.0</td>\n      <td>69.01</td>\n      <td>249.0</td>\n      <td>653.1</td>\n      <td>1</td>\n      <td>2.622892</td>\n    </tr>\n    <tr>\n      <th>1195</th>\n      <td>61.0</td>\n      <td>0</td>\n      <td>1</td>\n      <td>20.0</td>\n      <td>254.4</td>\n      <td>133.0</td>\n      <td>43.25</td>\n      <td>161.7</td>\n      <td>96.0</td>\n      <td>13.74</td>\n      <td>...</td>\n      <td>2.84</td>\n      <td>0.0</td>\n      <td>0.0</td>\n      <td>1.0</td>\n      <td>0.0</td>\n      <td>71.14</td>\n      <td>324.0</td>\n      <td>678.0</td>\n      <td>1</td>\n      <td>2.092593</td>\n    </tr>\n    <tr>\n      <th>1073</th>\n      <td>149.0</td>\n      <td>0</td>\n      <td>1</td>\n      <td>20.0</td>\n      <td>264.4</td>\n      <td>102.0</td>\n      <td>44.95</td>\n      <td>219.6</td>\n      <td>123.0</td>\n      <td>18.67</td>\n      <td>...</td>\n      <td>3.05</td>\n      <td>2.0</td>\n      <td>0.0</td>\n      <td>1.0</td>\n      <td>0.0</td>\n      <td>75.69</td>\n      <td>317.0</td>\n      <td>695.7</td>\n      <td>1</td>\n      <td>2.194637</td>\n    </tr>\n    <tr>\n      <th>1187</th>\n      <td>58.0</td>\n      <td>0</td>\n      <td>0</td>\n      <td>0.0</td>\n      <td>232.2</td>\n      <td>111.0</td>\n      <td>42.02</td>\n      <td>292.7</td>\n      <td>105.0</td>\n      <td>25.81</td>\n      <td>...</td>\n      <td>2.51</td>\n      <td>2.0</td>\n      <td>0.0</td>\n      <td>1.0</td>\n      <td>0.0</td>\n      <td>75.08</td>\n      <td>308.0</td>\n      <td>647.6</td>\n      <td>0</td>\n      <td>2.102597</td>\n    </tr>\n  </tbody>\n</table>\n<p>5 rows × 25 columns</p>\n</div>"
     },
     "execution_count": 29,
     "metadata": {},
     "output_type": "execute_result"
    }
   ],
   "source": [
    "x_train.head()"
   ],
   "metadata": {
    "collapsed": false,
    "pycharm": {
     "name": "#%%\n"
    }
   }
  },
  {
   "cell_type": "code",
   "execution_count": 28,
   "outputs": [
    {
     "name": "stdout",
     "output_type": "stream",
     "text": [
      "Accuracy: \n",
      "0.771551724137931\n",
      "Classification report: \n",
      "              precision    recall  f1-score   support\n",
      "\n",
      "           0       0.77      1.00      0.87       532\n",
      "           1       0.86      0.04      0.07       164\n",
      "\n",
      "    accuracy                           0.77       696\n",
      "   macro avg       0.81      0.52      0.47       696\n",
      "weighted avg       0.79      0.77      0.68       696\n",
      "\n",
      "Confusion Matrix\n",
      "[[531   1]\n",
      " [158   6]]\n"
     ]
    },
    {
     "name": "stderr",
     "output_type": "stream",
     "text": [
      "c:\\python\\lib\\site-packages\\sklearn\\utils\\validation.py:1688: FutureWarning: Feature names only support names that are all strings. Got feature names with dtypes: ['float64', 'str']. An error will be raised in 1.2.\n",
      "  warnings.warn(\n",
      "c:\\python\\lib\\site-packages\\sklearn\\utils\\validation.py:1688: FutureWarning: Feature names only support names that are all strings. Got feature names with dtypes: ['float64', 'str']. An error will be raised in 1.2.\n",
      "  warnings.warn(\n"
     ]
    }
   ],
   "source": [
    "svc = SVC(kernel='rbf', decision_function_shape='ovr')\n",
    "svc.fit(x_train, y_train)\n",
    "y_pred = svc.predict(x_test)\n",
    "print('Accuracy: ')\n",
    "print('{}'.format(accuracy_score(y_test, y_pred)))\n",
    "print('Classification report: ')\n",
    "print('{}'.format(classification_report(y_test, y_pred)))\n",
    "print('Confusion Matrix')\n",
    "print('{}'.format(confusion_matrix(y_test, y_pred)))\n",
    "# print('Cohen kappa score: ')\n",
    "# print('{}'.format(cohen_kappa_score(y_test, y_pred)))"
   ],
   "metadata": {
    "collapsed": false,
    "pycharm": {
     "name": "#%%\n"
    }
   }
  },
  {
   "cell_type": "code",
   "execution_count": 30,
   "outputs": [
    {
     "name": "stderr",
     "output_type": "stream",
     "text": [
      "c:\\python\\lib\\site-packages\\sklearn\\utils\\validation.py:1688: FutureWarning: Feature names only support names that are all strings. Got feature names with dtypes: ['float64', 'str']. An error will be raised in 1.2.\n",
      "  warnings.warn(\n"
     ]
    },
    {
     "name": "stdout",
     "output_type": "stream",
     "text": [
      "Accuracy: \n",
      "0.9683908045977011\n",
      "Classification report: \n",
      "              precision    recall  f1-score   support\n",
      "\n",
      "           0       0.98      0.98      0.98       532\n",
      "           1       0.94      0.92      0.93       164\n",
      "\n",
      "    accuracy                           0.97       696\n",
      "   macro avg       0.96      0.95      0.96       696\n",
      "weighted avg       0.97      0.97      0.97       696\n",
      "\n",
      "Confusion Matrix\n",
      "[[523   9]\n",
      " [ 13 151]]\n"
     ]
    },
    {
     "name": "stderr",
     "output_type": "stream",
     "text": [
      "c:\\python\\lib\\site-packages\\sklearn\\utils\\validation.py:1688: FutureWarning: Feature names only support names that are all strings. Got feature names with dtypes: ['float64', 'str']. An error will be raised in 1.2.\n",
      "  warnings.warn(\n",
      "c:\\python\\lib\\site-packages\\sklearn\\utils\\validation.py:1688: FutureWarning: Feature names only support names that are all strings. Got feature names with dtypes: ['float64', 'str']. An error will be raised in 1.2.\n",
      "  warnings.warn(\n"
     ]
    }
   ],
   "source": [
    "xg = GradientBoostingClassifier(learning_rate=0.01, n_estimators=400,max_depth=13)\n",
    "xg.fit(x_train,y_train )\n",
    "xg.score(x_train, y_train)\n"
   ],
   "metadata": {
    "collapsed": false,
    "pycharm": {
     "name": "#%%\n"
    }
   }
  },
  {
   "cell_type": "code",
   "execution_count": 31,
   "outputs": [
    {
     "name": "stdout",
     "output_type": "stream",
     "text": [
      "Accuracy: \n",
      "0.9683908045977011\n",
      "Classification report: \n",
      "              precision    recall  f1-score   support\n",
      "\n",
      "           0       0.98      0.98      0.98       532\n",
      "           1       0.94      0.92      0.93       164\n",
      "\n",
      "    accuracy                           0.97       696\n",
      "   macro avg       0.96      0.95      0.96       696\n",
      "weighted avg       0.97      0.97      0.97       696\n",
      "\n",
      "Confusion Matrix\n",
      "[[523   9]\n",
      " [ 13 151]]\n"
     ]
    },
    {
     "name": "stderr",
     "output_type": "stream",
     "text": [
      "c:\\python\\lib\\site-packages\\sklearn\\utils\\validation.py:1688: FutureWarning: Feature names only support names that are all strings. Got feature names with dtypes: ['float64', 'str']. An error will be raised in 1.2.\n",
      "  warnings.warn(\n"
     ]
    }
   ],
   "source": [
    "y_pred = xg.predict(x_test)\n",
    "print('Accuracy: ')\n",
    "print('{}'.format(accuracy_score(y_test, y_pred)))\n",
    "print('Classification report: ')\n",
    "print('{}'.format(classification_report(y_test, y_pred)))\n",
    "print('Confusion Matrix')\n",
    "print('{}'.format(confusion_matrix(y_test, y_pred)))"
   ],
   "metadata": {
    "collapsed": false,
    "pycharm": {
     "name": "#%%\n"
    }
   }
  },
  {
   "cell_type": "code",
   "execution_count": 32,
   "outputs": [],
   "source": [
    "%matplotlib inline\n",
    "\n",
    "from sklearn.metrics import confusion_matrix"
   ],
   "metadata": {
    "collapsed": false,
    "pycharm": {
     "name": "#%%\n"
    }
   }
  },
  {
   "cell_type": "code",
   "execution_count": 33,
   "outputs": [
    {
     "data": {
      "text/plain": "Text(6.800000000000008, 0.5, 'Truth')"
     },
     "execution_count": 33,
     "metadata": {},
     "output_type": "execute_result"
    },
    {
     "data": {
      "text/plain": "<Figure size 504x360 with 2 Axes>",
      "image/png": "[encoded data removed]"
     },
     "metadata": {
      "needs_background": "light"
     },
     "output_type": "display_data"
    }
   ],
   "source": [
    "\n",
    "\n",
    "cm = confusion_matrix(y_test, y_pred)\n",
    "\n",
    "\n",
    "\n",
    "plt.figure(figsize=(7,5))\n",
    "sns.heatmap(cm, annot=True)\n",
    "plt.xlabel('Predicted')\n",
    "plt.ylabel('Truth')"
   ],
   "metadata": {
    "collapsed": false,
    "pycharm": {
     "name": "#%%\n"
    }
   }
  },
  {
   "cell_type": "code",
   "execution_count": 34,
   "outputs": [
    {
     "name": "stderr",
     "output_type": "stream",
     "text": [
      "c:\\python\\lib\\site-packages\\sklearn\\utils\\validation.py:1688: FutureWarning: Feature names only support names that are all strings. Got feature names with dtypes: ['float64', 'str']. An error will be raised in 1.2.\n",
      "  warnings.warn(\n"
     ]
    },
    {
     "name": "stdout",
     "output_type": "stream",
     "text": [
      "Accuracy: \n",
      "0.9698275862068966\n",
      "Classification report: \n",
      "              precision    recall  f1-score   support\n",
      "\n",
      "           0       0.97      0.99      0.98       532\n",
      "           1       0.98      0.89      0.93       164\n",
      "\n",
      "    accuracy                           0.97       696\n",
      "   macro avg       0.97      0.94      0.96       696\n",
      "weighted avg       0.97      0.97      0.97       696\n",
      "\n",
      "Confusion Matrix\n",
      "[[529   3]\n",
      " [ 18 146]]\n"
     ]
    },
    {
     "name": "stderr",
     "output_type": "stream",
     "text": [
      "c:\\python\\lib\\site-packages\\sklearn\\utils\\validation.py:1688: FutureWarning: Feature names only support names that are all strings. Got feature names with dtypes: ['float64', 'str']. An error will be raised in 1.2.\n",
      "  warnings.warn(\n",
      "c:\\python\\lib\\site-packages\\sklearn\\utils\\validation.py:1688: FutureWarning: Feature names only support names that are all strings. Got feature names with dtypes: ['float64', 'str']. An error will be raised in 1.2.\n",
      "  warnings.warn(\n"
     ]
    }
   ],
   "source": [
    "rf = RandomForestClassifier(random_state=1,n_estimators=400)\n",
    "rf.fit(x_train,y_train )\n",
    "rf.score(x_train, y_train)\n",
    "y_pred = rf.predict(x_test)\n",
    "print('Accuracy: ')\n",
    "print('{}'.format(accuracy_score(y_test, y_pred)))\n",
    "print('Classification report: ')\n",
    "print('{}'.format(classification_report(y_test, y_pred)))\n",
    "print('Confusion Matrix')\n",
    "print('{}'.format(confusion_matrix(y_test, y_pred)))"
   ],
   "metadata": {
    "collapsed": false,
    "pycharm": {
     "name": "#%%\n"
    }
   }
  },
  {
   "cell_type": "code",
   "execution_count": 35,
   "outputs": [
    {
     "data": {
      "text/plain": "Text(6.800000000000008, 0.5, 'Truth')"
     },
     "execution_count": 35,
     "metadata": {},
     "output_type": "execute_result"
    },
    {
     "data": {
      "text/plain": "<Figure size 504x360 with 2 Axes>",
      "image/png": "[encoded data removed]"
     },
     "metadata": {
      "needs_background": "light"
     },
     "output_type": "display_data"
    }
   ],
   "source": [
    "cm = confusion_matrix(y_test, y_pred)\n",
    "\n",
    "\n",
    "\n",
    "plt.figure(figsize=(7,5))\n",
    "sns.heatmap(cm, annot=True)\n",
    "plt.xlabel('Predicted')\n",
    "plt.ylabel('Truth')"
   ],
   "metadata": {
    "collapsed": false,
    "pycharm": {
     "name": "#%%\n"
    }
   }
  },
  {
   "cell_type": "code",
   "execution_count": 36,
   "outputs": [],
   "source": [
    "import xgboost"
   ],
   "metadata": {
    "collapsed": false,
    "pycharm": {
     "name": "#%%\n"
    }
   }
  },
  {
   "cell_type": "code",
   "execution_count": 37,
   "outputs": [
    {
     "name": "stderr",
     "output_type": "stream",
     "text": [
      "c:\\python\\lib\\site-packages\\xgboost\\sklearn.py:1224: UserWarning: The use of label encoder in XGBClassifier is deprecated and will be removed in a future release. To remove this warning, do the following: 1) Pass option use_label_encoder=False when constructing XGBClassifier object; and 2) Encode your labels (y) as integers starting with 0, i.e. 0, 1, 2, ..., [num_class - 1].\n",
      "  warnings.warn(label_encoder_deprecation_msg, UserWarning)\n",
      "c:\\python\\lib\\site-packages\\xgboost\\data.py:262: FutureWarning: pandas.Int64Index is deprecated and will be removed from pandas in a future version. Use pandas.Index with the appropriate dtype instead.\n",
      "  elif isinstance(data.columns, (pd.Int64Index, pd.RangeIndex)):\n"
     ]
    },
    {
     "name": "stdout",
     "output_type": "stream",
     "text": [
      "[22:12:25] WARNING: C:/Users/Administrator/workspace/xgboost-win64_release_1.5.1/src/learner.cc:1115: Starting in XGBoost 1.3.0, the default evaluation metric used with the objective 'binary:logistic' was changed from 'error' to 'logloss'. Explicitly set eval_metric if you'd like to restore the old behavior.\n"
     ]
    },
    {
     "data": {
      "text/plain": "0.9975323874151758"
     },
     "execution_count": 37,
     "metadata": {},
     "output_type": "execute_result"
    }
   ],
   "source": [
    "model_xg = XGBClassifier(learning_rate=0.01, n_estimators=400,max_depth=13)\n",
    "model_xg.fit(x_train,y_train )\n",
    "model_xg.score(x_train, y_train)"
   ],
   "metadata": {
    "collapsed": false,
    "pycharm": {
     "name": "#%%\n"
    }
   }
  },
  {
   "cell_type": "code",
   "execution_count": 38,
   "outputs": [
    {
     "name": "stdout",
     "output_type": "stream",
     "text": [
      "Accuracy: \n",
      "0.9698275862068966\n",
      "Classification report: \n",
      "              precision    recall  f1-score   support\n",
      "\n",
      "           0       0.97      0.99      0.98       532\n",
      "           1       0.98      0.89      0.93       164\n",
      "\n",
      "    accuracy                           0.97       696\n",
      "   macro avg       0.97      0.94      0.96       696\n",
      "weighted avg       0.97      0.97      0.97       696\n",
      "\n",
      "Confusion Matrix\n",
      "[[529   3]\n",
      " [ 18 146]]\n"
     ]
    },
    {
     "name": "stderr",
     "output_type": "stream",
     "text": [
      "c:\\python\\lib\\site-packages\\xgboost\\data.py:262: FutureWarning: pandas.Int64Index is deprecated and will be removed from pandas in a future version. Use pandas.Index with the appropriate dtype instead.\n",
      "  elif isinstance(data.columns, (pd.Int64Index, pd.RangeIndex)):\n"
     ]
    }
   ],
   "source": [
    "y_pred = model_xg.predict(x_test)\n",
    "print('Accuracy: ')\n",
    "print('{}'.format(accuracy_score(y_test, y_pred)))\n",
    "print('Classification report: ')\n",
    "print('{}'.format(classification_report(y_test, y_pred)))\n",
    "print('Confusion Matrix')\n",
    "print('{}'.format(confusion_matrix(y_test, y_pred)))"
   ],
   "metadata": {
    "collapsed": false,
    "pycharm": {
     "name": "#%%\n"
    }
   }
  },
  {
   "cell_type": "code",
   "execution_count": 39,
   "outputs": [
    {
     "data": {
      "text/plain": "Text(6.800000000000008, 0.5, 'Truth')"
     },
     "execution_count": 39,
     "metadata": {},
     "output_type": "execute_result"
    },
    {
     "data": {
      "text/plain": "<Figure size 504x360 with 2 Axes>",
      "image/png": "[encoded data removed]"
     },
     "metadata": {
      "needs_background": "light"
     },
     "output_type": "display_data"
    }
   ],
   "source": [
    "cm = confusion_matrix(y_test, y_pred)\n",
    "\n",
    "\n",
    "\n",
    "plt.figure(figsize=(7,5))\n",
    "sns.heatmap(cm, annot=True)\n",
    "plt.xlabel('Predicted')\n",
    "plt.ylabel('Truth')"
   ],
   "metadata": {
    "collapsed": false,
    "pycharm": {
     "name": "#%%\n"
    }
   }
  },
  {
   "cell_type": "code",
   "execution_count": 40,
   "outputs": [],
   "source": [
    "from sklearn.neighbors import KNeighborsClassifier"
   ],
   "metadata": {
    "collapsed": false,
    "pycharm": {
     "name": "#%%\n"
    }
   }
  },
  {
   "cell_type": "code",
   "execution_count": 44,
   "outputs": [
    {
     "name": "stdout",
     "output_type": "stream",
     "text": [
      "Accuracy: \n",
      "0.8160919540229885\n",
      "Classification report: \n",
      "              precision    recall  f1-score   support\n",
      "\n",
      "           0       0.84      0.94      0.89       532\n",
      "           1       0.69      0.40      0.51       164\n",
      "\n",
      "    accuracy                           0.82       696\n",
      "   macro avg       0.76      0.67      0.70       696\n",
      "weighted avg       0.80      0.82      0.80       696\n",
      "\n",
      "Confusion Matrix\n",
      "[[502  30]\n",
      " [ 98  66]]\n"
     ]
    },
    {
     "name": "stderr",
     "output_type": "stream",
     "text": [
      "c:\\python\\lib\\site-packages\\sklearn\\utils\\validation.py:1688: FutureWarning: Feature names only support names that are all strings. Got feature names with dtypes: ['float64', 'str']. An error will be raised in 1.2.\n",
      "  warnings.warn(\n",
      "c:\\python\\lib\\site-packages\\sklearn\\utils\\validation.py:1688: FutureWarning: Feature names only support names that are all strings. Got feature names with dtypes: ['float64', 'str']. An error will be raised in 1.2.\n",
      "  warnings.warn(\n",
      "c:\\python\\lib\\site-packages\\sklearn\\utils\\validation.py:1688: FutureWarning: Feature names only support names that are all strings. Got feature names with dtypes: ['float64', 'str']. An error will be raised in 1.2.\n",
      "  warnings.warn(\n"
     ]
    }
   ],
   "source": [
    "knn = KNeighborsClassifier(n_neighbors=2,leaf_size=5,p=1)\n",
    "knn.fit(x_train,y_train )\n",
    "knn.score(x_train, y_train)\n",
    "y_pred = knn.predict(x_test)\n",
    "print('Accuracy: ')\n",
    "print('{}'.format(accuracy_score(y_test, y_pred)))\n",
    "print('Classification report: ')\n",
    "print('{}'.format(classification_report(y_test, y_pred)))\n",
    "print('Confusion Matrix')\n",
    "print('{}'.format(confusion_matrix(y_test, y_pred)))"
   ],
   "metadata": {
    "collapsed": false,
    "pycharm": {
     "name": "#%%\n"
    }
   }
  },
  {
   "cell_type": "code",
   "execution_count": 45,
   "outputs": [],
   "source": [],
   "metadata": {
    "collapsed": false,
    "pycharm": {
     "name": "#%%\n"
    }
   }
  },
  {
   "cell_type": "code",
   "execution_count": null,
   "outputs": [],
   "source": [],
   "metadata": {
    "collapsed": false,
    "pycharm": {
     "name": "#%%\n"
    }
   }
  }
 ],
 "metadata": {
  "kernelspec": {
   "display_name": "Python 3",
   "language": "python",
   "name": "python3"
  },
  "language_info": {
   "codemirror_mode": {
    "name": "ipython",
    "version": 2
   },
   "file_extension": ".py",
   "mimetype": "text/x-python",
   "name": "python",
   "nbconvert_exporter": "python",
   "pygments_lexer": "ipython2",
   "version": "2.7.6"
  }
 },
 "nbformat": 4,
 "nbformat_minor": 0
}