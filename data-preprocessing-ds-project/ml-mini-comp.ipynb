{
 "cells": [
  {
   "cell_type": "code",
   "execution_count": 1,
   "outputs": [
    {
     "name": "stderr",
     "output_type": "stream",
     "text": [
      "c:\\python\\lib\\site-packages\\scipy\\__init__.py:146: UserWarning: A NumPy version >=1.16.5 and <1.23.0 is required for this version of SciPy (detected version 1.23.1\n",
      "  warnings.warn(f\"A NumPy version >={np_minversion} and <{np_maxversion}\"\n"
     ]
    }
   ],
   "source": [
    "import numpy as np\n",
    "import pandas as pd\n",
    "from sklearn.preprocessing import OneHotEncoder\n",
    "from sklearn.model_selection import train_test_split\n",
    "\n",
    "# from sklearn.linear_model import LogisticRegression\n",
    "from sklearn.ensemble import RandomForestClassifier\n",
    "# from sklearn.svm import SVC\n",
    "# from xgboost import XGBClassifier\n",
    "# from sklearn.ensemble import GradientBoostingClassifier"
   ],
   "metadata": {
    "collapsed": false,
    "pycharm": {
     "name": "#%%\n"
    }
   }
  },
  {
   "cell_type": "code",
   "execution_count": 3,
   "metadata": {
    "collapsed": true
   },
   "outputs": [],
   "source": [
    "\n",
    "def one_hot_encoding(df, feature):\n",
    "    data = df.copy()\n",
    "    onehot = OneHotEncoder()\n",
    "    onehot.fit(data[[feature]])\n",
    "\n",
    "    encoded = onehot.transform(data[[feature]])\n",
    "    data[onehot.categories_[0]] = encoded.toarray()\n",
    "    return data.drop(feature, axis=1)\n",
    "\n",
    "\n",
    "df_train = pd.read_csv('Train_Dataset_190649F.csv')\n",
    "df_test = pd.read_csv('Test_Dataset_190649F.csv')\n",
    "\n",
    "df_train.intertiol_plan.replace('no', 0, inplace=True)\n",
    "df_train.intertiol_plan.replace('yes', 1, inplace=True)\n",
    "\n",
    "df_test.intertiol_plan.replace('no', 0, inplace=True)\n",
    "df_test.intertiol_plan.replace('yes', 1, inplace=True)\n",
    "\n",
    "df_train.voice_mail_plan.replace('no', 0, inplace=True)\n",
    "df_train.voice_mail_plan.replace('yes', 1, inplace=True)\n",
    "\n",
    "df_test.voice_mail_plan.replace('no', 0, inplace=True)\n",
    "df_test.voice_mail_plan.replace('yes', 1, inplace=True)\n",
    "\n",
    "df_train.Churn.replace('No', 0, inplace=True)\n",
    "df_train.Churn.replace('Yes', 1, inplace=True)\n",
    "\n",
    "df_train = one_hot_encoding(df_train, 'location_code')\n",
    "df_test = one_hot_encoding(df_test, 'location_code')\n",
    "\n",
    "# new features\n",
    "df_train['total_charge'] = df_train['total_intl_charge'] + df_train['total_night_charge'] + df_train[\n",
    "    'total_eve_charge'] + df_train['total_day_charge']\n",
    "df_test['total_charge'] = df_test['total_intl_charge'] + df_test['total_night_charge'] + df_test['total_eve_charge'] + df_test['total_day_charge']\n",
    "\n",
    "df_train['total_calls'] = df_train['total_intl_calls'] + df_train['total_night_calls'] + df_train['total_eve_calls'] +df_train['total_day_calls']\n",
    "df_test['total_calls'] = df_test['total_intl_calls'] + df_test['total_night_calls'] + df_test['total_eve_calls'] + df_test['total_day_calls']\n",
    "\n",
    "df_train['total_min'] = df_train['total_intl_minutes'] + df_train['total_night_minutes'] + df_train['total_eve_min'] +df_train['total_day_min']\n",
    "df_test['total_min'] = df_test['total_intl_minutes'] + df_test['total_night_minutes'] + df_test['total_eve_min'] +df_test['total_day_min']\n",
    "\n",
    "df_train[\"no_of_plans\"] = df_train['intertiol_plan'] + df_train['voice_mail_plan']\n",
    "df_test['no_of_plans'] = df_test['intertiol_plan'] + df_test['voice_mail_plan']\n",
    "\n",
    "df_train['avg_call_mins'] = df_train['total_min'] / df_train['total_calls']\n",
    "df_test['avg_call_mins'] = df_test['total_min'] / df_test['total_calls']\n",
    "\n",
    "x_columns = ['account_length',\n",
    "             'intertiol_plan',\n",
    "             'voice_mail_plan',\n",
    "             'number_vm_messages',\n",
    "             'total_day_min',\n",
    "             'total_day_calls',\n",
    "             'total_day_charge',\n",
    "             'total_eve_min',\n",
    "             'total_eve_calls',\n",
    "             'total_eve_charge',\n",
    "             'total_night_minutes',\n",
    "             'total_night_calls',\n",
    "             'total_night_charge',\n",
    "             'total_intl_minutes',\n",
    "             'total_intl_calls',\n",
    "             'total_intl_charge',\n",
    "             'customer_service_calls',\n",
    "             445.0,\n",
    "             452.0,\n",
    "             547.0,\n",
    "             'total_charge',\n",
    "             'total_calls',\n",
    "             'total_min',\n",
    "             'no_of_plans',\n",
    "             'avg_call_mins']\n",
    "\n",
    "x = df_train[x_columns]\n",
    "y = df_train['Churn']\n",
    "\n",
    "\n"
   ]
  },
  {
   "cell_type": "code",
   "execution_count": 4,
   "outputs": [
    {
     "name": "stderr",
     "output_type": "stream",
     "text": [
      "c:\\python\\lib\\site-packages\\sklearn\\utils\\validation.py:1688: FutureWarning: Feature names only support names that are all strings. Got feature names with dtypes: ['float64', 'str']. An error will be raised in 1.2.\n",
      "  warnings.warn(\n"
     ]
    },
    {
     "data": {
      "text/plain": "RandomForestClassifier(n_estimators=400, random_state=1)"
     },
     "execution_count": 4,
     "metadata": {},
     "output_type": "execute_result"
    }
   ],
   "source": [
    "x_train, x_test, y_train, y_test = train_test_split(x, y, test_size=0.3, random_state=42)\n",
    "rf = RandomForestClassifier(random_state=1, n_estimators=400)\n",
    "rf.fit(x_train, y_train)"
   ],
   "metadata": {
    "collapsed": false,
    "pycharm": {
     "name": "#%%\n"
    }
   }
  },
  {
   "cell_type": "code",
   "execution_count": 5,
   "outputs": [
    {
     "name": "stderr",
     "output_type": "stream",
     "text": [
      "c:\\python\\lib\\site-packages\\sklearn\\utils\\validation.py:1688: FutureWarning: Feature names only support names that are all strings. Got feature names with dtypes: ['float64', 'str']. An error will be raised in 1.2.\n",
      "  warnings.warn(\n"
     ]
    }
   ],
   "source": [
    "predict = rf.predict(x_test)"
   ],
   "metadata": {
    "collapsed": false,
    "pycharm": {
     "name": "#%%\n"
    }
   }
  },
  {
   "cell_type": "code",
   "execution_count": 7,
   "outputs": [],
   "source": [
    "from sklearn.metrics import accuracy_score"
   ],
   "metadata": {
    "collapsed": false,
    "pycharm": {
     "name": "#%%\n"
    }
   }
  },
  {
   "cell_type": "code",
   "execution_count": 8,
   "outputs": [
    {
     "name": "stdout",
     "output_type": "stream",
     "text": [
      "Accuracy: \n",
      "0.9698275862068966\n"
     ]
    }
   ],
   "source": [
    "print('Accuracy: ')\n",
    "print('{}'.format(accuracy_score(y_test, predict)))"
   ],
   "metadata": {
    "collapsed": false,
    "pycharm": {
     "name": "#%%\n"
    }
   }
  },
  {
   "cell_type": "code",
   "execution_count": 9,
   "outputs": [
    {
     "data": {
      "text/plain": "   customer_id  account_length  intertiol_plan  voice_mail_plan  \\\n0         1001            15.0               0                0   \n1         1002           105.0               0                0   \n2         1003            97.0               0                1   \n3         1004           121.0               0                1   \n4         1005            98.0               0                1   \n\n   number_vm_messages  total_day_min  total_day_calls  total_day_charge  \\\n0                 0.0          121.1            130.0             20.59   \n1                 0.0          259.3             96.0             44.08   \n2                32.0          183.4             94.0             31.18   \n3                35.0           68.7             95.0             11.68   \n4                22.0          278.3             89.0             47.31   \n\n   total_eve_min  total_eve_calls  ...  customer_service_calls  Churn  445.0  \\\n0          216.0             86.0  ...                     2.0      0    0.0   \n1          175.2             97.0  ...                     3.0      0    0.0   \n2          269.1            120.0  ...                     5.0      0    0.0   \n3          209.2             69.0  ...                     1.0      0    1.0   \n4           93.4            143.0  ...                     0.0      0    0.0   \n\n   452.0  547.0  total_charge  total_calls  total_min  no_of_plans  \\\n0    1.0    0.0         53.88        254.0      588.3            0   \n1    1.0    0.0         72.22        234.0      668.9            0   \n2    1.0    0.0         65.02        256.0      662.7            1   \n3    0.0    0.0         41.42        210.0      486.7            1   \n4    1.0    0.0         62.71        279.0      489.0            1   \n\n   avg_call_mins  \n0       2.316142  \n1       2.858547  \n2       2.588672  \n3       2.317619  \n4       1.752688  \n\n[5 rows x 27 columns]",
      "text/html": "<div>\n<style scoped>\n    .dataframe tbody tr th:only-of-type {\n        vertical-align: middle;\n    }\n\n    .dataframe tbody tr th {\n        vertical-align: top;\n    }\n\n    .dataframe thead th {\n        text-align: right;\n    }\n</style>\n<table border=\"1\" class=\"dataframe\">\n  <thead>\n    <tr style=\"text-align: right;\">\n      <th></th>\n      <th>customer_id</th>\n      <th>account_length</th>\n      <th>intertiol_plan</th>\n      <th>voice_mail_plan</th>\n      <th>number_vm_messages</th>\n      <th>total_day_min</th>\n      <th>total_day_calls</th>\n      <th>total_day_charge</th>\n      <th>total_eve_min</th>\n      <th>total_eve_calls</th>\n      <th>...</th>\n      <th>customer_service_calls</th>\n      <th>Churn</th>\n      <th>445.0</th>\n      <th>452.0</th>\n      <th>547.0</th>\n      <th>total_charge</th>\n      <th>total_calls</th>\n      <th>total_min</th>\n      <th>no_of_plans</th>\n      <th>avg_call_mins</th>\n    </tr>\n  </thead>\n  <tbody>\n    <tr>\n      <th>0</th>\n      <td>1001</td>\n      <td>15.0</td>\n      <td>0</td>\n      <td>0</td>\n      <td>0.0</td>\n      <td>121.1</td>\n      <td>130.0</td>\n      <td>20.59</td>\n      <td>216.0</td>\n      <td>86.0</td>\n      <td>...</td>\n      <td>2.0</td>\n      <td>0</td>\n      <td>0.0</td>\n      <td>1.0</td>\n      <td>0.0</td>\n      <td>53.88</td>\n      <td>254.0</td>\n      <td>588.3</td>\n      <td>0</td>\n      <td>2.316142</td>\n    </tr>\n    <tr>\n      <th>1</th>\n      <td>1002</td>\n      <td>105.0</td>\n      <td>0</td>\n      <td>0</td>\n      <td>0.0</td>\n      <td>259.3</td>\n      <td>96.0</td>\n      <td>44.08</td>\n      <td>175.2</td>\n      <td>97.0</td>\n      <td>...</td>\n      <td>3.0</td>\n      <td>0</td>\n      <td>0.0</td>\n      <td>1.0</td>\n      <td>0.0</td>\n      <td>72.22</td>\n      <td>234.0</td>\n      <td>668.9</td>\n      <td>0</td>\n      <td>2.858547</td>\n    </tr>\n    <tr>\n      <th>2</th>\n      <td>1003</td>\n      <td>97.0</td>\n      <td>0</td>\n      <td>1</td>\n      <td>32.0</td>\n      <td>183.4</td>\n      <td>94.0</td>\n      <td>31.18</td>\n      <td>269.1</td>\n      <td>120.0</td>\n      <td>...</td>\n      <td>5.0</td>\n      <td>0</td>\n      <td>0.0</td>\n      <td>1.0</td>\n      <td>0.0</td>\n      <td>65.02</td>\n      <td>256.0</td>\n      <td>662.7</td>\n      <td>1</td>\n      <td>2.588672</td>\n    </tr>\n    <tr>\n      <th>3</th>\n      <td>1004</td>\n      <td>121.0</td>\n      <td>0</td>\n      <td>1</td>\n      <td>35.0</td>\n      <td>68.7</td>\n      <td>95.0</td>\n      <td>11.68</td>\n      <td>209.2</td>\n      <td>69.0</td>\n      <td>...</td>\n      <td>1.0</td>\n      <td>0</td>\n      <td>1.0</td>\n      <td>0.0</td>\n      <td>0.0</td>\n      <td>41.42</td>\n      <td>210.0</td>\n      <td>486.7</td>\n      <td>1</td>\n      <td>2.317619</td>\n    </tr>\n    <tr>\n      <th>4</th>\n      <td>1005</td>\n      <td>98.0</td>\n      <td>0</td>\n      <td>1</td>\n      <td>22.0</td>\n      <td>278.3</td>\n      <td>89.0</td>\n      <td>47.31</td>\n      <td>93.4</td>\n      <td>143.0</td>\n      <td>...</td>\n      <td>0.0</td>\n      <td>0</td>\n      <td>0.0</td>\n      <td>1.0</td>\n      <td>0.0</td>\n      <td>62.71</td>\n      <td>279.0</td>\n      <td>489.0</td>\n      <td>1</td>\n      <td>1.752688</td>\n    </tr>\n  </tbody>\n</table>\n<p>5 rows × 27 columns</p>\n</div>"
     },
     "execution_count": 9,
     "metadata": {},
     "output_type": "execute_result"
    }
   ],
   "source": [
    "df_train.head()"
   ],
   "metadata": {
    "collapsed": false,
    "pycharm": {
     "name": "#%%\n"
    }
   }
  },
  {
   "cell_type": "code",
   "execution_count": 10,
   "outputs": [
    {
     "data": {
      "text/plain": "   customer_id  account_length  intertiol_plan  voice_mail_plan  \\\n0         3322            91.0               1                0   \n1         3323           113.0               0                1   \n2         3324           122.0               0                0   \n3         3325           103.0               0                0   \n4         3326           111.0               0                0   \n\n   number_vm_messages  total_day_min  total_day_calls  total_day_charge  \\\n0                 0.0          258.4            112.0             42.89   \n1                20.0          155.8             81.0             28.83   \n2                 0.0          237.2            137.0             40.30   \n3                 0.0          133.6            117.0             23.60   \n4                 0.0          115.6            120.0             24.54   \n\n   total_eve_min  total_eve_calls  ...  total_intl_charge  \\\n0          190.0             93.0  ...               3.27   \n1          168.5             62.0  ...               2.35   \n2          263.8            134.0  ...               2.38   \n3          156.1            130.0  ...               2.81   \n4          211.1             66.0  ...               3.43   \n\n   customer_service_calls  445.0  452.0  547.0  total_charge  total_calls  \\\n0                     2.0    1.0    0.0    0.0         67.72        313.0   \n1                     5.0    1.0    0.0    0.0         57.13        251.0   \n2                     1.0    1.0    0.0    0.0         76.25        380.0   \n3                     8.0    1.0    0.0    0.0         49.73        359.0   \n4                     4.0    0.0    1.0    0.0         52.52        292.0   \n\n   total_min  no_of_plans  avg_call_mins  \n0      619.1            1       1.977955  \n1      608.5            1       2.424303  \n2      761.1            0       2.002895  \n3      507.3            0       1.413092  \n4      480.3            0       1.644863  \n\n[5 rows x 26 columns]",
      "text/html": "<div>\n<style scoped>\n    .dataframe tbody tr th:only-of-type {\n        vertical-align: middle;\n    }\n\n    .dataframe tbody tr th {\n        vertical-align: top;\n    }\n\n    .dataframe thead th {\n        text-align: right;\n    }\n</style>\n<table border=\"1\" class=\"dataframe\">\n  <thead>\n    <tr style=\"text-align: right;\">\n      <th></th>\n      <th>customer_id</th>\n      <th>account_length</th>\n      <th>intertiol_plan</th>\n      <th>voice_mail_plan</th>\n      <th>number_vm_messages</th>\n      <th>total_day_min</th>\n      <th>total_day_calls</th>\n      <th>total_day_charge</th>\n      <th>total_eve_min</th>\n      <th>total_eve_calls</th>\n      <th>...</th>\n      <th>total_intl_charge</th>\n      <th>customer_service_calls</th>\n      <th>445.0</th>\n      <th>452.0</th>\n      <th>547.0</th>\n      <th>total_charge</th>\n      <th>total_calls</th>\n      <th>total_min</th>\n      <th>no_of_plans</th>\n      <th>avg_call_mins</th>\n    </tr>\n  </thead>\n  <tbody>\n    <tr>\n      <th>0</th>\n      <td>3322</td>\n      <td>91.0</td>\n      <td>1</td>\n      <td>0</td>\n      <td>0.0</td>\n      <td>258.4</td>\n      <td>112.0</td>\n      <td>42.89</td>\n      <td>190.0</td>\n      <td>93.0</td>\n      <td>...</td>\n      <td>3.27</td>\n      <td>2.0</td>\n      <td>1.0</td>\n      <td>0.0</td>\n      <td>0.0</td>\n      <td>67.72</td>\n      <td>313.0</td>\n      <td>619.1</td>\n      <td>1</td>\n      <td>1.977955</td>\n    </tr>\n    <tr>\n      <th>1</th>\n      <td>3323</td>\n      <td>113.0</td>\n      <td>0</td>\n      <td>1</td>\n      <td>20.0</td>\n      <td>155.8</td>\n      <td>81.0</td>\n      <td>28.83</td>\n      <td>168.5</td>\n      <td>62.0</td>\n      <td>...</td>\n      <td>2.35</td>\n      <td>5.0</td>\n      <td>1.0</td>\n      <td>0.0</td>\n      <td>0.0</td>\n      <td>57.13</td>\n      <td>251.0</td>\n      <td>608.5</td>\n      <td>1</td>\n      <td>2.424303</td>\n    </tr>\n    <tr>\n      <th>2</th>\n      <td>3324</td>\n      <td>122.0</td>\n      <td>0</td>\n      <td>0</td>\n      <td>0.0</td>\n      <td>237.2</td>\n      <td>137.0</td>\n      <td>40.30</td>\n      <td>263.8</td>\n      <td>134.0</td>\n      <td>...</td>\n      <td>2.38</td>\n      <td>1.0</td>\n      <td>1.0</td>\n      <td>0.0</td>\n      <td>0.0</td>\n      <td>76.25</td>\n      <td>380.0</td>\n      <td>761.1</td>\n      <td>0</td>\n      <td>2.002895</td>\n    </tr>\n    <tr>\n      <th>3</th>\n      <td>3325</td>\n      <td>103.0</td>\n      <td>0</td>\n      <td>0</td>\n      <td>0.0</td>\n      <td>133.6</td>\n      <td>117.0</td>\n      <td>23.60</td>\n      <td>156.1</td>\n      <td>130.0</td>\n      <td>...</td>\n      <td>2.81</td>\n      <td>8.0</td>\n      <td>1.0</td>\n      <td>0.0</td>\n      <td>0.0</td>\n      <td>49.73</td>\n      <td>359.0</td>\n      <td>507.3</td>\n      <td>0</td>\n      <td>1.413092</td>\n    </tr>\n    <tr>\n      <th>4</th>\n      <td>3326</td>\n      <td>111.0</td>\n      <td>0</td>\n      <td>0</td>\n      <td>0.0</td>\n      <td>115.6</td>\n      <td>120.0</td>\n      <td>24.54</td>\n      <td>211.1</td>\n      <td>66.0</td>\n      <td>...</td>\n      <td>3.43</td>\n      <td>4.0</td>\n      <td>0.0</td>\n      <td>1.0</td>\n      <td>0.0</td>\n      <td>52.52</td>\n      <td>292.0</td>\n      <td>480.3</td>\n      <td>0</td>\n      <td>1.644863</td>\n    </tr>\n  </tbody>\n</table>\n<p>5 rows × 26 columns</p>\n</div>"
     },
     "execution_count": 10,
     "metadata": {},
     "output_type": "execute_result"
    }
   ],
   "source": [
    "df_test.head()"
   ],
   "metadata": {
    "collapsed": false,
    "pycharm": {
     "name": "#%%\n"
    }
   }
  },
  {
   "cell_type": "code",
   "execution_count": null,
   "outputs": [],
   "source": [],
   "metadata": {
    "collapsed": false,
    "pycharm": {
     "name": "#%%\n"
    }
   }
  },
  {
   "cell_type": "code",
   "execution_count": 11,
   "outputs": [
    {
     "name": "stderr",
     "output_type": "stream",
     "text": [
      "c:\\python\\lib\\site-packages\\sklearn\\utils\\validation.py:1688: FutureWarning: Feature names only support names that are all strings. Got feature names with dtypes: ['float64', 'str']. An error will be raised in 1.2.\n",
      "  warnings.warn(\n"
     ]
    }
   ],
   "source": [
    "y_predict = rf.predict(df_test[x_columns])\n",
    "df_test[\"Churn\"] = y_predict\n",
    "submit_df = df_test[[\"customer_id\",\"Churn\"]]\n",
    "df_train.Churn.replace('No', 0, inplace=True)\n",
    "df_train.Churn.replace('Yes', 1, inplace=True)\n",
    "submit_df.to_csv(\"submit_1.csv\",index=False)"
   ],
   "metadata": {
    "collapsed": false,
    "pycharm": {
     "name": "#%%\n"
    }
   }
  },
  {
   "cell_type": "code",
   "execution_count": 16,
   "outputs": [],
   "source": [
    "df_sample = pd.read_csv('sample_submission.csv')"
   ],
   "metadata": {
    "collapsed": false,
    "pycharm": {
     "name": "#%%\n"
    }
   }
  },
  {
   "cell_type": "code",
   "execution_count": 17,
   "outputs": [],
   "source": [
    "df_sample[\"Churn\"] =y_predict\n",
    "df_sample.Churn.replace( 0,'No', inplace=True)\n",
    "df_sample.Churn.replace( 1,'Yes', inplace=True)"
   ],
   "metadata": {
    "collapsed": false,
    "pycharm": {
     "name": "#%%\n"
    }
   }
  },
  {
   "cell_type": "code",
   "execution_count": 18,
   "outputs": [
    {
     "data": {
      "text/plain": "   customer_id Churn\n0         3322    No\n1         3323    No\n2         3324   Yes\n3         3325   Yes\n4         3326   Yes",
      "text/html": "<div>\n<style scoped>\n    .dataframe tbody tr th:only-of-type {\n        vertical-align: middle;\n    }\n\n    .dataframe tbody tr th {\n        vertical-align: top;\n    }\n\n    .dataframe thead th {\n        text-align: right;\n    }\n</style>\n<table border=\"1\" class=\"dataframe\">\n  <thead>\n    <tr style=\"text-align: right;\">\n      <th></th>\n      <th>customer_id</th>\n      <th>Churn</th>\n    </tr>\n  </thead>\n  <tbody>\n    <tr>\n      <th>0</th>\n      <td>3322</td>\n      <td>No</td>\n    </tr>\n    <tr>\n      <th>1</th>\n      <td>3323</td>\n      <td>No</td>\n    </tr>\n    <tr>\n      <th>2</th>\n      <td>3324</td>\n      <td>Yes</td>\n    </tr>\n    <tr>\n      <th>3</th>\n      <td>3325</td>\n      <td>Yes</td>\n    </tr>\n    <tr>\n      <th>4</th>\n      <td>3326</td>\n      <td>Yes</td>\n    </tr>\n  </tbody>\n</table>\n</div>"
     },
     "execution_count": 18,
     "metadata": {},
     "output_type": "execute_result"
    }
   ],
   "source": [
    "df_sample.head()"
   ],
   "metadata": {
    "collapsed": false,
    "pycharm": {
     "name": "#%%\n"
    }
   }
  },
  {
   "cell_type": "code",
   "execution_count": 20,
   "outputs": [],
   "source": [
    "df_sample.to_csv(\"submit_3.csv\",index=False)"
   ],
   "metadata": {
    "collapsed": false,
    "pycharm": {
     "name": "#%%\n"
    }
   }
  },
  {
   "cell_type": "code",
   "execution_count": 21,
   "outputs": [
    {
     "name": "stderr",
     "output_type": "stream",
     "text": [
      "c:\\python\\lib\\site-packages\\sklearn\\utils\\validation.py:1688: FutureWarning: Feature names only support names that are all strings. Got feature names with dtypes: ['float64', 'str']. An error will be raised in 1.2.\n",
      "  warnings.warn(\n"
     ]
    },
    {
     "data": {
      "text/plain": "RandomForestClassifier(n_estimators=400, random_state=1)"
     },
     "execution_count": 21,
     "metadata": {},
     "output_type": "execute_result"
    }
   ],
   "source": [
    "rf_2= RandomForestClassifier(random_state=1, n_estimators=400)\n",
    "rf_2.fit(x, y)"
   ],
   "metadata": {
    "collapsed": false,
    "pycharm": {
     "name": "#%%\n"
    }
   }
  },
  {
   "cell_type": "code",
   "execution_count": 22,
   "outputs": [
    {
     "name": "stderr",
     "output_type": "stream",
     "text": [
      "c:\\python\\lib\\site-packages\\sklearn\\utils\\validation.py:1688: FutureWarning: Feature names only support names that are all strings. Got feature names with dtypes: ['float64', 'str']. An error will be raised in 1.2.\n",
      "  warnings.warn(\n"
     ]
    },
    {
     "data": {
      "text/plain": "   customer_id Churn\n0         3322    No\n1         3323    No\n2         3324   Yes\n3         3325   Yes\n4         3326   Yes",
      "text/html": "<div>\n<style scoped>\n    .dataframe tbody tr th:only-of-type {\n        vertical-align: middle;\n    }\n\n    .dataframe tbody tr th {\n        vertical-align: top;\n    }\n\n    .dataframe thead th {\n        text-align: right;\n    }\n</style>\n<table border=\"1\" class=\"dataframe\">\n  <thead>\n    <tr style=\"text-align: right;\">\n      <th></th>\n      <th>customer_id</th>\n      <th>Churn</th>\n    </tr>\n  </thead>\n  <tbody>\n    <tr>\n      <th>0</th>\n      <td>3322</td>\n      <td>No</td>\n    </tr>\n    <tr>\n      <th>1</th>\n      <td>3323</td>\n      <td>No</td>\n    </tr>\n    <tr>\n      <th>2</th>\n      <td>3324</td>\n      <td>Yes</td>\n    </tr>\n    <tr>\n      <th>3</th>\n      <td>3325</td>\n      <td>Yes</td>\n    </tr>\n    <tr>\n      <th>4</th>\n      <td>3326</td>\n      <td>Yes</td>\n    </tr>\n  </tbody>\n</table>\n</div>"
     },
     "execution_count": 22,
     "metadata": {},
     "output_type": "execute_result"
    }
   ],
   "source": [
    "df_sample[\"Churn\"] =rf_2.predict(df_test[x_columns])\n",
    "df_sample.Churn.replace( 0,'No', inplace=True)\n",
    "df_sample.Churn.replace( 1,'Yes', inplace=True)\n",
    "df_sample.to_csv(\"submit_4.csv\",index=False)\n",
    "df_sample.head()"
   ],
   "metadata": {
    "collapsed": false,
    "pycharm": {
     "name": "#%%\n"
    }
   }
  },
  {
   "cell_type": "code",
   "execution_count": 5,
   "outputs": [],
   "source": [
    "x_train, x_test, y_train, y_test = train_test_split(x, y, test_size=0.3, random_state=42)"
   ],
   "metadata": {
    "collapsed": false,
    "pycharm": {
     "name": "#%%\n"
    }
   }
  },
  {
   "cell_type": "code",
   "execution_count": 6,
   "outputs": [],
   "source": [
    "import lightgbm as lg"
   ],
   "metadata": {
    "collapsed": false,
    "pycharm": {
     "name": "#%%\n"
    }
   }
  },
  {
   "cell_type": "code",
   "execution_count": 7,
   "outputs": [
    {
     "data": {
      "text/plain": "LGBMClassifier(max_depth=8, n_estimators=435, num_leaves=35, random_state=0,\n               verbose=-1)"
     },
     "execution_count": 7,
     "metadata": {},
     "output_type": "execute_result"
    }
   ],
   "source": [
    "lgbm_model = lg.LGBMClassifier(\n",
    "    random_state = 0,\n",
    "    n_estimators=435,\n",
    "    num_leaves=35,\n",
    "    max_depth=8,\n",
    "    verbose=-1\n",
    ")\n",
    "#     random_state = 0,\n",
    "#     n_estimators=435,\n",
    "#     num_leaves=35,\n",
    "#     max_depth=8,\n",
    "#     verbose=-1,\n",
    "# #     max_bin=550\n",
    "\n",
    "# lgbm_pipe = make_pipeline(StandardScaler(), lgbm_model)\n",
    "lgbm_model.fit(x_train,y_train )"
   ],
   "metadata": {
    "collapsed": false,
    "pycharm": {
     "name": "#%%\n"
    }
   }
  },
  {
   "cell_type": "code",
   "execution_count": 10,
   "outputs": [],
   "source": [
    "import seaborn as sns; sns.set_theme()\n",
    "import matplotlib.pyplot as plt\n",
    "from sklearn.metrics import confusion_matrix\n",
    "from sklearn.metrics import accuracy_score"
   ],
   "metadata": {
    "collapsed": false,
    "pycharm": {
     "name": "#%%\n"
    }
   }
  },
  {
   "cell_type": "code",
   "execution_count": 11,
   "outputs": [],
   "source": [
    "def scoring(model,x_test,y_test):\n",
    "    predict = model.predict(x_test)\n",
    "    print('Accuracy: ')\n",
    "    print('{}'.format(accuracy_score(y_test, predict)))\n",
    "    print()\n",
    "\n",
    "    cf_matrix = confusion_matrix(y_test, predict)\n",
    "    print(cf_matrix)\n",
    "    print()\n",
    "\n",
    "    ax= plt.subplot()\n",
    "    sns.heatmap(cf_matrix, annot=True, fmt='g')\n",
    "    ax.set_xlabel('Predicted labels');ax.set_ylabel('True labels');\n",
    "    ax.set_title('Confusion Matrix');"
   ],
   "metadata": {
    "collapsed": false,
    "pycharm": {
     "name": "#%%\n"
    }
   }
  },
  {
   "cell_type": "code",
   "execution_count": 12,
   "outputs": [
    {
     "name": "stdout",
     "output_type": "stream",
     "text": [
      "Accuracy: \n",
      "0.9770114942528736\n",
      "\n",
      "[[530   2]\n",
      " [ 14 150]]\n",
      "\n"
     ]
    },
    {
     "data": {
      "text/plain": "<Figure size 432x288 with 2 Axes>",
      "image/png": "[encoded data removed]"
     },
     "metadata": {},
     "output_type": "display_data"
    }
   ],
   "source": [
    "scoring(lgbm_model,x_test,y_test)"
   ],
   "metadata": {
    "collapsed": false,
    "pycharm": {
     "name": "#%%\n"
    }
   }
  },
  {
   "cell_type": "code",
   "execution_count": 14,
   "outputs": [],
   "source": [
    "df_sample = pd.read_csv('sample_submission.csv')"
   ],
   "metadata": {
    "collapsed": false,
    "pycharm": {
     "name": "#%%\n"
    }
   }
  },
  {
   "cell_type": "code",
   "execution_count": 15,
   "outputs": [
    {
     "data": {
      "text/plain": "   customer_id Churn\n0         3322    No\n1         3323    No\n2         3324   Yes\n3         3325   Yes\n4         3326   Yes",
      "text/html": "<div>\n<style scoped>\n    .dataframe tbody tr th:only-of-type {\n        vertical-align: middle;\n    }\n\n    .dataframe tbody tr th {\n        vertical-align: top;\n    }\n\n    .dataframe thead th {\n        text-align: right;\n    }\n</style>\n<table border=\"1\" class=\"dataframe\">\n  <thead>\n    <tr style=\"text-align: right;\">\n      <th></th>\n      <th>customer_id</th>\n      <th>Churn</th>\n    </tr>\n  </thead>\n  <tbody>\n    <tr>\n      <th>0</th>\n      <td>3322</td>\n      <td>No</td>\n    </tr>\n    <tr>\n      <th>1</th>\n      <td>3323</td>\n      <td>No</td>\n    </tr>\n    <tr>\n      <th>2</th>\n      <td>3324</td>\n      <td>Yes</td>\n    </tr>\n    <tr>\n      <th>3</th>\n      <td>3325</td>\n      <td>Yes</td>\n    </tr>\n    <tr>\n      <th>4</th>\n      <td>3326</td>\n      <td>Yes</td>\n    </tr>\n  </tbody>\n</table>\n</div>"
     },
     "execution_count": 15,
     "metadata": {},
     "output_type": "execute_result"
    }
   ],
   "source": [
    "df_sample[\"Churn\"] =lgbm_model.predict(df_test[x_columns])\n",
    "df_sample.Churn.replace( 0,'No', inplace=True)\n",
    "df_sample.Churn.replace( 1,'Yes', inplace=True)\n",
    "df_sample.to_csv(\"submit_14.csv\",index=False)\n",
    "df_sample.head()"
   ],
   "metadata": {
    "collapsed": false,
    "pycharm": {
     "name": "#%%\n"
    }
   }
  },
  {
   "cell_type": "code",
   "execution_count": null,
   "outputs": [],
   "source": [],
   "metadata": {
    "collapsed": false,
    "pycharm": {
     "name": "#%%\n"
    }
   }
  }
 ],
 "metadata": {
  "kernelspec": {
   "display_name": "Python 3",
   "language": "python",
   "name": "python3"
  },
  "language_info": {
   "codemirror_mode": {
    "name": "ipython",
    "version": 2
   },
   "file_extension": ".py",
   "mimetype": "text/x-python",
   "name": "python",
   "nbconvert_exporter": "python",
   "pygments_lexer": "ipython2",
   "version": "2.7.6"
  }
 },
 "nbformat": 4,
 "nbformat_minor": 0
}