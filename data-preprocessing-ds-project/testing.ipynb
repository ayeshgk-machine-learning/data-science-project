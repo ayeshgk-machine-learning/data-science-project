{
 "cells": [
  {
   "cell_type": "code",
   "execution_count": 28,
   "metadata": {
    "collapsed": true
   },
   "outputs": [],
   "source": [
    "import numpy as np\n",
    "import pandas as pd\n",
    "from sklearn.linear_model import LinearRegression"
   ]
  },
  {
   "cell_type": "code",
   "execution_count": 29,
   "outputs": [],
   "source": [
    "df_train = pd.read_csv('Train_Dataset_190649F.csv')\n",
    "df_test = pd.read_csv('Test_Dataset_190649F.csv')"
   ],
   "metadata": {
    "collapsed": false,
    "pycharm": {
     "name": "#%%\n"
    }
   }
  },
  {
   "cell_type": "code",
   "execution_count": 30,
   "outputs": [
    {
     "data": {
      "text/plain": "customer_id               0\naccount_length            0\nlocation_code             0\nintertiol_plan            0\nvoice_mail_plan           0\nnumber_vm_messages        0\ntotal_day_min             0\ntotal_day_calls           0\ntotal_day_charge          0\ntotal_eve_min             0\ntotal_eve_calls           0\ntotal_eve_charge          0\ntotal_night_minutes       0\ntotal_night_calls         0\ntotal_night_charge        0\ntotal_intl_minutes        0\ntotal_intl_calls          0\ntotal_intl_charge         0\ncustomer_service_calls    0\nChurn                     0\ndtype: int64"
     },
     "execution_count": 30,
     "metadata": {},
     "output_type": "execute_result"
    }
   ],
   "source": [
    "df_train.isnull().sum()"
   ],
   "metadata": {
    "collapsed": false,
    "pycharm": {
     "name": "#%%\n"
    }
   }
  },
  {
   "cell_type": "code",
   "execution_count": 31,
   "outputs": [
    {
     "data": {
      "text/plain": "customer_id               0\naccount_length            0\nlocation_code             0\nintertiol_plan            0\nvoice_mail_plan           0\nnumber_vm_messages        0\ntotal_day_min             0\ntotal_day_calls           0\ntotal_day_charge          0\ntotal_eve_min             0\ntotal_eve_calls           0\ntotal_eve_charge          0\ntotal_night_minutes       0\ntotal_night_calls         0\ntotal_night_charge        0\ntotal_intl_minutes        0\ntotal_intl_calls          0\ntotal_intl_charge         0\ncustomer_service_calls    0\ndtype: int64"
     },
     "execution_count": 31,
     "metadata": {},
     "output_type": "execute_result"
    }
   ],
   "source": [
    "df_test.isnull().sum()"
   ],
   "metadata": {
    "collapsed": false,
    "pycharm": {
     "name": "#%%\n"
    }
   }
  },
  {
   "cell_type": "code",
   "execution_count": 32,
   "outputs": [],
   "source": [
    "df_train_2 = pd.read_csv('Train_Dataset.csv')\n",
    "df_test_2 = pd.read_csv('Test_Dataset.csv')"
   ],
   "metadata": {
    "collapsed": false,
    "pycharm": {
     "name": "#%%\n"
    }
   }
  },
  {
   "cell_type": "code",
   "execution_count": 33,
   "outputs": [
    {
     "data": {
      "text/plain": "customer_id                  0\naccount_length               2\nlocation_code                0\nintertiol_plan               3\nvoice_mail_plan              6\nnumber_vm_messages           3\ntotal_day_min                1\ntotal_day_calls              3\ntotal_day_charge             5\ntotal_eve_min                3\ntotal_eve_calls              4\ntotal_eve_charge             8\ntotal_night_minutes          2\ntotal_night_calls            5\ntotal_night_charge           5\ntotal_intl_minutes           2\ntotal_intl_calls             3\ntotal_intl_charge            5\ncustomer_service_calls       1\nChurn                        5\nUnnamed: 20               2321\ndtype: int64"
     },
     "execution_count": 33,
     "metadata": {},
     "output_type": "execute_result"
    }
   ],
   "source": [
    "df_train_2 .isnull().sum()"
   ],
   "metadata": {
    "collapsed": false,
    "pycharm": {
     "name": "#%%\n"
    }
   }
  },
  {
   "cell_type": "code",
   "execution_count": 34,
   "outputs": [
    {
     "data": {
      "text/plain": "customer_id                  0\naccount_length               0\nlocation_code                2\nintertiol_plan               4\nvoice_mail_plan              4\nnumber_vm_messages           1\ntotal_day_min                3\ntotal_day_calls              3\ntotal_day_charge             4\ntotal_eve_min                2\ntotal_eve_calls              0\ntotal_eve_charge             9\ntotal_night_minutes          3\ntotal_night_calls            2\ntotal_night_charge           2\ntotal_intl_minutes           2\ntotal_intl_calls             3\ntotal_intl_charge            0\ncustomer_service_calls       1\nUnnamed: 19               1500\nUnnamed: 20               1500\ndtype: int64"
     },
     "execution_count": 34,
     "metadata": {},
     "output_type": "execute_result"
    }
   ],
   "source": [
    "df_test_2 .isnull().sum()"
   ],
   "metadata": {
    "collapsed": false,
    "pycharm": {
     "name": "#%%\n"
    }
   }
  },
  {
   "cell_type": "code",
   "execution_count": 35,
   "outputs": [],
   "source": [
    "def drop_columns(df, columns):\n",
    "    df.drop(columns, axis=1, inplace=True, errors='ignore')"
   ],
   "metadata": {
    "collapsed": false,
    "pycharm": {
     "name": "#%%\n"
    }
   }
  },
  {
   "cell_type": "code",
   "execution_count": 36,
   "outputs": [],
   "source": [
    "drop_features = ['customer_id', 'Unnamed: 19', 'Unnamed: 20']\n",
    "drop_columns(df_train, drop_features)\n",
    "drop_columns(df_test, drop_features)"
   ],
   "metadata": {
    "collapsed": false,
    "pycharm": {
     "name": "#%%\n"
    }
   }
  },
  {
   "cell_type": "code",
   "execution_count": 37,
   "outputs": [
    {
     "data": {
      "text/plain": "0"
     },
     "execution_count": 37,
     "metadata": {},
     "output_type": "execute_result"
    }
   ],
   "source": [
    "df_train.duplicated().sum()"
   ],
   "metadata": {
    "collapsed": false,
    "pycharm": {
     "name": "#%%\n"
    }
   }
  },
  {
   "cell_type": "code",
   "execution_count": 38,
   "outputs": [
    {
     "data": {
      "text/plain": "0"
     },
     "execution_count": 38,
     "metadata": {},
     "output_type": "execute_result"
    }
   ],
   "source": [
    "df_test.duplicated().sum()"
   ],
   "metadata": {
    "collapsed": false,
    "pycharm": {
     "name": "#%%\n"
    }
   }
  },
  {
   "cell_type": "code",
   "execution_count": 39,
   "outputs": [
    {
     "data": {
      "text/plain": "Index(['account_length', 'location_code', 'intertiol_plan', 'voice_mail_plan',\n       'number_vm_messages', 'total_day_min', 'total_day_calls',\n       'total_day_charge', 'total_eve_min', 'total_eve_calls',\n       'total_eve_charge', 'total_night_minutes', 'total_night_calls',\n       'total_night_charge', 'total_intl_minutes', 'total_intl_calls',\n       'total_intl_charge', 'customer_service_calls', 'Churn'],\n      dtype='object')"
     },
     "execution_count": 39,
     "metadata": {},
     "output_type": "execute_result"
    }
   ],
   "source": [
    "df_train.columns"
   ],
   "metadata": {
    "collapsed": false,
    "pycharm": {
     "name": "#%%\n"
    }
   }
  },
  {
   "cell_type": "code",
   "execution_count": 40,
   "outputs": [],
   "source": [
    "drop_columns(df_train_2, drop_features)\n",
    "drop_columns(df_test_2, drop_features)"
   ],
   "metadata": {
    "collapsed": false,
    "pycharm": {
     "name": "#%%\n"
    }
   }
  },
  {
   "cell_type": "code",
   "execution_count": 41,
   "outputs": [
    {
     "data": {
      "text/plain": "4"
     },
     "execution_count": 41,
     "metadata": {},
     "output_type": "execute_result"
    }
   ],
   "source": [
    "df_train_2.duplicated().sum()"
   ],
   "metadata": {
    "collapsed": false,
    "pycharm": {
     "name": "#%%\n"
    }
   }
  },
  {
   "cell_type": "code",
   "execution_count": 42,
   "outputs": [
    {
     "data": {
      "text/plain": "0"
     },
     "execution_count": 42,
     "metadata": {},
     "output_type": "execute_result"
    }
   ],
   "source": [
    "df_test_2.duplicated().sum()"
   ],
   "metadata": {
    "collapsed": false,
    "pycharm": {
     "name": "#%%\n"
    }
   }
  },
  {
   "cell_type": "code",
   "execution_count": 42,
   "outputs": [],
   "source": [],
   "metadata": {
    "collapsed": false,
    "pycharm": {
     "name": "#%%\n"
    }
   }
  }
 ],
 "metadata": {
  "kernelspec": {
   "display_name": "Python 3",
   "language": "python",
   "name": "python3"
  },
  "language_info": {
   "codemirror_mode": {
    "name": "ipython",
    "version": 2
   },
   "file_extension": ".py",
   "mimetype": "text/x-python",
   "name": "python",
   "nbconvert_exporter": "python",
   "pygments_lexer": "ipython2",
   "version": "2.7.6"
  }
 },
 "nbformat": 4,
 "nbformat_minor": 0
}